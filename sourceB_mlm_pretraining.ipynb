{
 "cells": [
  {
   "cell_type": "code",
   "execution_count": 1,
   "metadata": {},
   "outputs": [],
   "source": [
    "from datasets import load_dataset, Dataset\n",
    "from lightning.pytorch.callbacks import EarlyStopping, ModelCheckpoint\n",
    "from lightning.pytorch.core.module import LightningModule\n",
    "from lightning.pytorch.trainer import Trainer\n",
    "from lightning.pytorch.tuner import Tuner\n",
    "from lightning.pytorch.loggers.csv_logs import CSVLogger\n",
    "import pandas as pd\n",
    "import pytorch_lightning as pl\n",
    "import torch\n",
    "from tqdm.auto import tqdm\n",
    "from torch.utils.data import DataLoader\n",
    "from torch import nn\n",
    "from torch.optim import AdamW\n",
    "from transformers import AutoModelForMaskedLM, AutoModelForSequenceClassification, AutoTokenizer, get_cosine_schedule_with_warmup"
   ]
  },
  {
   "cell_type": "code",
   "execution_count": 31,
   "metadata": {},
   "outputs": [
    {
     "name": "stderr",
     "output_type": "stream",
     "text": [
      "Seed set to 42\n"
     ]
    }
   ],
   "source": [
    "RANDOM_SEED = 42\n",
    "BATCH_SIZE = 4\n",
    "GRADIENT_ACC= 8\n",
    "OBJECTIVE = \"mlm\"\n",
    "VARIANT = \"large\"\n",
    "TOKENIZER_NAME = f\"neuralmind/bert-{VARIANT}-portuguese-cased\"\n",
    "MODEL_NAME =  f\"neuralmind/bert-{VARIANT}-portuguese-cased\"\n",
    "EXPERIMENT_NAME = f\"enem_essay_score_{OBJECTIVE}_bert_{VARIANT}_finetuning\"\n",
    "\n",
    "pl.seed_everything(RANDOM_SEED)\n",
    "torch.set_float32_matmul_precision('medium')"
   ]
  },
  {
   "cell_type": "code",
   "execution_count": 32,
   "metadata": {},
   "outputs": [],
   "source": [
    "dataset = load_dataset(\"kamel-usp/aes_enem_dataset\", \"sourceB\", cache_dir=\"/tmp/aes_enem\")"
   ]
  },
  {
   "cell_type": "code",
   "execution_count": 33,
   "metadata": {},
   "outputs": [],
   "source": [
    "tokenizer = AutoTokenizer.from_pretrained(TOKENIZER_NAME, use_fast=True)\n",
    "tokenized_dataset = tokenizer(dataset[\"full\"][\"essay_text\"], return_tensors='pt', truncation=True, padding='max_length', max_length=512) \n",
    "tokenized_dataset = Dataset.from_dict(tokenized_dataset)"
   ]
  },
  {
   "cell_type": "code",
   "execution_count": 34,
   "metadata": {},
   "outputs": [
    {
     "data": {
      "text/plain": [
       "(324, 324)"
      ]
     },
     "execution_count": 34,
     "metadata": {},
     "output_type": "execute_result"
    }
   ],
   "source": [
    "split_data = tokenized_dataset.train_test_split(test_size=0.1)\n",
    "train_dataset = split_data[\"train\"].with_format(\"torch\")\n",
    "val_dataset = split_data[\"test\"].with_format(\"torch\")\n",
    "dataset_train = DataLoader(\n",
    "    train_dataset, batch_size=BATCH_SIZE, shuffle=True\n",
    ")\n",
    "dataset_val = DataLoader(val_dataset, batch_size=BATCH_SIZE, shuffle=False)\n",
    "len(dataset_val)*BATCH_SIZE, len(dataset_val)*BATCH_SIZE"
   ]
  },
  {
   "cell_type": "code",
   "execution_count": 35,
   "metadata": {},
   "outputs": [
    {
     "data": {
      "application/vnd.jupyter.widget-view+json": {
       "model_id": "ad0a0473a7c14e2b9f9661c9c28f3d87",
       "version_major": 2,
       "version_minor": 0
      },
      "text/plain": [
       "config.json:   0%|          | 0.00/865 [00:00<?, ?B/s]"
      ]
     },
     "metadata": {},
     "output_type": "display_data"
    },
    {
     "data": {
      "application/vnd.jupyter.widget-view+json": {
       "model_id": "5f67d96158374bd6ab4766b3eea0c73d",
       "version_major": 2,
       "version_minor": 0
      },
      "text/plain": [
       "model.safetensors:   0%|          | 0.00/1.34G [00:00<?, ?B/s]"
      ]
     },
     "metadata": {},
     "output_type": "display_data"
    },
    {
     "data": {
      "application/vnd.jupyter.widget-view+json": {
       "model_id": "1b27f260099f4d43a67cf1ce706044ea",
       "version_major": 2,
       "version_minor": 0
      },
      "text/plain": [
       "generation_config.json:   0%|          | 0.00/90.0 [00:00<?, ?B/s]"
      ]
     },
     "metadata": {},
     "output_type": "display_data"
    }
   ],
   "source": [
    "model = AutoModelForMaskedLM.from_pretrained(\n",
    "            MODEL_NAME, \n",
    "            cache_dir=\"/tmp/\", \n",
    "        )"
   ]
  },
  {
   "cell_type": "code",
   "execution_count": 36,
   "metadata": {},
   "outputs": [],
   "source": [
    "def calculate_pseudo_perplexity(model, dataloader):\n",
    "    model = model.to('cuda')\n",
    "    model.eval()  # Set the model to evaluation mode\n",
    "    total_loss = 0.0\n",
    "    total_count = 0\n",
    "\n",
    "    with torch.no_grad():\n",
    "        for batch in tqdm(dataloader, desc=\"Computing pseudo-perplexity\"):\n",
    "            # Move batch tensors to the same device as the model\n",
    "            input_ids = batch['input_ids'].to('cuda')\n",
    "            token_type_ids = batch['token_type_ids'].to('cuda')\n",
    "            attention_mask = batch['attention_mask'].to('cuda')\n",
    "            \n",
    "            # Create masks - mask 15% of tokens for MLM\n",
    "            probability_matrix = torch.full(input_ids.shape, 0.15).to('cuda')\n",
    "            masked_indices = torch.bernoulli(probability_matrix).bool()\n",
    "            original_input_ids = input_ids.clone()\n",
    "            input_ids[masked_indices] = tokenizer.convert_tokens_to_ids('[MASK]')\n",
    "\n",
    "            # Compute the MLM Loss\n",
    "            outputs = model(input_ids, token_type_ids=token_type_ids, attention_mask=attention_mask, labels=original_input_ids)\n",
    "            loss = outputs.loss\n",
    "\n",
    "            total_loss += loss.item() * input_ids.size(0)\n",
    "            total_count += input_ids.size(0)\n",
    "\n",
    "    # Average the loss over all tokens\n",
    "    average_loss = total_loss / total_count\n",
    "\n",
    "    # Compute the pseudo-perplexity\n",
    "    perplexity = torch.exp(torch.tensor(average_loss))\n",
    "\n",
    "    return perplexity.item()"
   ]
  },
  {
   "cell_type": "code",
   "execution_count": 37,
   "metadata": {},
   "outputs": [
    {
     "data": {
      "application/vnd.jupyter.widget-view+json": {
       "model_id": "941f0a9a9ad442f2b49b859bdd6cc0ac",
       "version_major": 2,
       "version_minor": 0
      },
      "text/plain": [
       "Computing pseudo-perplexity:   0%|          | 0/81 [00:00<?, ?it/s]"
      ]
     },
     "metadata": {},
     "output_type": "display_data"
    },
    {
     "name": "stdout",
     "output_type": "stream",
     "text": [
      "Initial Perplexity on validation set: 1.17\n"
     ]
    }
   ],
   "source": [
    "mlm_perplexity = calculate_pseudo_perplexity(model, dataset_val)\n",
    "print(f\"Initial Perplexity on validation set: {mlm_perplexity:.2f}\")"
   ]
  },
  {
   "cell_type": "code",
   "execution_count": 9,
   "metadata": {},
   "outputs": [],
   "source": [
    "class LightningGradePredictor(LightningModule):\n",
    "    def __init__(self, model: nn.Module, learning_rate=0.001, num_warmup_steps=None, num_training_steps=None):\n",
    "        super(LightningGradePredictor, self).__init__()\n",
    "        self.model = model\n",
    "        self.learning_rate = learning_rate\n",
    "        self.num_warmup_steps = num_warmup_steps\n",
    "        self.num_training_steps = num_training_steps\n",
    "        self.save_hyperparameters(ignore=['model', 'loss_function'])\n",
    "        self.training_step_loss = []\n",
    "        self.validation_step_loss = []\n",
    "\n",
    "    def forward(self, input_ids, attention_mask, token_type_ids, labels):\n",
    "        return self.model(input_ids=input_ids, token_type_ids=token_type_ids, attention_mask=attention_mask, labels=labels)\n",
    "\n",
    "    def training_step(self, batch, batch_idx):\n",
    "        input_ids, attention_mask, token_type_ids = batch[\"input_ids\"], batch[\"attention_mask\"], batch[\"token_type_ids\"]\n",
    "        probability_matrix = torch.full(input_ids.shape, 0.15).to('cuda')\n",
    "        masked_indices = torch.bernoulli(probability_matrix).bool()\n",
    "        original_input_ids = input_ids.clone()\n",
    "        input_ids[masked_indices] = tokenizer.convert_tokens_to_ids('[MASK]')\n",
    "\n",
    "        # Compute the MLM Loss\n",
    "        outputs = model(input_ids, token_type_ids=token_type_ids, attention_mask=attention_mask, labels=original_input_ids)\n",
    "        loss = outputs.loss\n",
    "        self.log('train_loss', loss)\n",
    "        self.training_step_loss.append(loss)\n",
    "        optimizer = self.optimizers()\n",
    "        if isinstance(optimizer, list):\n",
    "            optimizer = optimizer[0]\n",
    "        lr_current = optimizer.optimizer.param_groups[0]['lr']\n",
    "        self.log('current_lr', lr_current)\n",
    "        return loss\n",
    "    \n",
    "    def validation_step(self, batch, batch_idx):\n",
    "        input_ids, attention_mask, token_type_ids = batch[\"input_ids\"], batch[\"attention_mask\"], batch[\"token_type_ids\"]\n",
    "        probability_matrix = torch.full(input_ids.shape, 0.15).to('cuda')\n",
    "        masked_indices = torch.bernoulli(probability_matrix).bool()\n",
    "        original_input_ids = input_ids.clone()\n",
    "        input_ids[masked_indices] = tokenizer.convert_tokens_to_ids('[MASK]')\n",
    "\n",
    "        # Compute the MLM Loss\n",
    "        outputs = model(input_ids, token_type_ids=token_type_ids, attention_mask=attention_mask, labels=original_input_ids)\n",
    "        loss = outputs.loss\n",
    "        self.log('val_loss', loss)\n",
    "        self.validation_step_loss.append(loss)\n",
    "        return loss\n",
    "\n",
    "    def configure_optimizers(self):\n",
    "        optimizer = AdamW(self.parameters(), lr=self.learning_rate, weight_decay=0.01)\n",
    "\n",
    "        scheduler = get_cosine_schedule_with_warmup(\n",
    "            optimizer,\n",
    "            num_warmup_steps=self.num_warmup_steps,\n",
    "            num_training_steps=self.num_training_steps\n",
    "        )\n",
    "\n",
    "        return [optimizer], [{\"scheduler\": scheduler, \"interval\": \"step\"}]"
   ]
  },
  {
   "cell_type": "code",
   "execution_count": 10,
   "metadata": {},
   "outputs": [],
   "source": [
    "from IPython.display import display\n",
    "from lightning.pytorch.callbacks import Callback\n",
    "\n",
    "class EpochEndCallback(Callback):\n",
    "    def __init__(self):\n",
    "        self.metrics_df = pd.DataFrame(\n",
    "            columns=['Epoch', 'Train Loss', 'Validation Loss', 'Train Perplexity', 'Validation Perplexity'])\n",
    "        self.device = torch.device(\"cuda\" if torch.cuda.is_available() else \"cpu\")\n",
    "    \n",
    "    def on_train_epoch_end(self, trainer, pl_module):\n",
    "        current_epoch = trainer.current_epoch\n",
    "        # Metrics for training data\n",
    "        train_dataloader = trainer.train_dataloader\n",
    "        val_dataloader = trainer.val_dataloaders\n",
    "        \n",
    "        epoch_train_loss_mean = torch.stack(pl_module.training_step_loss).mean()\n",
    "        epoch_val_loss_mean = torch.stack(pl_module.validation_step_loss).mean()\n",
    "        pl_module.training_step_loss.clear()\n",
    "        pl_module.validation_step_loss.clear()\n",
    "        model.eval()\n",
    "        train_perplexity = calculate_pseudo_perplexity(model, train_dataloader)\n",
    "        val_perplexity = calculate_pseudo_perplexity(model, val_dataloader)\n",
    "        pl_module.log('val_perplexity', val_perplexity)\n",
    "\n",
    "        new_row = {'Epoch': current_epoch, \n",
    "                    'Train Loss': epoch_train_loss_mean.cpu().detach().numpy(),\n",
    "                    'Validation Loss': epoch_val_loss_mean.cpu().detach().numpy(),\n",
    "                    'Train Perplexity': train_perplexity,\n",
    "                    'Validation Perplexity': val_perplexity\n",
    "                    }\n",
    "        new_row = pd.Series(new_row).to_frame().T\n",
    "        self.metrics_df = pd.concat([self.metrics_df, new_row])\n",
    "        display(self.metrics_df)\n"
   ]
  },
  {
   "cell_type": "code",
   "execution_count": 11,
   "metadata": {},
   "outputs": [],
   "source": [
    "early_stop_callback = EarlyStopping(monitor=\"val_perplexity\", patience=3, verbose=True, mode=\"min\")\n",
    "checkpoint_callback = ModelCheckpoint(save_top_k=1, monitor=\"val_perplexity\", mode=\"min\")"
   ]
  },
  {
   "cell_type": "code",
   "execution_count": 12,
   "metadata": {},
   "outputs": [
    {
     "name": "stderr",
     "output_type": "stream",
     "text": [
      "Using 16bit Automatic Mixed Precision (AMP)\n",
      "GPU available: True (cuda), used: True\n",
      "TPU available: False, using: 0 TPU cores\n",
      "IPU available: False, using: 0 IPUs\n",
      "HPU available: False, using: 0 HPUs\n"
     ]
    }
   ],
   "source": [
    "NUM_EPOCHS = 100\n",
    "num_training_steps = NUM_EPOCHS * len(dataset_train)\n",
    "warmup_steps = int(num_training_steps * 0.1)\n",
    "logger = CSVLogger(\"model_logs\", name=\"enem_self_supervised\")\n",
    "steps_per_epoch = num_training_steps//NUM_EPOCHS\n",
    "model.train()\n",
    "trainer = Trainer(\n",
    "    max_epochs=NUM_EPOCHS, \n",
    "    log_every_n_steps=steps_per_epoch, \n",
    "    logger=logger, \n",
    "    callbacks=[EpochEndCallback(), early_stop_callback, checkpoint_callback],\n",
    "    precision='16-mixed',\n",
    "    accumulate_grad_batches=GRADIENT_ACC\n",
    ")\n",
    "ligthning_model = LightningGradePredictor(model, \n",
    "                    num_training_steps=num_training_steps,\n",
    "                    num_warmup_steps=warmup_steps\n",
    "                    )"
   ]
  },
  {
   "cell_type": "code",
   "execution_count": 13,
   "metadata": {},
   "outputs": [
    {
     "name": "stderr",
     "output_type": "stream",
     "text": [
      "LOCAL_RANK: 0 - CUDA_VISIBLE_DEVICES: [0]\n"
     ]
    },
    {
     "name": "stderr",
     "output_type": "stream",
     "text": [
      "/home/andrebarbosa/miniconda3/envs/aes_enem/lib/python3.11/site-packages/lightning/pytorch/trainer/connectors/data_connector.py:441: The 'train_dataloader' does not have many workers which may be a bottleneck. Consider increasing the value of the `num_workers` argument` to `num_workers=47` in the `DataLoader` to improve performance.\n",
      "/home/andrebarbosa/miniconda3/envs/aes_enem/lib/python3.11/site-packages/lightning/pytorch/trainer/connectors/data_connector.py:441: The 'val_dataloader' does not have many workers which may be a bottleneck. Consider increasing the value of the `num_workers` argument` to `num_workers=47` in the `DataLoader` to improve performance.\n"
     ]
    },
    {
     "data": {
      "application/vnd.jupyter.widget-view+json": {
       "model_id": "cbf94ad544d44b50b1f4c45cf41d8dc4",
       "version_major": 2,
       "version_minor": 0
      },
      "text/plain": [
       "Finding best initial lr:   0%|          | 0/100 [00:00<?, ?it/s]"
      ]
     },
     "metadata": {},
     "output_type": "display_data"
    },
    {
     "name": "stderr",
     "output_type": "stream",
     "text": [
      "/home/andrebarbosa/miniconda3/envs/aes_enem/lib/python3.11/site-packages/torch/optim/lr_scheduler.py:136: UserWarning: Detected call of `lr_scheduler.step()` before `optimizer.step()`. In PyTorch 1.1.0 and later, you should call them in the opposite order: `optimizer.step()` before `lr_scheduler.step()`.  Failure to do this will result in PyTorch skipping the first value of the learning rate schedule. See more details at https://pytorch.org/docs/stable/optim.html#how-to-adjust-learning-rate\n",
      "  warnings.warn(\"Detected call of `lr_scheduler.step()` before `optimizer.step()`. \"\n",
      "`Trainer.fit` stopped: `max_steps=100` reached.\n",
      "Learning rate set to 3.311311214825911e-05\n",
      "Restoring states from the checkpoint path at /home/andrebarbosa/aes_enem/.lr_find_9c075331-7b63-497c-8ced-4a2531ed7931.ckpt\n",
      "Restored all states from the checkpoint at /home/andrebarbosa/aes_enem/.lr_find_9c075331-7b63-497c-8ced-4a2531ed7931.ckpt\n"
     ]
    }
   ],
   "source": [
    "tuner = Tuner(trainer)\n",
    "lr_finder = tuner.lr_find(model=ligthning_model, \n",
    "                          train_dataloaders=dataset_train, \n",
    "                          val_dataloaders=dataset_val, num_training=100)"
   ]
  },
  {
   "cell_type": "code",
   "execution_count": 14,
   "metadata": {},
   "outputs": [
    {
     "data": {
      "image/png": "[encoded data removed]",
      "text/plain": [
       "<Figure size 640x480 with 1 Axes>"
      ]
     },
     "metadata": {},
     "output_type": "display_data"
    }
   ],
   "source": [
    "target_lr = lr_finder.suggestion()\n",
    "fig = lr_finder.plot(suggest=False)\n",
    "lrs = lr_finder.results[\"lr\"]\n",
    "losses = lr_finder.results[\"loss\"]\n",
    "nearest_lr = min(lrs, key=lambda x: abs(x - target_lr))\n",
    "index = lrs.index(nearest_lr)\n",
    "fig.axes[0].plot(lrs[index], losses[index], markersize=10, marker=\"o\", color=\"red\")\n",
    "fig.show()"
   ]
  },
  {
   "cell_type": "code",
   "execution_count": 15,
   "metadata": {},
   "outputs": [
    {
     "name": "stdout",
     "output_type": "stream",
     "text": [
      "LR chosen to be used: 3.311311214825911e-05\n"
     ]
    }
   ],
   "source": [
    "print(f\"LR chosen to be used: {lrs[index]}\")\n",
    "new_lr = lrs[index]"
   ]
  },
  {
   "cell_type": "code",
   "execution_count": 16,
   "metadata": {},
   "outputs": [
    {
     "name": "stderr",
     "output_type": "stream",
     "text": [
      "LOCAL_RANK: 0 - CUDA_VISIBLE_DEVICES: [0]\n",
      "\n",
      "  | Name  | Type            | Params\n",
      "------------------------------------------\n",
      "0 | model | BertForMaskedLM | 108 M \n",
      "------------------------------------------\n",
      "108 M     Trainable params\n",
      "0         Non-trainable params\n",
      "108 M     Total params\n",
      "435.818   Total estimated model params size (MB)\n"
     ]
    },
    {
     "data": {
      "application/vnd.jupyter.widget-view+json": {
       "model_id": "197cc0162fbc4062b067e5144069070c",
       "version_major": 2,
       "version_minor": 0
      },
      "text/plain": [
       "Sanity Checking: |          | 0/? [00:00<?, ?it/s]"
      ]
     },
     "metadata": {},
     "output_type": "display_data"
    },
    {
     "data": {
      "application/vnd.jupyter.widget-view+json": {
       "model_id": "24ce830a7cb641ceaa91d56b80565127",
       "version_major": 2,
       "version_minor": 0
      },
      "text/plain": [
       "Training: |          | 0/? [00:00<?, ?it/s]"
      ]
     },
     "metadata": {},
     "output_type": "display_data"
    },
    {
     "data": {
      "application/vnd.jupyter.widget-view+json": {
       "model_id": "a6c30d8a630947bbafe1450b2549c7b5",
       "version_major": 2,
       "version_minor": 0
      },
      "text/plain": [
       "Validation: |          | 0/? [00:00<?, ?it/s]"
      ]
     },
     "metadata": {},
     "output_type": "display_data"
    },
    {
     "data": {
      "application/vnd.jupyter.widget-view+json": {
       "model_id": "4fcf4b61487b47f6b4a719309a9247c5",
       "version_major": 2,
       "version_minor": 0
      },
      "text/plain": [
       "Computing pseudo-perplexity:   0%|          | 0/725 [00:00<?, ?it/s]"
      ]
     },
     "metadata": {},
     "output_type": "display_data"
    },
    {
     "data": {
      "application/vnd.jupyter.widget-view+json": {
       "model_id": "84329d8fd0fe44d8bb0059701769413a",
       "version_major": 2,
       "version_minor": 0
      },
      "text/plain": [
       "Computing pseudo-perplexity:   0%|          | 0/81 [00:00<?, ?it/s]"
      ]
     },
     "metadata": {},
     "output_type": "display_data"
    },
    {
     "data": {
      "text/html": [
       "<div>\n",
       "<style scoped>\n",
       "    .dataframe tbody tr th:only-of-type {\n",
       "        vertical-align: middle;\n",
       "    }\n",
       "\n",
       "    .dataframe tbody tr th {\n",
       "        vertical-align: top;\n",
       "    }\n",
       "\n",
       "    .dataframe thead th {\n",
       "        text-align: right;\n",
       "    }\n",
       "</style>\n",
       "<table border=\"1\" class=\"dataframe\">\n",
       "  <thead>\n",
       "    <tr style=\"text-align: right;\">\n",
       "      <th></th>\n",
       "      <th>Epoch</th>\n",
       "      <th>Train Loss</th>\n",
       "      <th>Validation Loss</th>\n",
       "      <th>Train Perplexity</th>\n",
       "      <th>Validation Perplexity</th>\n",
       "    </tr>\n",
       "  </thead>\n",
       "  <tbody>\n",
       "    <tr>\n",
       "      <th>0</th>\n",
       "      <td>0</td>\n",
       "      <td>9.712491</td>\n",
       "      <td>7.7386584</td>\n",
       "      <td>1945.368896</td>\n",
       "      <td>2410.320801</td>\n",
       "    </tr>\n",
       "  </tbody>\n",
       "</table>\n",
       "</div>"
      ],
      "text/plain": [
       "  Epoch Train Loss Validation Loss Train Perplexity Validation Perplexity\n",
       "0     0   9.712491       7.7386584      1945.368896           2410.320801"
      ]
     },
     "metadata": {},
     "output_type": "display_data"
    },
    {
     "name": "stderr",
     "output_type": "stream",
     "text": [
      "Metric val_perplexity improved. New best score: 2410.321\n"
     ]
    },
    {
     "data": {
      "application/vnd.jupyter.widget-view+json": {
       "model_id": "27945e6623064e5ebbfc2a4a0e26d0b0",
       "version_major": 2,
       "version_minor": 0
      },
      "text/plain": [
       "Validation: |          | 0/? [00:00<?, ?it/s]"
      ]
     },
     "metadata": {},
     "output_type": "display_data"
    },
    {
     "data": {
      "application/vnd.jupyter.widget-view+json": {
       "model_id": "61c333e1a8c04262abde419e0bd2743a",
       "version_major": 2,
       "version_minor": 0
      },
      "text/plain": [
       "Computing pseudo-perplexity:   0%|          | 0/725 [00:00<?, ?it/s]"
      ]
     },
     "metadata": {},
     "output_type": "display_data"
    },
    {
     "data": {
      "application/vnd.jupyter.widget-view+json": {
       "model_id": "41195876b5d64be7883b23e391782a3e",
       "version_major": 2,
       "version_minor": 0
      },
      "text/plain": [
       "Computing pseudo-perplexity:   0%|          | 0/81 [00:00<?, ?it/s]"
      ]
     },
     "metadata": {},
     "output_type": "display_data"
    },
    {
     "data": {
      "text/html": [
       "<div>\n",
       "<style scoped>\n",
       "    .dataframe tbody tr th:only-of-type {\n",
       "        vertical-align: middle;\n",
       "    }\n",
       "\n",
       "    .dataframe tbody tr th {\n",
       "        vertical-align: top;\n",
       "    }\n",
       "\n",
       "    .dataframe thead th {\n",
       "        text-align: right;\n",
       "    }\n",
       "</style>\n",
       "<table border=\"1\" class=\"dataframe\">\n",
       "  <thead>\n",
       "    <tr style=\"text-align: right;\">\n",
       "      <th></th>\n",
       "      <th>Epoch</th>\n",
       "      <th>Train Loss</th>\n",
       "      <th>Validation Loss</th>\n",
       "      <th>Train Perplexity</th>\n",
       "      <th>Validation Perplexity</th>\n",
       "    </tr>\n",
       "  </thead>\n",
       "  <tbody>\n",
       "    <tr>\n",
       "      <th>0</th>\n",
       "      <td>0</td>\n",
       "      <td>9.712491</td>\n",
       "      <td>7.7386584</td>\n",
       "      <td>1945.368896</td>\n",
       "      <td>2410.320801</td>\n",
       "    </tr>\n",
       "    <tr>\n",
       "      <th>0</th>\n",
       "      <td>1</td>\n",
       "      <td>5.2702804</td>\n",
       "      <td>3.4737139</td>\n",
       "      <td>25.196524</td>\n",
       "      <td>29.98979</td>\n",
       "    </tr>\n",
       "  </tbody>\n",
       "</table>\n",
       "</div>"
      ],
      "text/plain": [
       "  Epoch Train Loss Validation Loss Train Perplexity Validation Perplexity\n",
       "0     0   9.712491       7.7386584      1945.368896           2410.320801\n",
       "0     1  5.2702804       3.4737139        25.196524              29.98979"
      ]
     },
     "metadata": {},
     "output_type": "display_data"
    },
    {
     "name": "stderr",
     "output_type": "stream",
     "text": [
      "Metric val_perplexity improved by 2380.331 >= min_delta = 0.0. New best score: 29.990\n"
     ]
    },
    {
     "data": {
      "application/vnd.jupyter.widget-view+json": {
       "model_id": "e75558d336b84642b3ed3dfcb312f08a",
       "version_major": 2,
       "version_minor": 0
      },
      "text/plain": [
       "Validation: |          | 0/? [00:00<?, ?it/s]"
      ]
     },
     "metadata": {},
     "output_type": "display_data"
    },
    {
     "data": {
      "application/vnd.jupyter.widget-view+json": {
       "model_id": "d865d607806a4d9798a48c46b7f0c4dc",
       "version_major": 2,
       "version_minor": 0
      },
      "text/plain": [
       "Computing pseudo-perplexity:   0%|          | 0/725 [00:00<?, ?it/s]"
      ]
     },
     "metadata": {},
     "output_type": "display_data"
    },
    {
     "data": {
      "application/vnd.jupyter.widget-view+json": {
       "model_id": "6779093bd12f471182c32c46dc3e8ee1",
       "version_major": 2,
       "version_minor": 0
      },
      "text/plain": [
       "Computing pseudo-perplexity:   0%|          | 0/81 [00:00<?, ?it/s]"
      ]
     },
     "metadata": {},
     "output_type": "display_data"
    },
    {
     "data": {
      "text/html": [
       "<div>\n",
       "<style scoped>\n",
       "    .dataframe tbody tr th:only-of-type {\n",
       "        vertical-align: middle;\n",
       "    }\n",
       "\n",
       "    .dataframe tbody tr th {\n",
       "        vertical-align: top;\n",
       "    }\n",
       "\n",
       "    .dataframe thead th {\n",
       "        text-align: right;\n",
       "    }\n",
       "</style>\n",
       "<table border=\"1\" class=\"dataframe\">\n",
       "  <thead>\n",
       "    <tr style=\"text-align: right;\">\n",
       "      <th></th>\n",
       "      <th>Epoch</th>\n",
       "      <th>Train Loss</th>\n",
       "      <th>Validation Loss</th>\n",
       "      <th>Train Perplexity</th>\n",
       "      <th>Validation Perplexity</th>\n",
       "    </tr>\n",
       "  </thead>\n",
       "  <tbody>\n",
       "    <tr>\n",
       "      <th>0</th>\n",
       "      <td>0</td>\n",
       "      <td>9.712491</td>\n",
       "      <td>7.7386584</td>\n",
       "      <td>1945.368896</td>\n",
       "      <td>2410.320801</td>\n",
       "    </tr>\n",
       "    <tr>\n",
       "      <th>0</th>\n",
       "      <td>1</td>\n",
       "      <td>5.2702804</td>\n",
       "      <td>3.4737139</td>\n",
       "      <td>25.196524</td>\n",
       "      <td>29.98979</td>\n",
       "    </tr>\n",
       "    <tr>\n",
       "      <th>0</th>\n",
       "      <td>2</td>\n",
       "      <td>1.9089866</td>\n",
       "      <td>1.3087386</td>\n",
       "      <td>3.334974</td>\n",
       "      <td>3.636567</td>\n",
       "    </tr>\n",
       "  </tbody>\n",
       "</table>\n",
       "</div>"
      ],
      "text/plain": [
       "  Epoch Train Loss Validation Loss Train Perplexity Validation Perplexity\n",
       "0     0   9.712491       7.7386584      1945.368896           2410.320801\n",
       "0     1  5.2702804       3.4737139        25.196524              29.98979\n",
       "0     2  1.9089866       1.3087386         3.334974              3.636567"
      ]
     },
     "metadata": {},
     "output_type": "display_data"
    },
    {
     "name": "stderr",
     "output_type": "stream",
     "text": [
      "Metric val_perplexity improved by 26.353 >= min_delta = 0.0. New best score: 3.637\n"
     ]
    },
    {
     "data": {
      "application/vnd.jupyter.widget-view+json": {
       "model_id": "bcc8c2dfedd641848f07794355bc3dc5",
       "version_major": 2,
       "version_minor": 0
      },
      "text/plain": [
       "Validation: |          | 0/? [00:00<?, ?it/s]"
      ]
     },
     "metadata": {},
     "output_type": "display_data"
    },
    {
     "data": {
      "application/vnd.jupyter.widget-view+json": {
       "model_id": "363d6370af1242bfbc2d21e0573afeed",
       "version_major": 2,
       "version_minor": 0
      },
      "text/plain": [
       "Computing pseudo-perplexity:   0%|          | 0/725 [00:00<?, ?it/s]"
      ]
     },
     "metadata": {},
     "output_type": "display_data"
    },
    {
     "data": {
      "application/vnd.jupyter.widget-view+json": {
       "model_id": "d78deb4a959345ba996d79929e4d6ec7",
       "version_major": 2,
       "version_minor": 0
      },
      "text/plain": [
       "Computing pseudo-perplexity:   0%|          | 0/81 [00:00<?, ?it/s]"
      ]
     },
     "metadata": {},
     "output_type": "display_data"
    },
    {
     "data": {
      "text/html": [
       "<div>\n",
       "<style scoped>\n",
       "    .dataframe tbody tr th:only-of-type {\n",
       "        vertical-align: middle;\n",
       "    }\n",
       "\n",
       "    .dataframe tbody tr th {\n",
       "        vertical-align: top;\n",
       "    }\n",
       "\n",
       "    .dataframe thead th {\n",
       "        text-align: right;\n",
       "    }\n",
       "</style>\n",
       "<table border=\"1\" class=\"dataframe\">\n",
       "  <thead>\n",
       "    <tr style=\"text-align: right;\">\n",
       "      <th></th>\n",
       "      <th>Epoch</th>\n",
       "      <th>Train Loss</th>\n",
       "      <th>Validation Loss</th>\n",
       "      <th>Train Perplexity</th>\n",
       "      <th>Validation Perplexity</th>\n",
       "    </tr>\n",
       "  </thead>\n",
       "  <tbody>\n",
       "    <tr>\n",
       "      <th>0</th>\n",
       "      <td>0</td>\n",
       "      <td>9.712491</td>\n",
       "      <td>7.7386584</td>\n",
       "      <td>1945.368896</td>\n",
       "      <td>2410.320801</td>\n",
       "    </tr>\n",
       "    <tr>\n",
       "      <th>0</th>\n",
       "      <td>1</td>\n",
       "      <td>5.2702804</td>\n",
       "      <td>3.4737139</td>\n",
       "      <td>25.196524</td>\n",
       "      <td>29.98979</td>\n",
       "    </tr>\n",
       "    <tr>\n",
       "      <th>0</th>\n",
       "      <td>2</td>\n",
       "      <td>1.9089866</td>\n",
       "      <td>1.3087386</td>\n",
       "      <td>3.334974</td>\n",
       "      <td>3.636567</td>\n",
       "    </tr>\n",
       "    <tr>\n",
       "      <th>0</th>\n",
       "      <td>3</td>\n",
       "      <td>0.9772852</td>\n",
       "      <td>0.86348265</td>\n",
       "      <td>2.207242</td>\n",
       "      <td>2.317756</td>\n",
       "    </tr>\n",
       "  </tbody>\n",
       "</table>\n",
       "</div>"
      ],
      "text/plain": [
       "  Epoch Train Loss Validation Loss Train Perplexity Validation Perplexity\n",
       "0     0   9.712491       7.7386584      1945.368896           2410.320801\n",
       "0     1  5.2702804       3.4737139        25.196524              29.98979\n",
       "0     2  1.9089866       1.3087386         3.334974              3.636567\n",
       "0     3  0.9772852      0.86348265         2.207242              2.317756"
      ]
     },
     "metadata": {},
     "output_type": "display_data"
    },
    {
     "name": "stderr",
     "output_type": "stream",
     "text": [
      "Metric val_perplexity improved by 1.319 >= min_delta = 0.0. New best score: 2.318\n"
     ]
    },
    {
     "data": {
      "application/vnd.jupyter.widget-view+json": {
       "model_id": "c80c387f9cf94b338004aa26e781e767",
       "version_major": 2,
       "version_minor": 0
      },
      "text/plain": [
       "Validation: |          | 0/? [00:00<?, ?it/s]"
      ]
     },
     "metadata": {},
     "output_type": "display_data"
    },
    {
     "data": {
      "application/vnd.jupyter.widget-view+json": {
       "model_id": "1adf74f737854977add738b0ec2a4ba9",
       "version_major": 2,
       "version_minor": 0
      },
      "text/plain": [
       "Computing pseudo-perplexity:   0%|          | 0/725 [00:00<?, ?it/s]"
      ]
     },
     "metadata": {},
     "output_type": "display_data"
    },
    {
     "data": {
      "application/vnd.jupyter.widget-view+json": {
       "model_id": "84bc7540637944b6b107fbae57184e7d",
       "version_major": 2,
       "version_minor": 0
      },
      "text/plain": [
       "Computing pseudo-perplexity:   0%|          | 0/81 [00:00<?, ?it/s]"
      ]
     },
     "metadata": {},
     "output_type": "display_data"
    },
    {
     "data": {
      "text/html": [
       "<div>\n",
       "<style scoped>\n",
       "    .dataframe tbody tr th:only-of-type {\n",
       "        vertical-align: middle;\n",
       "    }\n",
       "\n",
       "    .dataframe tbody tr th {\n",
       "        vertical-align: top;\n",
       "    }\n",
       "\n",
       "    .dataframe thead th {\n",
       "        text-align: right;\n",
       "    }\n",
       "</style>\n",
       "<table border=\"1\" class=\"dataframe\">\n",
       "  <thead>\n",
       "    <tr style=\"text-align: right;\">\n",
       "      <th></th>\n",
       "      <th>Epoch</th>\n",
       "      <th>Train Loss</th>\n",
       "      <th>Validation Loss</th>\n",
       "      <th>Train Perplexity</th>\n",
       "      <th>Validation Perplexity</th>\n",
       "    </tr>\n",
       "  </thead>\n",
       "  <tbody>\n",
       "    <tr>\n",
       "      <th>0</th>\n",
       "      <td>0</td>\n",
       "      <td>9.712491</td>\n",
       "      <td>7.7386584</td>\n",
       "      <td>1945.368896</td>\n",
       "      <td>2410.320801</td>\n",
       "    </tr>\n",
       "    <tr>\n",
       "      <th>0</th>\n",
       "      <td>1</td>\n",
       "      <td>5.2702804</td>\n",
       "      <td>3.4737139</td>\n",
       "      <td>25.196524</td>\n",
       "      <td>29.98979</td>\n",
       "    </tr>\n",
       "    <tr>\n",
       "      <th>0</th>\n",
       "      <td>2</td>\n",
       "      <td>1.9089866</td>\n",
       "      <td>1.3087386</td>\n",
       "      <td>3.334974</td>\n",
       "      <td>3.636567</td>\n",
       "    </tr>\n",
       "    <tr>\n",
       "      <th>0</th>\n",
       "      <td>3</td>\n",
       "      <td>0.9772852</td>\n",
       "      <td>0.86348265</td>\n",
       "      <td>2.207242</td>\n",
       "      <td>2.317756</td>\n",
       "    </tr>\n",
       "    <tr>\n",
       "      <th>0</th>\n",
       "      <td>4</td>\n",
       "      <td>0.6957231</td>\n",
       "      <td>0.59553385</td>\n",
       "      <td>1.866667</td>\n",
       "      <td>2.007807</td>\n",
       "    </tr>\n",
       "  </tbody>\n",
       "</table>\n",
       "</div>"
      ],
      "text/plain": [
       "  Epoch Train Loss Validation Loss Train Perplexity Validation Perplexity\n",
       "0     0   9.712491       7.7386584      1945.368896           2410.320801\n",
       "0     1  5.2702804       3.4737139        25.196524              29.98979\n",
       "0     2  1.9089866       1.3087386         3.334974              3.636567\n",
       "0     3  0.9772852      0.86348265         2.207242              2.317756\n",
       "0     4  0.6957231      0.59553385         1.866667              2.007807"
      ]
     },
     "metadata": {},
     "output_type": "display_data"
    },
    {
     "name": "stderr",
     "output_type": "stream",
     "text": [
      "Metric val_perplexity improved by 0.310 >= min_delta = 0.0. New best score: 2.008\n"
     ]
    },
    {
     "data": {
      "application/vnd.jupyter.widget-view+json": {
       "model_id": "c170f8ef04a74eeb83cd1bf5929855e0",
       "version_major": 2,
       "version_minor": 0
      },
      "text/plain": [
       "Validation: |          | 0/? [00:00<?, ?it/s]"
      ]
     },
     "metadata": {},
     "output_type": "display_data"
    },
    {
     "data": {
      "application/vnd.jupyter.widget-view+json": {
       "model_id": "6d7a34b223ee4ae8b00b0bf6fbe21fa2",
       "version_major": 2,
       "version_minor": 0
      },
      "text/plain": [
       "Computing pseudo-perplexity:   0%|          | 0/725 [00:00<?, ?it/s]"
      ]
     },
     "metadata": {},
     "output_type": "display_data"
    },
    {
     "data": {
      "application/vnd.jupyter.widget-view+json": {
       "model_id": "382cf37a71c74fb289b392fe1c7bba76",
       "version_major": 2,
       "version_minor": 0
      },
      "text/plain": [
       "Computing pseudo-perplexity:   0%|          | 0/81 [00:00<?, ?it/s]"
      ]
     },
     "metadata": {},
     "output_type": "display_data"
    },
    {
     "data": {
      "text/html": [
       "<div>\n",
       "<style scoped>\n",
       "    .dataframe tbody tr th:only-of-type {\n",
       "        vertical-align: middle;\n",
       "    }\n",
       "\n",
       "    .dataframe tbody tr th {\n",
       "        vertical-align: top;\n",
       "    }\n",
       "\n",
       "    .dataframe thead th {\n",
       "        text-align: right;\n",
       "    }\n",
       "</style>\n",
       "<table border=\"1\" class=\"dataframe\">\n",
       "  <thead>\n",
       "    <tr style=\"text-align: right;\">\n",
       "      <th></th>\n",
       "      <th>Epoch</th>\n",
       "      <th>Train Loss</th>\n",
       "      <th>Validation Loss</th>\n",
       "      <th>Train Perplexity</th>\n",
       "      <th>Validation Perplexity</th>\n",
       "    </tr>\n",
       "  </thead>\n",
       "  <tbody>\n",
       "    <tr>\n",
       "      <th>0</th>\n",
       "      <td>0</td>\n",
       "      <td>9.712491</td>\n",
       "      <td>7.7386584</td>\n",
       "      <td>1945.368896</td>\n",
       "      <td>2410.320801</td>\n",
       "    </tr>\n",
       "    <tr>\n",
       "      <th>0</th>\n",
       "      <td>1</td>\n",
       "      <td>5.2702804</td>\n",
       "      <td>3.4737139</td>\n",
       "      <td>25.196524</td>\n",
       "      <td>29.98979</td>\n",
       "    </tr>\n",
       "    <tr>\n",
       "      <th>0</th>\n",
       "      <td>2</td>\n",
       "      <td>1.9089866</td>\n",
       "      <td>1.3087386</td>\n",
       "      <td>3.334974</td>\n",
       "      <td>3.636567</td>\n",
       "    </tr>\n",
       "    <tr>\n",
       "      <th>0</th>\n",
       "      <td>3</td>\n",
       "      <td>0.9772852</td>\n",
       "      <td>0.86348265</td>\n",
       "      <td>2.207242</td>\n",
       "      <td>2.317756</td>\n",
       "    </tr>\n",
       "    <tr>\n",
       "      <th>0</th>\n",
       "      <td>4</td>\n",
       "      <td>0.6957231</td>\n",
       "      <td>0.59553385</td>\n",
       "      <td>1.866667</td>\n",
       "      <td>2.007807</td>\n",
       "    </tr>\n",
       "    <tr>\n",
       "      <th>0</th>\n",
       "      <td>5</td>\n",
       "      <td>0.5585126</td>\n",
       "      <td>0.5009365</td>\n",
       "      <td>1.674152</td>\n",
       "      <td>1.633351</td>\n",
       "    </tr>\n",
       "  </tbody>\n",
       "</table>\n",
       "</div>"
      ],
      "text/plain": [
       "  Epoch Train Loss Validation Loss Train Perplexity Validation Perplexity\n",
       "0     0   9.712491       7.7386584      1945.368896           2410.320801\n",
       "0     1  5.2702804       3.4737139        25.196524              29.98979\n",
       "0     2  1.9089866       1.3087386         3.334974              3.636567\n",
       "0     3  0.9772852      0.86348265         2.207242              2.317756\n",
       "0     4  0.6957231      0.59553385         1.866667              2.007807\n",
       "0     5  0.5585126       0.5009365         1.674152              1.633351"
      ]
     },
     "metadata": {},
     "output_type": "display_data"
    },
    {
     "name": "stderr",
     "output_type": "stream",
     "text": [
      "Metric val_perplexity improved by 0.374 >= min_delta = 0.0. New best score: 1.633\n"
     ]
    },
    {
     "data": {
      "application/vnd.jupyter.widget-view+json": {
       "model_id": "d98af778c0b54df294954eca0baff900",
       "version_major": 2,
       "version_minor": 0
      },
      "text/plain": [
       "Validation: |          | 0/? [00:00<?, ?it/s]"
      ]
     },
     "metadata": {},
     "output_type": "display_data"
    },
    {
     "data": {
      "application/vnd.jupyter.widget-view+json": {
       "model_id": "a6775a13d2764a70a87906b8f2dd1464",
       "version_major": 2,
       "version_minor": 0
      },
      "text/plain": [
       "Computing pseudo-perplexity:   0%|          | 0/725 [00:00<?, ?it/s]"
      ]
     },
     "metadata": {},
     "output_type": "display_data"
    },
    {
     "data": {
      "application/vnd.jupyter.widget-view+json": {
       "model_id": "a094cca7ff2047c2a04fc9bf94cf83ee",
       "version_major": 2,
       "version_minor": 0
      },
      "text/plain": [
       "Computing pseudo-perplexity:   0%|          | 0/81 [00:00<?, ?it/s]"
      ]
     },
     "metadata": {},
     "output_type": "display_data"
    },
    {
     "data": {
      "text/html": [
       "<div>\n",
       "<style scoped>\n",
       "    .dataframe tbody tr th:only-of-type {\n",
       "        vertical-align: middle;\n",
       "    }\n",
       "\n",
       "    .dataframe tbody tr th {\n",
       "        vertical-align: top;\n",
       "    }\n",
       "\n",
       "    .dataframe thead th {\n",
       "        text-align: right;\n",
       "    }\n",
       "</style>\n",
       "<table border=\"1\" class=\"dataframe\">\n",
       "  <thead>\n",
       "    <tr style=\"text-align: right;\">\n",
       "      <th></th>\n",
       "      <th>Epoch</th>\n",
       "      <th>Train Loss</th>\n",
       "      <th>Validation Loss</th>\n",
       "      <th>Train Perplexity</th>\n",
       "      <th>Validation Perplexity</th>\n",
       "    </tr>\n",
       "  </thead>\n",
       "  <tbody>\n",
       "    <tr>\n",
       "      <th>0</th>\n",
       "      <td>0</td>\n",
       "      <td>9.712491</td>\n",
       "      <td>7.7386584</td>\n",
       "      <td>1945.368896</td>\n",
       "      <td>2410.320801</td>\n",
       "    </tr>\n",
       "    <tr>\n",
       "      <th>0</th>\n",
       "      <td>1</td>\n",
       "      <td>5.2702804</td>\n",
       "      <td>3.4737139</td>\n",
       "      <td>25.196524</td>\n",
       "      <td>29.98979</td>\n",
       "    </tr>\n",
       "    <tr>\n",
       "      <th>0</th>\n",
       "      <td>2</td>\n",
       "      <td>1.9089866</td>\n",
       "      <td>1.3087386</td>\n",
       "      <td>3.334974</td>\n",
       "      <td>3.636567</td>\n",
       "    </tr>\n",
       "    <tr>\n",
       "      <th>0</th>\n",
       "      <td>3</td>\n",
       "      <td>0.9772852</td>\n",
       "      <td>0.86348265</td>\n",
       "      <td>2.207242</td>\n",
       "      <td>2.317756</td>\n",
       "    </tr>\n",
       "    <tr>\n",
       "      <th>0</th>\n",
       "      <td>4</td>\n",
       "      <td>0.6957231</td>\n",
       "      <td>0.59553385</td>\n",
       "      <td>1.866667</td>\n",
       "      <td>2.007807</td>\n",
       "    </tr>\n",
       "    <tr>\n",
       "      <th>0</th>\n",
       "      <td>5</td>\n",
       "      <td>0.5585126</td>\n",
       "      <td>0.5009365</td>\n",
       "      <td>1.674152</td>\n",
       "      <td>1.633351</td>\n",
       "    </tr>\n",
       "    <tr>\n",
       "      <th>0</th>\n",
       "      <td>6</td>\n",
       "      <td>0.47072127</td>\n",
       "      <td>0.43331712</td>\n",
       "      <td>1.539256</td>\n",
       "      <td>1.560963</td>\n",
       "    </tr>\n",
       "  </tbody>\n",
       "</table>\n",
       "</div>"
      ],
      "text/plain": [
       "  Epoch  Train Loss Validation Loss Train Perplexity Validation Perplexity\n",
       "0     0    9.712491       7.7386584      1945.368896           2410.320801\n",
       "0     1   5.2702804       3.4737139        25.196524              29.98979\n",
       "0     2   1.9089866       1.3087386         3.334974              3.636567\n",
       "0     3   0.9772852      0.86348265         2.207242              2.317756\n",
       "0     4   0.6957231      0.59553385         1.866667              2.007807\n",
       "0     5   0.5585126       0.5009365         1.674152              1.633351\n",
       "0     6  0.47072127      0.43331712         1.539256              1.560963"
      ]
     },
     "metadata": {},
     "output_type": "display_data"
    },
    {
     "name": "stderr",
     "output_type": "stream",
     "text": [
      "Metric val_perplexity improved by 0.072 >= min_delta = 0.0. New best score: 1.561\n"
     ]
    },
    {
     "data": {
      "application/vnd.jupyter.widget-view+json": {
       "model_id": "b189e51c3b534462895dd43fc66625fa",
       "version_major": 2,
       "version_minor": 0
      },
      "text/plain": [
       "Validation: |          | 0/? [00:00<?, ?it/s]"
      ]
     },
     "metadata": {},
     "output_type": "display_data"
    },
    {
     "data": {
      "application/vnd.jupyter.widget-view+json": {
       "model_id": "c0ab5b7f438b405490a1ab6b1e64655b",
       "version_major": 2,
       "version_minor": 0
      },
      "text/plain": [
       "Computing pseudo-perplexity:   0%|          | 0/725 [00:00<?, ?it/s]"
      ]
     },
     "metadata": {},
     "output_type": "display_data"
    },
    {
     "data": {
      "application/vnd.jupyter.widget-view+json": {
       "model_id": "af09a4226be4444db1a61e5b43379039",
       "version_major": 2,
       "version_minor": 0
      },
      "text/plain": [
       "Computing pseudo-perplexity:   0%|          | 0/81 [00:00<?, ?it/s]"
      ]
     },
     "metadata": {},
     "output_type": "display_data"
    },
    {
     "data": {
      "text/html": [
       "<div>\n",
       "<style scoped>\n",
       "    .dataframe tbody tr th:only-of-type {\n",
       "        vertical-align: middle;\n",
       "    }\n",
       "\n",
       "    .dataframe tbody tr th {\n",
       "        vertical-align: top;\n",
       "    }\n",
       "\n",
       "    .dataframe thead th {\n",
       "        text-align: right;\n",
       "    }\n",
       "</style>\n",
       "<table border=\"1\" class=\"dataframe\">\n",
       "  <thead>\n",
       "    <tr style=\"text-align: right;\">\n",
       "      <th></th>\n",
       "      <th>Epoch</th>\n",
       "      <th>Train Loss</th>\n",
       "      <th>Validation Loss</th>\n",
       "      <th>Train Perplexity</th>\n",
       "      <th>Validation Perplexity</th>\n",
       "    </tr>\n",
       "  </thead>\n",
       "  <tbody>\n",
       "    <tr>\n",
       "      <th>0</th>\n",
       "      <td>0</td>\n",
       "      <td>9.712491</td>\n",
       "      <td>7.7386584</td>\n",
       "      <td>1945.368896</td>\n",
       "      <td>2410.320801</td>\n",
       "    </tr>\n",
       "    <tr>\n",
       "      <th>0</th>\n",
       "      <td>1</td>\n",
       "      <td>5.2702804</td>\n",
       "      <td>3.4737139</td>\n",
       "      <td>25.196524</td>\n",
       "      <td>29.98979</td>\n",
       "    </tr>\n",
       "    <tr>\n",
       "      <th>0</th>\n",
       "      <td>2</td>\n",
       "      <td>1.9089866</td>\n",
       "      <td>1.3087386</td>\n",
       "      <td>3.334974</td>\n",
       "      <td>3.636567</td>\n",
       "    </tr>\n",
       "    <tr>\n",
       "      <th>0</th>\n",
       "      <td>3</td>\n",
       "      <td>0.9772852</td>\n",
       "      <td>0.86348265</td>\n",
       "      <td>2.207242</td>\n",
       "      <td>2.317756</td>\n",
       "    </tr>\n",
       "    <tr>\n",
       "      <th>0</th>\n",
       "      <td>4</td>\n",
       "      <td>0.6957231</td>\n",
       "      <td>0.59553385</td>\n",
       "      <td>1.866667</td>\n",
       "      <td>2.007807</td>\n",
       "    </tr>\n",
       "    <tr>\n",
       "      <th>0</th>\n",
       "      <td>5</td>\n",
       "      <td>0.5585126</td>\n",
       "      <td>0.5009365</td>\n",
       "      <td>1.674152</td>\n",
       "      <td>1.633351</td>\n",
       "    </tr>\n",
       "    <tr>\n",
       "      <th>0</th>\n",
       "      <td>6</td>\n",
       "      <td>0.47072127</td>\n",
       "      <td>0.43331712</td>\n",
       "      <td>1.539256</td>\n",
       "      <td>1.560963</td>\n",
       "    </tr>\n",
       "    <tr>\n",
       "      <th>0</th>\n",
       "      <td>7</td>\n",
       "      <td>0.401275</td>\n",
       "      <td>0.38442972</td>\n",
       "      <td>1.456342</td>\n",
       "      <td>1.505892</td>\n",
       "    </tr>\n",
       "  </tbody>\n",
       "</table>\n",
       "</div>"
      ],
      "text/plain": [
       "  Epoch  Train Loss Validation Loss Train Perplexity Validation Perplexity\n",
       "0     0    9.712491       7.7386584      1945.368896           2410.320801\n",
       "0     1   5.2702804       3.4737139        25.196524              29.98979\n",
       "0     2   1.9089866       1.3087386         3.334974              3.636567\n",
       "0     3   0.9772852      0.86348265         2.207242              2.317756\n",
       "0     4   0.6957231      0.59553385         1.866667              2.007807\n",
       "0     5   0.5585126       0.5009365         1.674152              1.633351\n",
       "0     6  0.47072127      0.43331712         1.539256              1.560963\n",
       "0     7    0.401275      0.38442972         1.456342              1.505892"
      ]
     },
     "metadata": {},
     "output_type": "display_data"
    },
    {
     "name": "stderr",
     "output_type": "stream",
     "text": [
      "Metric val_perplexity improved by 0.055 >= min_delta = 0.0. New best score: 1.506\n"
     ]
    },
    {
     "data": {
      "application/vnd.jupyter.widget-view+json": {
       "model_id": "44ed78d7e99e48e4800990dcab2da7ef",
       "version_major": 2,
       "version_minor": 0
      },
      "text/plain": [
       "Validation: |          | 0/? [00:00<?, ?it/s]"
      ]
     },
     "metadata": {},
     "output_type": "display_data"
    },
    {
     "data": {
      "application/vnd.jupyter.widget-view+json": {
       "model_id": "bcd649f4b6c246eea8faa00c020e4a23",
       "version_major": 2,
       "version_minor": 0
      },
      "text/plain": [
       "Computing pseudo-perplexity:   0%|          | 0/725 [00:00<?, ?it/s]"
      ]
     },
     "metadata": {},
     "output_type": "display_data"
    },
    {
     "data": {
      "application/vnd.jupyter.widget-view+json": {
       "model_id": "8417ddcbc5f9441585abf50e411e6808",
       "version_major": 2,
       "version_minor": 0
      },
      "text/plain": [
       "Computing pseudo-perplexity:   0%|          | 0/81 [00:00<?, ?it/s]"
      ]
     },
     "metadata": {},
     "output_type": "display_data"
    },
    {
     "data": {
      "text/html": [
       "<div>\n",
       "<style scoped>\n",
       "    .dataframe tbody tr th:only-of-type {\n",
       "        vertical-align: middle;\n",
       "    }\n",
       "\n",
       "    .dataframe tbody tr th {\n",
       "        vertical-align: top;\n",
       "    }\n",
       "\n",
       "    .dataframe thead th {\n",
       "        text-align: right;\n",
       "    }\n",
       "</style>\n",
       "<table border=\"1\" class=\"dataframe\">\n",
       "  <thead>\n",
       "    <tr style=\"text-align: right;\">\n",
       "      <th></th>\n",
       "      <th>Epoch</th>\n",
       "      <th>Train Loss</th>\n",
       "      <th>Validation Loss</th>\n",
       "      <th>Train Perplexity</th>\n",
       "      <th>Validation Perplexity</th>\n",
       "    </tr>\n",
       "  </thead>\n",
       "  <tbody>\n",
       "    <tr>\n",
       "      <th>0</th>\n",
       "      <td>0</td>\n",
       "      <td>9.712491</td>\n",
       "      <td>7.7386584</td>\n",
       "      <td>1945.368896</td>\n",
       "      <td>2410.320801</td>\n",
       "    </tr>\n",
       "    <tr>\n",
       "      <th>0</th>\n",
       "      <td>1</td>\n",
       "      <td>5.2702804</td>\n",
       "      <td>3.4737139</td>\n",
       "      <td>25.196524</td>\n",
       "      <td>29.98979</td>\n",
       "    </tr>\n",
       "    <tr>\n",
       "      <th>0</th>\n",
       "      <td>2</td>\n",
       "      <td>1.9089866</td>\n",
       "      <td>1.3087386</td>\n",
       "      <td>3.334974</td>\n",
       "      <td>3.636567</td>\n",
       "    </tr>\n",
       "    <tr>\n",
       "      <th>0</th>\n",
       "      <td>3</td>\n",
       "      <td>0.9772852</td>\n",
       "      <td>0.86348265</td>\n",
       "      <td>2.207242</td>\n",
       "      <td>2.317756</td>\n",
       "    </tr>\n",
       "    <tr>\n",
       "      <th>0</th>\n",
       "      <td>4</td>\n",
       "      <td>0.6957231</td>\n",
       "      <td>0.59553385</td>\n",
       "      <td>1.866667</td>\n",
       "      <td>2.007807</td>\n",
       "    </tr>\n",
       "    <tr>\n",
       "      <th>0</th>\n",
       "      <td>5</td>\n",
       "      <td>0.5585126</td>\n",
       "      <td>0.5009365</td>\n",
       "      <td>1.674152</td>\n",
       "      <td>1.633351</td>\n",
       "    </tr>\n",
       "    <tr>\n",
       "      <th>0</th>\n",
       "      <td>6</td>\n",
       "      <td>0.47072127</td>\n",
       "      <td>0.43331712</td>\n",
       "      <td>1.539256</td>\n",
       "      <td>1.560963</td>\n",
       "    </tr>\n",
       "    <tr>\n",
       "      <th>0</th>\n",
       "      <td>7</td>\n",
       "      <td>0.401275</td>\n",
       "      <td>0.38442972</td>\n",
       "      <td>1.456342</td>\n",
       "      <td>1.505892</td>\n",
       "    </tr>\n",
       "    <tr>\n",
       "      <th>0</th>\n",
       "      <td>8</td>\n",
       "      <td>0.3508585</td>\n",
       "      <td>0.33663556</td>\n",
       "      <td>1.392079</td>\n",
       "      <td>1.394289</td>\n",
       "    </tr>\n",
       "  </tbody>\n",
       "</table>\n",
       "</div>"
      ],
      "text/plain": [
       "  Epoch  Train Loss Validation Loss Train Perplexity Validation Perplexity\n",
       "0     0    9.712491       7.7386584      1945.368896           2410.320801\n",
       "0     1   5.2702804       3.4737139        25.196524              29.98979\n",
       "0     2   1.9089866       1.3087386         3.334974              3.636567\n",
       "0     3   0.9772852      0.86348265         2.207242              2.317756\n",
       "0     4   0.6957231      0.59553385         1.866667              2.007807\n",
       "0     5   0.5585126       0.5009365         1.674152              1.633351\n",
       "0     6  0.47072127      0.43331712         1.539256              1.560963\n",
       "0     7    0.401275      0.38442972         1.456342              1.505892\n",
       "0     8   0.3508585      0.33663556         1.392079              1.394289"
      ]
     },
     "metadata": {},
     "output_type": "display_data"
    },
    {
     "name": "stderr",
     "output_type": "stream",
     "text": [
      "Metric val_perplexity improved by 0.112 >= min_delta = 0.0. New best score: 1.394\n"
     ]
    },
    {
     "data": {
      "application/vnd.jupyter.widget-view+json": {
       "model_id": "603c96961b3f45b796a630f1569ca92e",
       "version_major": 2,
       "version_minor": 0
      },
      "text/plain": [
       "Validation: |          | 0/? [00:00<?, ?it/s]"
      ]
     },
     "metadata": {},
     "output_type": "display_data"
    },
    {
     "data": {
      "application/vnd.jupyter.widget-view+json": {
       "model_id": "d107401fda63426b88088a6269a54e73",
       "version_major": 2,
       "version_minor": 0
      },
      "text/plain": [
       "Computing pseudo-perplexity:   0%|          | 0/725 [00:00<?, ?it/s]"
      ]
     },
     "metadata": {},
     "output_type": "display_data"
    },
    {
     "data": {
      "application/vnd.jupyter.widget-view+json": {
       "model_id": "302df147ef02450192e3cb1998b9d902",
       "version_major": 2,
       "version_minor": 0
      },
      "text/plain": [
       "Computing pseudo-perplexity:   0%|          | 0/81 [00:00<?, ?it/s]"
      ]
     },
     "metadata": {},
     "output_type": "display_data"
    },
    {
     "data": {
      "text/html": [
       "<div>\n",
       "<style scoped>\n",
       "    .dataframe tbody tr th:only-of-type {\n",
       "        vertical-align: middle;\n",
       "    }\n",
       "\n",
       "    .dataframe tbody tr th {\n",
       "        vertical-align: top;\n",
       "    }\n",
       "\n",
       "    .dataframe thead th {\n",
       "        text-align: right;\n",
       "    }\n",
       "</style>\n",
       "<table border=\"1\" class=\"dataframe\">\n",
       "  <thead>\n",
       "    <tr style=\"text-align: right;\">\n",
       "      <th></th>\n",
       "      <th>Epoch</th>\n",
       "      <th>Train Loss</th>\n",
       "      <th>Validation Loss</th>\n",
       "      <th>Train Perplexity</th>\n",
       "      <th>Validation Perplexity</th>\n",
       "    </tr>\n",
       "  </thead>\n",
       "  <tbody>\n",
       "    <tr>\n",
       "      <th>0</th>\n",
       "      <td>0</td>\n",
       "      <td>9.712491</td>\n",
       "      <td>7.7386584</td>\n",
       "      <td>1945.368896</td>\n",
       "      <td>2410.320801</td>\n",
       "    </tr>\n",
       "    <tr>\n",
       "      <th>0</th>\n",
       "      <td>1</td>\n",
       "      <td>5.2702804</td>\n",
       "      <td>3.4737139</td>\n",
       "      <td>25.196524</td>\n",
       "      <td>29.98979</td>\n",
       "    </tr>\n",
       "    <tr>\n",
       "      <th>0</th>\n",
       "      <td>2</td>\n",
       "      <td>1.9089866</td>\n",
       "      <td>1.3087386</td>\n",
       "      <td>3.334974</td>\n",
       "      <td>3.636567</td>\n",
       "    </tr>\n",
       "    <tr>\n",
       "      <th>0</th>\n",
       "      <td>3</td>\n",
       "      <td>0.9772852</td>\n",
       "      <td>0.86348265</td>\n",
       "      <td>2.207242</td>\n",
       "      <td>2.317756</td>\n",
       "    </tr>\n",
       "    <tr>\n",
       "      <th>0</th>\n",
       "      <td>4</td>\n",
       "      <td>0.6957231</td>\n",
       "      <td>0.59553385</td>\n",
       "      <td>1.866667</td>\n",
       "      <td>2.007807</td>\n",
       "    </tr>\n",
       "    <tr>\n",
       "      <th>0</th>\n",
       "      <td>5</td>\n",
       "      <td>0.5585126</td>\n",
       "      <td>0.5009365</td>\n",
       "      <td>1.674152</td>\n",
       "      <td>1.633351</td>\n",
       "    </tr>\n",
       "    <tr>\n",
       "      <th>0</th>\n",
       "      <td>6</td>\n",
       "      <td>0.47072127</td>\n",
       "      <td>0.43331712</td>\n",
       "      <td>1.539256</td>\n",
       "      <td>1.560963</td>\n",
       "    </tr>\n",
       "    <tr>\n",
       "      <th>0</th>\n",
       "      <td>7</td>\n",
       "      <td>0.401275</td>\n",
       "      <td>0.38442972</td>\n",
       "      <td>1.456342</td>\n",
       "      <td>1.505892</td>\n",
       "    </tr>\n",
       "    <tr>\n",
       "      <th>0</th>\n",
       "      <td>8</td>\n",
       "      <td>0.3508585</td>\n",
       "      <td>0.33663556</td>\n",
       "      <td>1.392079</td>\n",
       "      <td>1.394289</td>\n",
       "    </tr>\n",
       "    <tr>\n",
       "      <th>0</th>\n",
       "      <td>9</td>\n",
       "      <td>0.31537148</td>\n",
       "      <td>0.2953225</td>\n",
       "      <td>1.336661</td>\n",
       "      <td>1.350569</td>\n",
       "    </tr>\n",
       "  </tbody>\n",
       "</table>\n",
       "</div>"
      ],
      "text/plain": [
       "  Epoch  Train Loss Validation Loss Train Perplexity Validation Perplexity\n",
       "0     0    9.712491       7.7386584      1945.368896           2410.320801\n",
       "0     1   5.2702804       3.4737139        25.196524              29.98979\n",
       "0     2   1.9089866       1.3087386         3.334974              3.636567\n",
       "0     3   0.9772852      0.86348265         2.207242              2.317756\n",
       "0     4   0.6957231      0.59553385         1.866667              2.007807\n",
       "0     5   0.5585126       0.5009365         1.674152              1.633351\n",
       "0     6  0.47072127      0.43331712         1.539256              1.560963\n",
       "0     7    0.401275      0.38442972         1.456342              1.505892\n",
       "0     8   0.3508585      0.33663556         1.392079              1.394289\n",
       "0     9  0.31537148       0.2953225         1.336661              1.350569"
      ]
     },
     "metadata": {},
     "output_type": "display_data"
    },
    {
     "name": "stderr",
     "output_type": "stream",
     "text": [
      "Metric val_perplexity improved by 0.044 >= min_delta = 0.0. New best score: 1.351\n"
     ]
    },
    {
     "data": {
      "application/vnd.jupyter.widget-view+json": {
       "model_id": "13797d4862404eb6b5cc6ac54b219c80",
       "version_major": 2,
       "version_minor": 0
      },
      "text/plain": [
       "Validation: |          | 0/? [00:00<?, ?it/s]"
      ]
     },
     "metadata": {},
     "output_type": "display_data"
    },
    {
     "data": {
      "application/vnd.jupyter.widget-view+json": {
       "model_id": "2c9ce70ca8784806ac31a721df0fc017",
       "version_major": 2,
       "version_minor": 0
      },
      "text/plain": [
       "Computing pseudo-perplexity:   0%|          | 0/725 [00:00<?, ?it/s]"
      ]
     },
     "metadata": {},
     "output_type": "display_data"
    },
    {
     "data": {
      "application/vnd.jupyter.widget-view+json": {
       "model_id": "983e215e27f9464fb770f4075e4eb2db",
       "version_major": 2,
       "version_minor": 0
      },
      "text/plain": [
       "Computing pseudo-perplexity:   0%|          | 0/81 [00:00<?, ?it/s]"
      ]
     },
     "metadata": {},
     "output_type": "display_data"
    },
    {
     "data": {
      "text/html": [
       "<div>\n",
       "<style scoped>\n",
       "    .dataframe tbody tr th:only-of-type {\n",
       "        vertical-align: middle;\n",
       "    }\n",
       "\n",
       "    .dataframe tbody tr th {\n",
       "        vertical-align: top;\n",
       "    }\n",
       "\n",
       "    .dataframe thead th {\n",
       "        text-align: right;\n",
       "    }\n",
       "</style>\n",
       "<table border=\"1\" class=\"dataframe\">\n",
       "  <thead>\n",
       "    <tr style=\"text-align: right;\">\n",
       "      <th></th>\n",
       "      <th>Epoch</th>\n",
       "      <th>Train Loss</th>\n",
       "      <th>Validation Loss</th>\n",
       "      <th>Train Perplexity</th>\n",
       "      <th>Validation Perplexity</th>\n",
       "    </tr>\n",
       "  </thead>\n",
       "  <tbody>\n",
       "    <tr>\n",
       "      <th>0</th>\n",
       "      <td>0</td>\n",
       "      <td>9.712491</td>\n",
       "      <td>7.7386584</td>\n",
       "      <td>1945.368896</td>\n",
       "      <td>2410.320801</td>\n",
       "    </tr>\n",
       "    <tr>\n",
       "      <th>0</th>\n",
       "      <td>1</td>\n",
       "      <td>5.2702804</td>\n",
       "      <td>3.4737139</td>\n",
       "      <td>25.196524</td>\n",
       "      <td>29.98979</td>\n",
       "    </tr>\n",
       "    <tr>\n",
       "      <th>0</th>\n",
       "      <td>2</td>\n",
       "      <td>1.9089866</td>\n",
       "      <td>1.3087386</td>\n",
       "      <td>3.334974</td>\n",
       "      <td>3.636567</td>\n",
       "    </tr>\n",
       "    <tr>\n",
       "      <th>0</th>\n",
       "      <td>3</td>\n",
       "      <td>0.9772852</td>\n",
       "      <td>0.86348265</td>\n",
       "      <td>2.207242</td>\n",
       "      <td>2.317756</td>\n",
       "    </tr>\n",
       "    <tr>\n",
       "      <th>0</th>\n",
       "      <td>4</td>\n",
       "      <td>0.6957231</td>\n",
       "      <td>0.59553385</td>\n",
       "      <td>1.866667</td>\n",
       "      <td>2.007807</td>\n",
       "    </tr>\n",
       "    <tr>\n",
       "      <th>0</th>\n",
       "      <td>5</td>\n",
       "      <td>0.5585126</td>\n",
       "      <td>0.5009365</td>\n",
       "      <td>1.674152</td>\n",
       "      <td>1.633351</td>\n",
       "    </tr>\n",
       "    <tr>\n",
       "      <th>0</th>\n",
       "      <td>6</td>\n",
       "      <td>0.47072127</td>\n",
       "      <td>0.43331712</td>\n",
       "      <td>1.539256</td>\n",
       "      <td>1.560963</td>\n",
       "    </tr>\n",
       "    <tr>\n",
       "      <th>0</th>\n",
       "      <td>7</td>\n",
       "      <td>0.401275</td>\n",
       "      <td>0.38442972</td>\n",
       "      <td>1.456342</td>\n",
       "      <td>1.505892</td>\n",
       "    </tr>\n",
       "    <tr>\n",
       "      <th>0</th>\n",
       "      <td>8</td>\n",
       "      <td>0.3508585</td>\n",
       "      <td>0.33663556</td>\n",
       "      <td>1.392079</td>\n",
       "      <td>1.394289</td>\n",
       "    </tr>\n",
       "    <tr>\n",
       "      <th>0</th>\n",
       "      <td>9</td>\n",
       "      <td>0.31537148</td>\n",
       "      <td>0.2953225</td>\n",
       "      <td>1.336661</td>\n",
       "      <td>1.350569</td>\n",
       "    </tr>\n",
       "    <tr>\n",
       "      <th>0</th>\n",
       "      <td>10</td>\n",
       "      <td>0.27957052</td>\n",
       "      <td>0.2661811</td>\n",
       "      <td>1.305799</td>\n",
       "      <td>1.315343</td>\n",
       "    </tr>\n",
       "  </tbody>\n",
       "</table>\n",
       "</div>"
      ],
      "text/plain": [
       "  Epoch  Train Loss Validation Loss Train Perplexity Validation Perplexity\n",
       "0     0    9.712491       7.7386584      1945.368896           2410.320801\n",
       "0     1   5.2702804       3.4737139        25.196524              29.98979\n",
       "0     2   1.9089866       1.3087386         3.334974              3.636567\n",
       "0     3   0.9772852      0.86348265         2.207242              2.317756\n",
       "0     4   0.6957231      0.59553385         1.866667              2.007807\n",
       "0     5   0.5585126       0.5009365         1.674152              1.633351\n",
       "0     6  0.47072127      0.43331712         1.539256              1.560963\n",
       "0     7    0.401275      0.38442972         1.456342              1.505892\n",
       "0     8   0.3508585      0.33663556         1.392079              1.394289\n",
       "0     9  0.31537148       0.2953225         1.336661              1.350569\n",
       "0    10  0.27957052       0.2661811         1.305799              1.315343"
      ]
     },
     "metadata": {},
     "output_type": "display_data"
    },
    {
     "name": "stderr",
     "output_type": "stream",
     "text": [
      "Metric val_perplexity improved by 0.035 >= min_delta = 0.0. New best score: 1.315\n"
     ]
    },
    {
     "data": {
      "application/vnd.jupyter.widget-view+json": {
       "model_id": "9620ecb3321e4a419880817e51e29c7f",
       "version_major": 2,
       "version_minor": 0
      },
      "text/plain": [
       "Validation: |          | 0/? [00:00<?, ?it/s]"
      ]
     },
     "metadata": {},
     "output_type": "display_data"
    },
    {
     "data": {
      "application/vnd.jupyter.widget-view+json": {
       "model_id": "bf739eb07e3545399552d108edca3aad",
       "version_major": 2,
       "version_minor": 0
      },
      "text/plain": [
       "Computing pseudo-perplexity:   0%|          | 0/725 [00:00<?, ?it/s]"
      ]
     },
     "metadata": {},
     "output_type": "display_data"
    },
    {
     "data": {
      "application/vnd.jupyter.widget-view+json": {
       "model_id": "1b46b50bfaa9428a8904f4d24f1a1031",
       "version_major": 2,
       "version_minor": 0
      },
      "text/plain": [
       "Computing pseudo-perplexity:   0%|          | 0/81 [00:00<?, ?it/s]"
      ]
     },
     "metadata": {},
     "output_type": "display_data"
    },
    {
     "data": {
      "text/html": [
       "<div>\n",
       "<style scoped>\n",
       "    .dataframe tbody tr th:only-of-type {\n",
       "        vertical-align: middle;\n",
       "    }\n",
       "\n",
       "    .dataframe tbody tr th {\n",
       "        vertical-align: top;\n",
       "    }\n",
       "\n",
       "    .dataframe thead th {\n",
       "        text-align: right;\n",
       "    }\n",
       "</style>\n",
       "<table border=\"1\" class=\"dataframe\">\n",
       "  <thead>\n",
       "    <tr style=\"text-align: right;\">\n",
       "      <th></th>\n",
       "      <th>Epoch</th>\n",
       "      <th>Train Loss</th>\n",
       "      <th>Validation Loss</th>\n",
       "      <th>Train Perplexity</th>\n",
       "      <th>Validation Perplexity</th>\n",
       "    </tr>\n",
       "  </thead>\n",
       "  <tbody>\n",
       "    <tr>\n",
       "      <th>0</th>\n",
       "      <td>0</td>\n",
       "      <td>9.712491</td>\n",
       "      <td>7.7386584</td>\n",
       "      <td>1945.368896</td>\n",
       "      <td>2410.320801</td>\n",
       "    </tr>\n",
       "    <tr>\n",
       "      <th>0</th>\n",
       "      <td>1</td>\n",
       "      <td>5.2702804</td>\n",
       "      <td>3.4737139</td>\n",
       "      <td>25.196524</td>\n",
       "      <td>29.98979</td>\n",
       "    </tr>\n",
       "    <tr>\n",
       "      <th>0</th>\n",
       "      <td>2</td>\n",
       "      <td>1.9089866</td>\n",
       "      <td>1.3087386</td>\n",
       "      <td>3.334974</td>\n",
       "      <td>3.636567</td>\n",
       "    </tr>\n",
       "    <tr>\n",
       "      <th>0</th>\n",
       "      <td>3</td>\n",
       "      <td>0.9772852</td>\n",
       "      <td>0.86348265</td>\n",
       "      <td>2.207242</td>\n",
       "      <td>2.317756</td>\n",
       "    </tr>\n",
       "    <tr>\n",
       "      <th>0</th>\n",
       "      <td>4</td>\n",
       "      <td>0.6957231</td>\n",
       "      <td>0.59553385</td>\n",
       "      <td>1.866667</td>\n",
       "      <td>2.007807</td>\n",
       "    </tr>\n",
       "    <tr>\n",
       "      <th>0</th>\n",
       "      <td>5</td>\n",
       "      <td>0.5585126</td>\n",
       "      <td>0.5009365</td>\n",
       "      <td>1.674152</td>\n",
       "      <td>1.633351</td>\n",
       "    </tr>\n",
       "    <tr>\n",
       "      <th>0</th>\n",
       "      <td>6</td>\n",
       "      <td>0.47072127</td>\n",
       "      <td>0.43331712</td>\n",
       "      <td>1.539256</td>\n",
       "      <td>1.560963</td>\n",
       "    </tr>\n",
       "    <tr>\n",
       "      <th>0</th>\n",
       "      <td>7</td>\n",
       "      <td>0.401275</td>\n",
       "      <td>0.38442972</td>\n",
       "      <td>1.456342</td>\n",
       "      <td>1.505892</td>\n",
       "    </tr>\n",
       "    <tr>\n",
       "      <th>0</th>\n",
       "      <td>8</td>\n",
       "      <td>0.3508585</td>\n",
       "      <td>0.33663556</td>\n",
       "      <td>1.392079</td>\n",
       "      <td>1.394289</td>\n",
       "    </tr>\n",
       "    <tr>\n",
       "      <th>0</th>\n",
       "      <td>9</td>\n",
       "      <td>0.31537148</td>\n",
       "      <td>0.2953225</td>\n",
       "      <td>1.336661</td>\n",
       "      <td>1.350569</td>\n",
       "    </tr>\n",
       "    <tr>\n",
       "      <th>0</th>\n",
       "      <td>10</td>\n",
       "      <td>0.27957052</td>\n",
       "      <td>0.2661811</td>\n",
       "      <td>1.305799</td>\n",
       "      <td>1.315343</td>\n",
       "    </tr>\n",
       "    <tr>\n",
       "      <th>0</th>\n",
       "      <td>11</td>\n",
       "      <td>0.24917743</td>\n",
       "      <td>0.2541651</td>\n",
       "      <td>1.280992</td>\n",
       "      <td>1.289688</td>\n",
       "    </tr>\n",
       "  </tbody>\n",
       "</table>\n",
       "</div>"
      ],
      "text/plain": [
       "  Epoch  Train Loss Validation Loss Train Perplexity Validation Perplexity\n",
       "0     0    9.712491       7.7386584      1945.368896           2410.320801\n",
       "0     1   5.2702804       3.4737139        25.196524              29.98979\n",
       "0     2   1.9089866       1.3087386         3.334974              3.636567\n",
       "0     3   0.9772852      0.86348265         2.207242              2.317756\n",
       "0     4   0.6957231      0.59553385         1.866667              2.007807\n",
       "0     5   0.5585126       0.5009365         1.674152              1.633351\n",
       "0     6  0.47072127      0.43331712         1.539256              1.560963\n",
       "0     7    0.401275      0.38442972         1.456342              1.505892\n",
       "0     8   0.3508585      0.33663556         1.392079              1.394289\n",
       "0     9  0.31537148       0.2953225         1.336661              1.350569\n",
       "0    10  0.27957052       0.2661811         1.305799              1.315343\n",
       "0    11  0.24917743       0.2541651         1.280992              1.289688"
      ]
     },
     "metadata": {},
     "output_type": "display_data"
    },
    {
     "name": "stderr",
     "output_type": "stream",
     "text": [
      "Metric val_perplexity improved by 0.026 >= min_delta = 0.0. New best score: 1.290\n"
     ]
    },
    {
     "data": {
      "application/vnd.jupyter.widget-view+json": {
       "model_id": "3ae596d8234447718a990b92482cdb12",
       "version_major": 2,
       "version_minor": 0
      },
      "text/plain": [
       "Validation: |          | 0/? [00:00<?, ?it/s]"
      ]
     },
     "metadata": {},
     "output_type": "display_data"
    },
    {
     "data": {
      "application/vnd.jupyter.widget-view+json": {
       "model_id": "04dbffd1d1b54f52a10309ec8e93ff52",
       "version_major": 2,
       "version_minor": 0
      },
      "text/plain": [
       "Computing pseudo-perplexity:   0%|          | 0/725 [00:00<?, ?it/s]"
      ]
     },
     "metadata": {},
     "output_type": "display_data"
    },
    {
     "data": {
      "application/vnd.jupyter.widget-view+json": {
       "model_id": "84ad000eb0f945bf95774322029affa5",
       "version_major": 2,
       "version_minor": 0
      },
      "text/plain": [
       "Computing pseudo-perplexity:   0%|          | 0/81 [00:00<?, ?it/s]"
      ]
     },
     "metadata": {},
     "output_type": "display_data"
    },
    {
     "data": {
      "text/html": [
       "<div>\n",
       "<style scoped>\n",
       "    .dataframe tbody tr th:only-of-type {\n",
       "        vertical-align: middle;\n",
       "    }\n",
       "\n",
       "    .dataframe tbody tr th {\n",
       "        vertical-align: top;\n",
       "    }\n",
       "\n",
       "    .dataframe thead th {\n",
       "        text-align: right;\n",
       "    }\n",
       "</style>\n",
       "<table border=\"1\" class=\"dataframe\">\n",
       "  <thead>\n",
       "    <tr style=\"text-align: right;\">\n",
       "      <th></th>\n",
       "      <th>Epoch</th>\n",
       "      <th>Train Loss</th>\n",
       "      <th>Validation Loss</th>\n",
       "      <th>Train Perplexity</th>\n",
       "      <th>Validation Perplexity</th>\n",
       "    </tr>\n",
       "  </thead>\n",
       "  <tbody>\n",
       "    <tr>\n",
       "      <th>0</th>\n",
       "      <td>0</td>\n",
       "      <td>9.712491</td>\n",
       "      <td>7.7386584</td>\n",
       "      <td>1945.368896</td>\n",
       "      <td>2410.320801</td>\n",
       "    </tr>\n",
       "    <tr>\n",
       "      <th>0</th>\n",
       "      <td>1</td>\n",
       "      <td>5.2702804</td>\n",
       "      <td>3.4737139</td>\n",
       "      <td>25.196524</td>\n",
       "      <td>29.98979</td>\n",
       "    </tr>\n",
       "    <tr>\n",
       "      <th>0</th>\n",
       "      <td>2</td>\n",
       "      <td>1.9089866</td>\n",
       "      <td>1.3087386</td>\n",
       "      <td>3.334974</td>\n",
       "      <td>3.636567</td>\n",
       "    </tr>\n",
       "    <tr>\n",
       "      <th>0</th>\n",
       "      <td>3</td>\n",
       "      <td>0.9772852</td>\n",
       "      <td>0.86348265</td>\n",
       "      <td>2.207242</td>\n",
       "      <td>2.317756</td>\n",
       "    </tr>\n",
       "    <tr>\n",
       "      <th>0</th>\n",
       "      <td>4</td>\n",
       "      <td>0.6957231</td>\n",
       "      <td>0.59553385</td>\n",
       "      <td>1.866667</td>\n",
       "      <td>2.007807</td>\n",
       "    </tr>\n",
       "    <tr>\n",
       "      <th>0</th>\n",
       "      <td>5</td>\n",
       "      <td>0.5585126</td>\n",
       "      <td>0.5009365</td>\n",
       "      <td>1.674152</td>\n",
       "      <td>1.633351</td>\n",
       "    </tr>\n",
       "    <tr>\n",
       "      <th>0</th>\n",
       "      <td>6</td>\n",
       "      <td>0.47072127</td>\n",
       "      <td>0.43331712</td>\n",
       "      <td>1.539256</td>\n",
       "      <td>1.560963</td>\n",
       "    </tr>\n",
       "    <tr>\n",
       "      <th>0</th>\n",
       "      <td>7</td>\n",
       "      <td>0.401275</td>\n",
       "      <td>0.38442972</td>\n",
       "      <td>1.456342</td>\n",
       "      <td>1.505892</td>\n",
       "    </tr>\n",
       "    <tr>\n",
       "      <th>0</th>\n",
       "      <td>8</td>\n",
       "      <td>0.3508585</td>\n",
       "      <td>0.33663556</td>\n",
       "      <td>1.392079</td>\n",
       "      <td>1.394289</td>\n",
       "    </tr>\n",
       "    <tr>\n",
       "      <th>0</th>\n",
       "      <td>9</td>\n",
       "      <td>0.31537148</td>\n",
       "      <td>0.2953225</td>\n",
       "      <td>1.336661</td>\n",
       "      <td>1.350569</td>\n",
       "    </tr>\n",
       "    <tr>\n",
       "      <th>0</th>\n",
       "      <td>10</td>\n",
       "      <td>0.27957052</td>\n",
       "      <td>0.2661811</td>\n",
       "      <td>1.305799</td>\n",
       "      <td>1.315343</td>\n",
       "    </tr>\n",
       "    <tr>\n",
       "      <th>0</th>\n",
       "      <td>11</td>\n",
       "      <td>0.24917743</td>\n",
       "      <td>0.2541651</td>\n",
       "      <td>1.280992</td>\n",
       "      <td>1.289688</td>\n",
       "    </tr>\n",
       "    <tr>\n",
       "      <th>0</th>\n",
       "      <td>12</td>\n",
       "      <td>0.23851404</td>\n",
       "      <td>0.23633787</td>\n",
       "      <td>1.258881</td>\n",
       "      <td>1.26929</td>\n",
       "    </tr>\n",
       "  </tbody>\n",
       "</table>\n",
       "</div>"
      ],
      "text/plain": [
       "  Epoch  Train Loss Validation Loss Train Perplexity Validation Perplexity\n",
       "0     0    9.712491       7.7386584      1945.368896           2410.320801\n",
       "0     1   5.2702804       3.4737139        25.196524              29.98979\n",
       "0     2   1.9089866       1.3087386         3.334974              3.636567\n",
       "0     3   0.9772852      0.86348265         2.207242              2.317756\n",
       "0     4   0.6957231      0.59553385         1.866667              2.007807\n",
       "0     5   0.5585126       0.5009365         1.674152              1.633351\n",
       "0     6  0.47072127      0.43331712         1.539256              1.560963\n",
       "0     7    0.401275      0.38442972         1.456342              1.505892\n",
       "0     8   0.3508585      0.33663556         1.392079              1.394289\n",
       "0     9  0.31537148       0.2953225         1.336661              1.350569\n",
       "0    10  0.27957052       0.2661811         1.305799              1.315343\n",
       "0    11  0.24917743       0.2541651         1.280992              1.289688\n",
       "0    12  0.23851404      0.23633787         1.258881               1.26929"
      ]
     },
     "metadata": {},
     "output_type": "display_data"
    },
    {
     "name": "stderr",
     "output_type": "stream",
     "text": [
      "Metric val_perplexity improved by 0.020 >= min_delta = 0.0. New best score: 1.269\n"
     ]
    },
    {
     "data": {
      "application/vnd.jupyter.widget-view+json": {
       "model_id": "f61c100c0fe84968912f6d636d353b3c",
       "version_major": 2,
       "version_minor": 0
      },
      "text/plain": [
       "Validation: |          | 0/? [00:00<?, ?it/s]"
      ]
     },
     "metadata": {},
     "output_type": "display_data"
    },
    {
     "data": {
      "application/vnd.jupyter.widget-view+json": {
       "model_id": "6f2ee2780032443cac04fbec054b6fb0",
       "version_major": 2,
       "version_minor": 0
      },
      "text/plain": [
       "Computing pseudo-perplexity:   0%|          | 0/725 [00:00<?, ?it/s]"
      ]
     },
     "metadata": {},
     "output_type": "display_data"
    },
    {
     "data": {
      "application/vnd.jupyter.widget-view+json": {
       "model_id": "91c8d2a1f66e4858a0d8b12210b4e4ff",
       "version_major": 2,
       "version_minor": 0
      },
      "text/plain": [
       "Computing pseudo-perplexity:   0%|          | 0/81 [00:00<?, ?it/s]"
      ]
     },
     "metadata": {},
     "output_type": "display_data"
    },
    {
     "data": {
      "text/html": [
       "<div>\n",
       "<style scoped>\n",
       "    .dataframe tbody tr th:only-of-type {\n",
       "        vertical-align: middle;\n",
       "    }\n",
       "\n",
       "    .dataframe tbody tr th {\n",
       "        vertical-align: top;\n",
       "    }\n",
       "\n",
       "    .dataframe thead th {\n",
       "        text-align: right;\n",
       "    }\n",
       "</style>\n",
       "<table border=\"1\" class=\"dataframe\">\n",
       "  <thead>\n",
       "    <tr style=\"text-align: right;\">\n",
       "      <th></th>\n",
       "      <th>Epoch</th>\n",
       "      <th>Train Loss</th>\n",
       "      <th>Validation Loss</th>\n",
       "      <th>Train Perplexity</th>\n",
       "      <th>Validation Perplexity</th>\n",
       "    </tr>\n",
       "  </thead>\n",
       "  <tbody>\n",
       "    <tr>\n",
       "      <th>0</th>\n",
       "      <td>0</td>\n",
       "      <td>9.712491</td>\n",
       "      <td>7.7386584</td>\n",
       "      <td>1945.368896</td>\n",
       "      <td>2410.320801</td>\n",
       "    </tr>\n",
       "    <tr>\n",
       "      <th>0</th>\n",
       "      <td>1</td>\n",
       "      <td>5.2702804</td>\n",
       "      <td>3.4737139</td>\n",
       "      <td>25.196524</td>\n",
       "      <td>29.98979</td>\n",
       "    </tr>\n",
       "    <tr>\n",
       "      <th>0</th>\n",
       "      <td>2</td>\n",
       "      <td>1.9089866</td>\n",
       "      <td>1.3087386</td>\n",
       "      <td>3.334974</td>\n",
       "      <td>3.636567</td>\n",
       "    </tr>\n",
       "    <tr>\n",
       "      <th>0</th>\n",
       "      <td>3</td>\n",
       "      <td>0.9772852</td>\n",
       "      <td>0.86348265</td>\n",
       "      <td>2.207242</td>\n",
       "      <td>2.317756</td>\n",
       "    </tr>\n",
       "    <tr>\n",
       "      <th>0</th>\n",
       "      <td>4</td>\n",
       "      <td>0.6957231</td>\n",
       "      <td>0.59553385</td>\n",
       "      <td>1.866667</td>\n",
       "      <td>2.007807</td>\n",
       "    </tr>\n",
       "    <tr>\n",
       "      <th>0</th>\n",
       "      <td>5</td>\n",
       "      <td>0.5585126</td>\n",
       "      <td>0.5009365</td>\n",
       "      <td>1.674152</td>\n",
       "      <td>1.633351</td>\n",
       "    </tr>\n",
       "    <tr>\n",
       "      <th>0</th>\n",
       "      <td>6</td>\n",
       "      <td>0.47072127</td>\n",
       "      <td>0.43331712</td>\n",
       "      <td>1.539256</td>\n",
       "      <td>1.560963</td>\n",
       "    </tr>\n",
       "    <tr>\n",
       "      <th>0</th>\n",
       "      <td>7</td>\n",
       "      <td>0.401275</td>\n",
       "      <td>0.38442972</td>\n",
       "      <td>1.456342</td>\n",
       "      <td>1.505892</td>\n",
       "    </tr>\n",
       "    <tr>\n",
       "      <th>0</th>\n",
       "      <td>8</td>\n",
       "      <td>0.3508585</td>\n",
       "      <td>0.33663556</td>\n",
       "      <td>1.392079</td>\n",
       "      <td>1.394289</td>\n",
       "    </tr>\n",
       "    <tr>\n",
       "      <th>0</th>\n",
       "      <td>9</td>\n",
       "      <td>0.31537148</td>\n",
       "      <td>0.2953225</td>\n",
       "      <td>1.336661</td>\n",
       "      <td>1.350569</td>\n",
       "    </tr>\n",
       "    <tr>\n",
       "      <th>0</th>\n",
       "      <td>10</td>\n",
       "      <td>0.27957052</td>\n",
       "      <td>0.2661811</td>\n",
       "      <td>1.305799</td>\n",
       "      <td>1.315343</td>\n",
       "    </tr>\n",
       "    <tr>\n",
       "      <th>0</th>\n",
       "      <td>11</td>\n",
       "      <td>0.24917743</td>\n",
       "      <td>0.2541651</td>\n",
       "      <td>1.280992</td>\n",
       "      <td>1.289688</td>\n",
       "    </tr>\n",
       "    <tr>\n",
       "      <th>0</th>\n",
       "      <td>12</td>\n",
       "      <td>0.23851404</td>\n",
       "      <td>0.23633787</td>\n",
       "      <td>1.258881</td>\n",
       "      <td>1.26929</td>\n",
       "    </tr>\n",
       "    <tr>\n",
       "      <th>0</th>\n",
       "      <td>13</td>\n",
       "      <td>0.22739916</td>\n",
       "      <td>0.23410943</td>\n",
       "      <td>1.249066</td>\n",
       "      <td>1.254971</td>\n",
       "    </tr>\n",
       "  </tbody>\n",
       "</table>\n",
       "</div>"
      ],
      "text/plain": [
       "  Epoch  Train Loss Validation Loss Train Perplexity Validation Perplexity\n",
       "0     0    9.712491       7.7386584      1945.368896           2410.320801\n",
       "0     1   5.2702804       3.4737139        25.196524              29.98979\n",
       "0     2   1.9089866       1.3087386         3.334974              3.636567\n",
       "0     3   0.9772852      0.86348265         2.207242              2.317756\n",
       "0     4   0.6957231      0.59553385         1.866667              2.007807\n",
       "0     5   0.5585126       0.5009365         1.674152              1.633351\n",
       "0     6  0.47072127      0.43331712         1.539256              1.560963\n",
       "0     7    0.401275      0.38442972         1.456342              1.505892\n",
       "0     8   0.3508585      0.33663556         1.392079              1.394289\n",
       "0     9  0.31537148       0.2953225         1.336661              1.350569\n",
       "0    10  0.27957052       0.2661811         1.305799              1.315343\n",
       "0    11  0.24917743       0.2541651         1.280992              1.289688\n",
       "0    12  0.23851404      0.23633787         1.258881               1.26929\n",
       "0    13  0.22739916      0.23410943         1.249066              1.254971"
      ]
     },
     "metadata": {},
     "output_type": "display_data"
    },
    {
     "name": "stderr",
     "output_type": "stream",
     "text": [
      "Metric val_perplexity improved by 0.014 >= min_delta = 0.0. New best score: 1.255\n"
     ]
    },
    {
     "data": {
      "application/vnd.jupyter.widget-view+json": {
       "model_id": "b6c625c38a094c129772fd53ab84fcc2",
       "version_major": 2,
       "version_minor": 0
      },
      "text/plain": [
       "Validation: |          | 0/? [00:00<?, ?it/s]"
      ]
     },
     "metadata": {},
     "output_type": "display_data"
    },
    {
     "data": {
      "application/vnd.jupyter.widget-view+json": {
       "model_id": "9e64450a078f41cdadb3878f1a307afd",
       "version_major": 2,
       "version_minor": 0
      },
      "text/plain": [
       "Computing pseudo-perplexity:   0%|          | 0/725 [00:00<?, ?it/s]"
      ]
     },
     "metadata": {},
     "output_type": "display_data"
    },
    {
     "data": {
      "application/vnd.jupyter.widget-view+json": {
       "model_id": "8141326b27ff467ca06326c623dfb3d5",
       "version_major": 2,
       "version_minor": 0
      },
      "text/plain": [
       "Computing pseudo-perplexity:   0%|          | 0/81 [00:00<?, ?it/s]"
      ]
     },
     "metadata": {},
     "output_type": "display_data"
    },
    {
     "data": {
      "text/html": [
       "<div>\n",
       "<style scoped>\n",
       "    .dataframe tbody tr th:only-of-type {\n",
       "        vertical-align: middle;\n",
       "    }\n",
       "\n",
       "    .dataframe tbody tr th {\n",
       "        vertical-align: top;\n",
       "    }\n",
       "\n",
       "    .dataframe thead th {\n",
       "        text-align: right;\n",
       "    }\n",
       "</style>\n",
       "<table border=\"1\" class=\"dataframe\">\n",
       "  <thead>\n",
       "    <tr style=\"text-align: right;\">\n",
       "      <th></th>\n",
       "      <th>Epoch</th>\n",
       "      <th>Train Loss</th>\n",
       "      <th>Validation Loss</th>\n",
       "      <th>Train Perplexity</th>\n",
       "      <th>Validation Perplexity</th>\n",
       "    </tr>\n",
       "  </thead>\n",
       "  <tbody>\n",
       "    <tr>\n",
       "      <th>0</th>\n",
       "      <td>0</td>\n",
       "      <td>9.712491</td>\n",
       "      <td>7.7386584</td>\n",
       "      <td>1945.368896</td>\n",
       "      <td>2410.320801</td>\n",
       "    </tr>\n",
       "    <tr>\n",
       "      <th>0</th>\n",
       "      <td>1</td>\n",
       "      <td>5.2702804</td>\n",
       "      <td>3.4737139</td>\n",
       "      <td>25.196524</td>\n",
       "      <td>29.98979</td>\n",
       "    </tr>\n",
       "    <tr>\n",
       "      <th>0</th>\n",
       "      <td>2</td>\n",
       "      <td>1.9089866</td>\n",
       "      <td>1.3087386</td>\n",
       "      <td>3.334974</td>\n",
       "      <td>3.636567</td>\n",
       "    </tr>\n",
       "    <tr>\n",
       "      <th>0</th>\n",
       "      <td>3</td>\n",
       "      <td>0.9772852</td>\n",
       "      <td>0.86348265</td>\n",
       "      <td>2.207242</td>\n",
       "      <td>2.317756</td>\n",
       "    </tr>\n",
       "    <tr>\n",
       "      <th>0</th>\n",
       "      <td>4</td>\n",
       "      <td>0.6957231</td>\n",
       "      <td>0.59553385</td>\n",
       "      <td>1.866667</td>\n",
       "      <td>2.007807</td>\n",
       "    </tr>\n",
       "    <tr>\n",
       "      <th>0</th>\n",
       "      <td>5</td>\n",
       "      <td>0.5585126</td>\n",
       "      <td>0.5009365</td>\n",
       "      <td>1.674152</td>\n",
       "      <td>1.633351</td>\n",
       "    </tr>\n",
       "    <tr>\n",
       "      <th>0</th>\n",
       "      <td>6</td>\n",
       "      <td>0.47072127</td>\n",
       "      <td>0.43331712</td>\n",
       "      <td>1.539256</td>\n",
       "      <td>1.560963</td>\n",
       "    </tr>\n",
       "    <tr>\n",
       "      <th>0</th>\n",
       "      <td>7</td>\n",
       "      <td>0.401275</td>\n",
       "      <td>0.38442972</td>\n",
       "      <td>1.456342</td>\n",
       "      <td>1.505892</td>\n",
       "    </tr>\n",
       "    <tr>\n",
       "      <th>0</th>\n",
       "      <td>8</td>\n",
       "      <td>0.3508585</td>\n",
       "      <td>0.33663556</td>\n",
       "      <td>1.392079</td>\n",
       "      <td>1.394289</td>\n",
       "    </tr>\n",
       "    <tr>\n",
       "      <th>0</th>\n",
       "      <td>9</td>\n",
       "      <td>0.31537148</td>\n",
       "      <td>0.2953225</td>\n",
       "      <td>1.336661</td>\n",
       "      <td>1.350569</td>\n",
       "    </tr>\n",
       "    <tr>\n",
       "      <th>0</th>\n",
       "      <td>10</td>\n",
       "      <td>0.27957052</td>\n",
       "      <td>0.2661811</td>\n",
       "      <td>1.305799</td>\n",
       "      <td>1.315343</td>\n",
       "    </tr>\n",
       "    <tr>\n",
       "      <th>0</th>\n",
       "      <td>11</td>\n",
       "      <td>0.24917743</td>\n",
       "      <td>0.2541651</td>\n",
       "      <td>1.280992</td>\n",
       "      <td>1.289688</td>\n",
       "    </tr>\n",
       "    <tr>\n",
       "      <th>0</th>\n",
       "      <td>12</td>\n",
       "      <td>0.23851404</td>\n",
       "      <td>0.23633787</td>\n",
       "      <td>1.258881</td>\n",
       "      <td>1.26929</td>\n",
       "    </tr>\n",
       "    <tr>\n",
       "      <th>0</th>\n",
       "      <td>13</td>\n",
       "      <td>0.22739916</td>\n",
       "      <td>0.23410943</td>\n",
       "      <td>1.249066</td>\n",
       "      <td>1.254971</td>\n",
       "    </tr>\n",
       "    <tr>\n",
       "      <th>0</th>\n",
       "      <td>14</td>\n",
       "      <td>0.21588755</td>\n",
       "      <td>0.22256592</td>\n",
       "      <td>1.23695</td>\n",
       "      <td>1.240142</td>\n",
       "    </tr>\n",
       "  </tbody>\n",
       "</table>\n",
       "</div>"
      ],
      "text/plain": [
       "  Epoch  Train Loss Validation Loss Train Perplexity Validation Perplexity\n",
       "0     0    9.712491       7.7386584      1945.368896           2410.320801\n",
       "0     1   5.2702804       3.4737139        25.196524              29.98979\n",
       "0     2   1.9089866       1.3087386         3.334974              3.636567\n",
       "0     3   0.9772852      0.86348265         2.207242              2.317756\n",
       "0     4   0.6957231      0.59553385         1.866667              2.007807\n",
       "0     5   0.5585126       0.5009365         1.674152              1.633351\n",
       "0     6  0.47072127      0.43331712         1.539256              1.560963\n",
       "0     7    0.401275      0.38442972         1.456342              1.505892\n",
       "0     8   0.3508585      0.33663556         1.392079              1.394289\n",
       "0     9  0.31537148       0.2953225         1.336661              1.350569\n",
       "0    10  0.27957052       0.2661811         1.305799              1.315343\n",
       "0    11  0.24917743       0.2541651         1.280992              1.289688\n",
       "0    12  0.23851404      0.23633787         1.258881               1.26929\n",
       "0    13  0.22739916      0.23410943         1.249066              1.254971\n",
       "0    14  0.21588755      0.22256592          1.23695              1.240142"
      ]
     },
     "metadata": {},
     "output_type": "display_data"
    },
    {
     "name": "stderr",
     "output_type": "stream",
     "text": [
      "Metric val_perplexity improved by 0.015 >= min_delta = 0.0. New best score: 1.240\n"
     ]
    },
    {
     "data": {
      "application/vnd.jupyter.widget-view+json": {
       "model_id": "7e77ca4dfca144ba8f140e84ac0717e8",
       "version_major": 2,
       "version_minor": 0
      },
      "text/plain": [
       "Validation: |          | 0/? [00:00<?, ?it/s]"
      ]
     },
     "metadata": {},
     "output_type": "display_data"
    },
    {
     "data": {
      "application/vnd.jupyter.widget-view+json": {
       "model_id": "8af158a392cf45d3bc09692e4a3f8a2a",
       "version_major": 2,
       "version_minor": 0
      },
      "text/plain": [
       "Computing pseudo-perplexity:   0%|          | 0/725 [00:00<?, ?it/s]"
      ]
     },
     "metadata": {},
     "output_type": "display_data"
    },
    {
     "data": {
      "application/vnd.jupyter.widget-view+json": {
       "model_id": "4693b16219fe479db1ffa4fedc6f8faa",
       "version_major": 2,
       "version_minor": 0
      },
      "text/plain": [
       "Computing pseudo-perplexity:   0%|          | 0/81 [00:00<?, ?it/s]"
      ]
     },
     "metadata": {},
     "output_type": "display_data"
    },
    {
     "data": {
      "text/html": [
       "<div>\n",
       "<style scoped>\n",
       "    .dataframe tbody tr th:only-of-type {\n",
       "        vertical-align: middle;\n",
       "    }\n",
       "\n",
       "    .dataframe tbody tr th {\n",
       "        vertical-align: top;\n",
       "    }\n",
       "\n",
       "    .dataframe thead th {\n",
       "        text-align: right;\n",
       "    }\n",
       "</style>\n",
       "<table border=\"1\" class=\"dataframe\">\n",
       "  <thead>\n",
       "    <tr style=\"text-align: right;\">\n",
       "      <th></th>\n",
       "      <th>Epoch</th>\n",
       "      <th>Train Loss</th>\n",
       "      <th>Validation Loss</th>\n",
       "      <th>Train Perplexity</th>\n",
       "      <th>Validation Perplexity</th>\n",
       "    </tr>\n",
       "  </thead>\n",
       "  <tbody>\n",
       "    <tr>\n",
       "      <th>0</th>\n",
       "      <td>0</td>\n",
       "      <td>9.712491</td>\n",
       "      <td>7.7386584</td>\n",
       "      <td>1945.368896</td>\n",
       "      <td>2410.320801</td>\n",
       "    </tr>\n",
       "    <tr>\n",
       "      <th>0</th>\n",
       "      <td>1</td>\n",
       "      <td>5.2702804</td>\n",
       "      <td>3.4737139</td>\n",
       "      <td>25.196524</td>\n",
       "      <td>29.98979</td>\n",
       "    </tr>\n",
       "    <tr>\n",
       "      <th>0</th>\n",
       "      <td>2</td>\n",
       "      <td>1.9089866</td>\n",
       "      <td>1.3087386</td>\n",
       "      <td>3.334974</td>\n",
       "      <td>3.636567</td>\n",
       "    </tr>\n",
       "    <tr>\n",
       "      <th>0</th>\n",
       "      <td>3</td>\n",
       "      <td>0.9772852</td>\n",
       "      <td>0.86348265</td>\n",
       "      <td>2.207242</td>\n",
       "      <td>2.317756</td>\n",
       "    </tr>\n",
       "    <tr>\n",
       "      <th>0</th>\n",
       "      <td>4</td>\n",
       "      <td>0.6957231</td>\n",
       "      <td>0.59553385</td>\n",
       "      <td>1.866667</td>\n",
       "      <td>2.007807</td>\n",
       "    </tr>\n",
       "    <tr>\n",
       "      <th>0</th>\n",
       "      <td>5</td>\n",
       "      <td>0.5585126</td>\n",
       "      <td>0.5009365</td>\n",
       "      <td>1.674152</td>\n",
       "      <td>1.633351</td>\n",
       "    </tr>\n",
       "    <tr>\n",
       "      <th>0</th>\n",
       "      <td>6</td>\n",
       "      <td>0.47072127</td>\n",
       "      <td>0.43331712</td>\n",
       "      <td>1.539256</td>\n",
       "      <td>1.560963</td>\n",
       "    </tr>\n",
       "    <tr>\n",
       "      <th>0</th>\n",
       "      <td>7</td>\n",
       "      <td>0.401275</td>\n",
       "      <td>0.38442972</td>\n",
       "      <td>1.456342</td>\n",
       "      <td>1.505892</td>\n",
       "    </tr>\n",
       "    <tr>\n",
       "      <th>0</th>\n",
       "      <td>8</td>\n",
       "      <td>0.3508585</td>\n",
       "      <td>0.33663556</td>\n",
       "      <td>1.392079</td>\n",
       "      <td>1.394289</td>\n",
       "    </tr>\n",
       "    <tr>\n",
       "      <th>0</th>\n",
       "      <td>9</td>\n",
       "      <td>0.31537148</td>\n",
       "      <td>0.2953225</td>\n",
       "      <td>1.336661</td>\n",
       "      <td>1.350569</td>\n",
       "    </tr>\n",
       "    <tr>\n",
       "      <th>0</th>\n",
       "      <td>10</td>\n",
       "      <td>0.27957052</td>\n",
       "      <td>0.2661811</td>\n",
       "      <td>1.305799</td>\n",
       "      <td>1.315343</td>\n",
       "    </tr>\n",
       "    <tr>\n",
       "      <th>0</th>\n",
       "      <td>11</td>\n",
       "      <td>0.24917743</td>\n",
       "      <td>0.2541651</td>\n",
       "      <td>1.280992</td>\n",
       "      <td>1.289688</td>\n",
       "    </tr>\n",
       "    <tr>\n",
       "      <th>0</th>\n",
       "      <td>12</td>\n",
       "      <td>0.23851404</td>\n",
       "      <td>0.23633787</td>\n",
       "      <td>1.258881</td>\n",
       "      <td>1.26929</td>\n",
       "    </tr>\n",
       "    <tr>\n",
       "      <th>0</th>\n",
       "      <td>13</td>\n",
       "      <td>0.22739916</td>\n",
       "      <td>0.23410943</td>\n",
       "      <td>1.249066</td>\n",
       "      <td>1.254971</td>\n",
       "    </tr>\n",
       "    <tr>\n",
       "      <th>0</th>\n",
       "      <td>14</td>\n",
       "      <td>0.21588755</td>\n",
       "      <td>0.22256592</td>\n",
       "      <td>1.23695</td>\n",
       "      <td>1.240142</td>\n",
       "    </tr>\n",
       "    <tr>\n",
       "      <th>0</th>\n",
       "      <td>15</td>\n",
       "      <td>0.20944417</td>\n",
       "      <td>0.21346697</td>\n",
       "      <td>1.229131</td>\n",
       "      <td>1.23079</td>\n",
       "    </tr>\n",
       "  </tbody>\n",
       "</table>\n",
       "</div>"
      ],
      "text/plain": [
       "  Epoch  Train Loss Validation Loss Train Perplexity Validation Perplexity\n",
       "0     0    9.712491       7.7386584      1945.368896           2410.320801\n",
       "0     1   5.2702804       3.4737139        25.196524              29.98979\n",
       "0     2   1.9089866       1.3087386         3.334974              3.636567\n",
       "0     3   0.9772852      0.86348265         2.207242              2.317756\n",
       "0     4   0.6957231      0.59553385         1.866667              2.007807\n",
       "0     5   0.5585126       0.5009365         1.674152              1.633351\n",
       "0     6  0.47072127      0.43331712         1.539256              1.560963\n",
       "0     7    0.401275      0.38442972         1.456342              1.505892\n",
       "0     8   0.3508585      0.33663556         1.392079              1.394289\n",
       "0     9  0.31537148       0.2953225         1.336661              1.350569\n",
       "0    10  0.27957052       0.2661811         1.305799              1.315343\n",
       "0    11  0.24917743       0.2541651         1.280992              1.289688\n",
       "0    12  0.23851404      0.23633787         1.258881               1.26929\n",
       "0    13  0.22739916      0.23410943         1.249066              1.254971\n",
       "0    14  0.21588755      0.22256592          1.23695              1.240142\n",
       "0    15  0.20944417      0.21346697         1.229131               1.23079"
      ]
     },
     "metadata": {},
     "output_type": "display_data"
    },
    {
     "name": "stderr",
     "output_type": "stream",
     "text": [
      "Metric val_perplexity improved by 0.009 >= min_delta = 0.0. New best score: 1.231\n"
     ]
    },
    {
     "data": {
      "application/vnd.jupyter.widget-view+json": {
       "model_id": "494abb49c5d54109b907f7cd249c521e",
       "version_major": 2,
       "version_minor": 0
      },
      "text/plain": [
       "Validation: |          | 0/? [00:00<?, ?it/s]"
      ]
     },
     "metadata": {},
     "output_type": "display_data"
    },
    {
     "data": {
      "application/vnd.jupyter.widget-view+json": {
       "model_id": "36e5799dc1734a8791ab267b71c9b425",
       "version_major": 2,
       "version_minor": 0
      },
      "text/plain": [
       "Computing pseudo-perplexity:   0%|          | 0/725 [00:00<?, ?it/s]"
      ]
     },
     "metadata": {},
     "output_type": "display_data"
    },
    {
     "data": {
      "application/vnd.jupyter.widget-view+json": {
       "model_id": "93509fb8fc934727bf426341dfd07347",
       "version_major": 2,
       "version_minor": 0
      },
      "text/plain": [
       "Computing pseudo-perplexity:   0%|          | 0/81 [00:00<?, ?it/s]"
      ]
     },
     "metadata": {},
     "output_type": "display_data"
    },
    {
     "data": {
      "text/html": [
       "<div>\n",
       "<style scoped>\n",
       "    .dataframe tbody tr th:only-of-type {\n",
       "        vertical-align: middle;\n",
       "    }\n",
       "\n",
       "    .dataframe tbody tr th {\n",
       "        vertical-align: top;\n",
       "    }\n",
       "\n",
       "    .dataframe thead th {\n",
       "        text-align: right;\n",
       "    }\n",
       "</style>\n",
       "<table border=\"1\" class=\"dataframe\">\n",
       "  <thead>\n",
       "    <tr style=\"text-align: right;\">\n",
       "      <th></th>\n",
       "      <th>Epoch</th>\n",
       "      <th>Train Loss</th>\n",
       "      <th>Validation Loss</th>\n",
       "      <th>Train Perplexity</th>\n",
       "      <th>Validation Perplexity</th>\n",
       "    </tr>\n",
       "  </thead>\n",
       "  <tbody>\n",
       "    <tr>\n",
       "      <th>0</th>\n",
       "      <td>0</td>\n",
       "      <td>9.712491</td>\n",
       "      <td>7.7386584</td>\n",
       "      <td>1945.368896</td>\n",
       "      <td>2410.320801</td>\n",
       "    </tr>\n",
       "    <tr>\n",
       "      <th>0</th>\n",
       "      <td>1</td>\n",
       "      <td>5.2702804</td>\n",
       "      <td>3.4737139</td>\n",
       "      <td>25.196524</td>\n",
       "      <td>29.98979</td>\n",
       "    </tr>\n",
       "    <tr>\n",
       "      <th>0</th>\n",
       "      <td>2</td>\n",
       "      <td>1.9089866</td>\n",
       "      <td>1.3087386</td>\n",
       "      <td>3.334974</td>\n",
       "      <td>3.636567</td>\n",
       "    </tr>\n",
       "    <tr>\n",
       "      <th>0</th>\n",
       "      <td>3</td>\n",
       "      <td>0.9772852</td>\n",
       "      <td>0.86348265</td>\n",
       "      <td>2.207242</td>\n",
       "      <td>2.317756</td>\n",
       "    </tr>\n",
       "    <tr>\n",
       "      <th>0</th>\n",
       "      <td>4</td>\n",
       "      <td>0.6957231</td>\n",
       "      <td>0.59553385</td>\n",
       "      <td>1.866667</td>\n",
       "      <td>2.007807</td>\n",
       "    </tr>\n",
       "    <tr>\n",
       "      <th>0</th>\n",
       "      <td>5</td>\n",
       "      <td>0.5585126</td>\n",
       "      <td>0.5009365</td>\n",
       "      <td>1.674152</td>\n",
       "      <td>1.633351</td>\n",
       "    </tr>\n",
       "    <tr>\n",
       "      <th>0</th>\n",
       "      <td>6</td>\n",
       "      <td>0.47072127</td>\n",
       "      <td>0.43331712</td>\n",
       "      <td>1.539256</td>\n",
       "      <td>1.560963</td>\n",
       "    </tr>\n",
       "    <tr>\n",
       "      <th>0</th>\n",
       "      <td>7</td>\n",
       "      <td>0.401275</td>\n",
       "      <td>0.38442972</td>\n",
       "      <td>1.456342</td>\n",
       "      <td>1.505892</td>\n",
       "    </tr>\n",
       "    <tr>\n",
       "      <th>0</th>\n",
       "      <td>8</td>\n",
       "      <td>0.3508585</td>\n",
       "      <td>0.33663556</td>\n",
       "      <td>1.392079</td>\n",
       "      <td>1.394289</td>\n",
       "    </tr>\n",
       "    <tr>\n",
       "      <th>0</th>\n",
       "      <td>9</td>\n",
       "      <td>0.31537148</td>\n",
       "      <td>0.2953225</td>\n",
       "      <td>1.336661</td>\n",
       "      <td>1.350569</td>\n",
       "    </tr>\n",
       "    <tr>\n",
       "      <th>0</th>\n",
       "      <td>10</td>\n",
       "      <td>0.27957052</td>\n",
       "      <td>0.2661811</td>\n",
       "      <td>1.305799</td>\n",
       "      <td>1.315343</td>\n",
       "    </tr>\n",
       "    <tr>\n",
       "      <th>0</th>\n",
       "      <td>11</td>\n",
       "      <td>0.24917743</td>\n",
       "      <td>0.2541651</td>\n",
       "      <td>1.280992</td>\n",
       "      <td>1.289688</td>\n",
       "    </tr>\n",
       "    <tr>\n",
       "      <th>0</th>\n",
       "      <td>12</td>\n",
       "      <td>0.23851404</td>\n",
       "      <td>0.23633787</td>\n",
       "      <td>1.258881</td>\n",
       "      <td>1.26929</td>\n",
       "    </tr>\n",
       "    <tr>\n",
       "      <th>0</th>\n",
       "      <td>13</td>\n",
       "      <td>0.22739916</td>\n",
       "      <td>0.23410943</td>\n",
       "      <td>1.249066</td>\n",
       "      <td>1.254971</td>\n",
       "    </tr>\n",
       "    <tr>\n",
       "      <th>0</th>\n",
       "      <td>14</td>\n",
       "      <td>0.21588755</td>\n",
       "      <td>0.22256592</td>\n",
       "      <td>1.23695</td>\n",
       "      <td>1.240142</td>\n",
       "    </tr>\n",
       "    <tr>\n",
       "      <th>0</th>\n",
       "      <td>15</td>\n",
       "      <td>0.20944417</td>\n",
       "      <td>0.21346697</td>\n",
       "      <td>1.229131</td>\n",
       "      <td>1.23079</td>\n",
       "    </tr>\n",
       "    <tr>\n",
       "      <th>0</th>\n",
       "      <td>16</td>\n",
       "      <td>0.20538445</td>\n",
       "      <td>0.2006487</td>\n",
       "      <td>1.224785</td>\n",
       "      <td>1.222236</td>\n",
       "    </tr>\n",
       "  </tbody>\n",
       "</table>\n",
       "</div>"
      ],
      "text/plain": [
       "  Epoch  Train Loss Validation Loss Train Perplexity Validation Perplexity\n",
       "0     0    9.712491       7.7386584      1945.368896           2410.320801\n",
       "0     1   5.2702804       3.4737139        25.196524              29.98979\n",
       "0     2   1.9089866       1.3087386         3.334974              3.636567\n",
       "0     3   0.9772852      0.86348265         2.207242              2.317756\n",
       "0     4   0.6957231      0.59553385         1.866667              2.007807\n",
       "0     5   0.5585126       0.5009365         1.674152              1.633351\n",
       "0     6  0.47072127      0.43331712         1.539256              1.560963\n",
       "0     7    0.401275      0.38442972         1.456342              1.505892\n",
       "0     8   0.3508585      0.33663556         1.392079              1.394289\n",
       "0     9  0.31537148       0.2953225         1.336661              1.350569\n",
       "0    10  0.27957052       0.2661811         1.305799              1.315343\n",
       "0    11  0.24917743       0.2541651         1.280992              1.289688\n",
       "0    12  0.23851404      0.23633787         1.258881               1.26929\n",
       "0    13  0.22739916      0.23410943         1.249066              1.254971\n",
       "0    14  0.21588755      0.22256592          1.23695              1.240142\n",
       "0    15  0.20944417      0.21346697         1.229131               1.23079\n",
       "0    16  0.20538445       0.2006487         1.224785              1.222236"
      ]
     },
     "metadata": {},
     "output_type": "display_data"
    },
    {
     "name": "stderr",
     "output_type": "stream",
     "text": [
      "Metric val_perplexity improved by 0.009 >= min_delta = 0.0. New best score: 1.222\n"
     ]
    },
    {
     "data": {
      "application/vnd.jupyter.widget-view+json": {
       "model_id": "2211e48aaebd441b858cff9630716a41",
       "version_major": 2,
       "version_minor": 0
      },
      "text/plain": [
       "Validation: |          | 0/? [00:00<?, ?it/s]"
      ]
     },
     "metadata": {},
     "output_type": "display_data"
    },
    {
     "data": {
      "application/vnd.jupyter.widget-view+json": {
       "model_id": "845cea94f2b845a39980b1a37f298e3b",
       "version_major": 2,
       "version_minor": 0
      },
      "text/plain": [
       "Computing pseudo-perplexity:   0%|          | 0/725 [00:00<?, ?it/s]"
      ]
     },
     "metadata": {},
     "output_type": "display_data"
    },
    {
     "data": {
      "application/vnd.jupyter.widget-view+json": {
       "model_id": "6c16487a2f4d4db5b4c541df225cacfb",
       "version_major": 2,
       "version_minor": 0
      },
      "text/plain": [
       "Computing pseudo-perplexity:   0%|          | 0/81 [00:00<?, ?it/s]"
      ]
     },
     "metadata": {},
     "output_type": "display_data"
    },
    {
     "data": {
      "text/html": [
       "<div>\n",
       "<style scoped>\n",
       "    .dataframe tbody tr th:only-of-type {\n",
       "        vertical-align: middle;\n",
       "    }\n",
       "\n",
       "    .dataframe tbody tr th {\n",
       "        vertical-align: top;\n",
       "    }\n",
       "\n",
       "    .dataframe thead th {\n",
       "        text-align: right;\n",
       "    }\n",
       "</style>\n",
       "<table border=\"1\" class=\"dataframe\">\n",
       "  <thead>\n",
       "    <tr style=\"text-align: right;\">\n",
       "      <th></th>\n",
       "      <th>Epoch</th>\n",
       "      <th>Train Loss</th>\n",
       "      <th>Validation Loss</th>\n",
       "      <th>Train Perplexity</th>\n",
       "      <th>Validation Perplexity</th>\n",
       "    </tr>\n",
       "  </thead>\n",
       "  <tbody>\n",
       "    <tr>\n",
       "      <th>0</th>\n",
       "      <td>0</td>\n",
       "      <td>9.712491</td>\n",
       "      <td>7.7386584</td>\n",
       "      <td>1945.368896</td>\n",
       "      <td>2410.320801</td>\n",
       "    </tr>\n",
       "    <tr>\n",
       "      <th>0</th>\n",
       "      <td>1</td>\n",
       "      <td>5.2702804</td>\n",
       "      <td>3.4737139</td>\n",
       "      <td>25.196524</td>\n",
       "      <td>29.98979</td>\n",
       "    </tr>\n",
       "    <tr>\n",
       "      <th>0</th>\n",
       "      <td>2</td>\n",
       "      <td>1.9089866</td>\n",
       "      <td>1.3087386</td>\n",
       "      <td>3.334974</td>\n",
       "      <td>3.636567</td>\n",
       "    </tr>\n",
       "    <tr>\n",
       "      <th>0</th>\n",
       "      <td>3</td>\n",
       "      <td>0.9772852</td>\n",
       "      <td>0.86348265</td>\n",
       "      <td>2.207242</td>\n",
       "      <td>2.317756</td>\n",
       "    </tr>\n",
       "    <tr>\n",
       "      <th>0</th>\n",
       "      <td>4</td>\n",
       "      <td>0.6957231</td>\n",
       "      <td>0.59553385</td>\n",
       "      <td>1.866667</td>\n",
       "      <td>2.007807</td>\n",
       "    </tr>\n",
       "    <tr>\n",
       "      <th>0</th>\n",
       "      <td>5</td>\n",
       "      <td>0.5585126</td>\n",
       "      <td>0.5009365</td>\n",
       "      <td>1.674152</td>\n",
       "      <td>1.633351</td>\n",
       "    </tr>\n",
       "    <tr>\n",
       "      <th>0</th>\n",
       "      <td>6</td>\n",
       "      <td>0.47072127</td>\n",
       "      <td>0.43331712</td>\n",
       "      <td>1.539256</td>\n",
       "      <td>1.560963</td>\n",
       "    </tr>\n",
       "    <tr>\n",
       "      <th>0</th>\n",
       "      <td>7</td>\n",
       "      <td>0.401275</td>\n",
       "      <td>0.38442972</td>\n",
       "      <td>1.456342</td>\n",
       "      <td>1.505892</td>\n",
       "    </tr>\n",
       "    <tr>\n",
       "      <th>0</th>\n",
       "      <td>8</td>\n",
       "      <td>0.3508585</td>\n",
       "      <td>0.33663556</td>\n",
       "      <td>1.392079</td>\n",
       "      <td>1.394289</td>\n",
       "    </tr>\n",
       "    <tr>\n",
       "      <th>0</th>\n",
       "      <td>9</td>\n",
       "      <td>0.31537148</td>\n",
       "      <td>0.2953225</td>\n",
       "      <td>1.336661</td>\n",
       "      <td>1.350569</td>\n",
       "    </tr>\n",
       "    <tr>\n",
       "      <th>0</th>\n",
       "      <td>10</td>\n",
       "      <td>0.27957052</td>\n",
       "      <td>0.2661811</td>\n",
       "      <td>1.305799</td>\n",
       "      <td>1.315343</td>\n",
       "    </tr>\n",
       "    <tr>\n",
       "      <th>0</th>\n",
       "      <td>11</td>\n",
       "      <td>0.24917743</td>\n",
       "      <td>0.2541651</td>\n",
       "      <td>1.280992</td>\n",
       "      <td>1.289688</td>\n",
       "    </tr>\n",
       "    <tr>\n",
       "      <th>0</th>\n",
       "      <td>12</td>\n",
       "      <td>0.23851404</td>\n",
       "      <td>0.23633787</td>\n",
       "      <td>1.258881</td>\n",
       "      <td>1.26929</td>\n",
       "    </tr>\n",
       "    <tr>\n",
       "      <th>0</th>\n",
       "      <td>13</td>\n",
       "      <td>0.22739916</td>\n",
       "      <td>0.23410943</td>\n",
       "      <td>1.249066</td>\n",
       "      <td>1.254971</td>\n",
       "    </tr>\n",
       "    <tr>\n",
       "      <th>0</th>\n",
       "      <td>14</td>\n",
       "      <td>0.21588755</td>\n",
       "      <td>0.22256592</td>\n",
       "      <td>1.23695</td>\n",
       "      <td>1.240142</td>\n",
       "    </tr>\n",
       "    <tr>\n",
       "      <th>0</th>\n",
       "      <td>15</td>\n",
       "      <td>0.20944417</td>\n",
       "      <td>0.21346697</td>\n",
       "      <td>1.229131</td>\n",
       "      <td>1.23079</td>\n",
       "    </tr>\n",
       "    <tr>\n",
       "      <th>0</th>\n",
       "      <td>16</td>\n",
       "      <td>0.20538445</td>\n",
       "      <td>0.2006487</td>\n",
       "      <td>1.224785</td>\n",
       "      <td>1.222236</td>\n",
       "    </tr>\n",
       "    <tr>\n",
       "      <th>0</th>\n",
       "      <td>17</td>\n",
       "      <td>0.19710957</td>\n",
       "      <td>0.21052359</td>\n",
       "      <td>1.216675</td>\n",
       "      <td>1.222593</td>\n",
       "    </tr>\n",
       "  </tbody>\n",
       "</table>\n",
       "</div>"
      ],
      "text/plain": [
       "  Epoch  Train Loss Validation Loss Train Perplexity Validation Perplexity\n",
       "0     0    9.712491       7.7386584      1945.368896           2410.320801\n",
       "0     1   5.2702804       3.4737139        25.196524              29.98979\n",
       "0     2   1.9089866       1.3087386         3.334974              3.636567\n",
       "0     3   0.9772852      0.86348265         2.207242              2.317756\n",
       "0     4   0.6957231      0.59553385         1.866667              2.007807\n",
       "0     5   0.5585126       0.5009365         1.674152              1.633351\n",
       "0     6  0.47072127      0.43331712         1.539256              1.560963\n",
       "0     7    0.401275      0.38442972         1.456342              1.505892\n",
       "0     8   0.3508585      0.33663556         1.392079              1.394289\n",
       "0     9  0.31537148       0.2953225         1.336661              1.350569\n",
       "0    10  0.27957052       0.2661811         1.305799              1.315343\n",
       "0    11  0.24917743       0.2541651         1.280992              1.289688\n",
       "0    12  0.23851404      0.23633787         1.258881               1.26929\n",
       "0    13  0.22739916      0.23410943         1.249066              1.254971\n",
       "0    14  0.21588755      0.22256592          1.23695              1.240142\n",
       "0    15  0.20944417      0.21346697         1.229131               1.23079\n",
       "0    16  0.20538445       0.2006487         1.224785              1.222236\n",
       "0    17  0.19710957      0.21052359         1.216675              1.222593"
      ]
     },
     "metadata": {},
     "output_type": "display_data"
    },
    {
     "data": {
      "application/vnd.jupyter.widget-view+json": {
       "model_id": "22711806d6514e0f9fe6d536de853263",
       "version_major": 2,
       "version_minor": 0
      },
      "text/plain": [
       "Validation: |          | 0/? [00:00<?, ?it/s]"
      ]
     },
     "metadata": {},
     "output_type": "display_data"
    },
    {
     "data": {
      "application/vnd.jupyter.widget-view+json": {
       "model_id": "ec3f6e133b29420ab61cf7842b5f48cd",
       "version_major": 2,
       "version_minor": 0
      },
      "text/plain": [
       "Computing pseudo-perplexity:   0%|          | 0/725 [00:00<?, ?it/s]"
      ]
     },
     "metadata": {},
     "output_type": "display_data"
    },
    {
     "data": {
      "application/vnd.jupyter.widget-view+json": {
       "model_id": "d32deb98f1a041668a17cf0b68881399",
       "version_major": 2,
       "version_minor": 0
      },
      "text/plain": [
       "Computing pseudo-perplexity:   0%|          | 0/81 [00:00<?, ?it/s]"
      ]
     },
     "metadata": {},
     "output_type": "display_data"
    },
    {
     "data": {
      "text/html": [
       "<div>\n",
       "<style scoped>\n",
       "    .dataframe tbody tr th:only-of-type {\n",
       "        vertical-align: middle;\n",
       "    }\n",
       "\n",
       "    .dataframe tbody tr th {\n",
       "        vertical-align: top;\n",
       "    }\n",
       "\n",
       "    .dataframe thead th {\n",
       "        text-align: right;\n",
       "    }\n",
       "</style>\n",
       "<table border=\"1\" class=\"dataframe\">\n",
       "  <thead>\n",
       "    <tr style=\"text-align: right;\">\n",
       "      <th></th>\n",
       "      <th>Epoch</th>\n",
       "      <th>Train Loss</th>\n",
       "      <th>Validation Loss</th>\n",
       "      <th>Train Perplexity</th>\n",
       "      <th>Validation Perplexity</th>\n",
       "    </tr>\n",
       "  </thead>\n",
       "  <tbody>\n",
       "    <tr>\n",
       "      <th>0</th>\n",
       "      <td>0</td>\n",
       "      <td>9.712491</td>\n",
       "      <td>7.7386584</td>\n",
       "      <td>1945.368896</td>\n",
       "      <td>2410.320801</td>\n",
       "    </tr>\n",
       "    <tr>\n",
       "      <th>0</th>\n",
       "      <td>1</td>\n",
       "      <td>5.2702804</td>\n",
       "      <td>3.4737139</td>\n",
       "      <td>25.196524</td>\n",
       "      <td>29.98979</td>\n",
       "    </tr>\n",
       "    <tr>\n",
       "      <th>0</th>\n",
       "      <td>2</td>\n",
       "      <td>1.9089866</td>\n",
       "      <td>1.3087386</td>\n",
       "      <td>3.334974</td>\n",
       "      <td>3.636567</td>\n",
       "    </tr>\n",
       "    <tr>\n",
       "      <th>0</th>\n",
       "      <td>3</td>\n",
       "      <td>0.9772852</td>\n",
       "      <td>0.86348265</td>\n",
       "      <td>2.207242</td>\n",
       "      <td>2.317756</td>\n",
       "    </tr>\n",
       "    <tr>\n",
       "      <th>0</th>\n",
       "      <td>4</td>\n",
       "      <td>0.6957231</td>\n",
       "      <td>0.59553385</td>\n",
       "      <td>1.866667</td>\n",
       "      <td>2.007807</td>\n",
       "    </tr>\n",
       "    <tr>\n",
       "      <th>0</th>\n",
       "      <td>5</td>\n",
       "      <td>0.5585126</td>\n",
       "      <td>0.5009365</td>\n",
       "      <td>1.674152</td>\n",
       "      <td>1.633351</td>\n",
       "    </tr>\n",
       "    <tr>\n",
       "      <th>0</th>\n",
       "      <td>6</td>\n",
       "      <td>0.47072127</td>\n",
       "      <td>0.43331712</td>\n",
       "      <td>1.539256</td>\n",
       "      <td>1.560963</td>\n",
       "    </tr>\n",
       "    <tr>\n",
       "      <th>0</th>\n",
       "      <td>7</td>\n",
       "      <td>0.401275</td>\n",
       "      <td>0.38442972</td>\n",
       "      <td>1.456342</td>\n",
       "      <td>1.505892</td>\n",
       "    </tr>\n",
       "    <tr>\n",
       "      <th>0</th>\n",
       "      <td>8</td>\n",
       "      <td>0.3508585</td>\n",
       "      <td>0.33663556</td>\n",
       "      <td>1.392079</td>\n",
       "      <td>1.394289</td>\n",
       "    </tr>\n",
       "    <tr>\n",
       "      <th>0</th>\n",
       "      <td>9</td>\n",
       "      <td>0.31537148</td>\n",
       "      <td>0.2953225</td>\n",
       "      <td>1.336661</td>\n",
       "      <td>1.350569</td>\n",
       "    </tr>\n",
       "    <tr>\n",
       "      <th>0</th>\n",
       "      <td>10</td>\n",
       "      <td>0.27957052</td>\n",
       "      <td>0.2661811</td>\n",
       "      <td>1.305799</td>\n",
       "      <td>1.315343</td>\n",
       "    </tr>\n",
       "    <tr>\n",
       "      <th>0</th>\n",
       "      <td>11</td>\n",
       "      <td>0.24917743</td>\n",
       "      <td>0.2541651</td>\n",
       "      <td>1.280992</td>\n",
       "      <td>1.289688</td>\n",
       "    </tr>\n",
       "    <tr>\n",
       "      <th>0</th>\n",
       "      <td>12</td>\n",
       "      <td>0.23851404</td>\n",
       "      <td>0.23633787</td>\n",
       "      <td>1.258881</td>\n",
       "      <td>1.26929</td>\n",
       "    </tr>\n",
       "    <tr>\n",
       "      <th>0</th>\n",
       "      <td>13</td>\n",
       "      <td>0.22739916</td>\n",
       "      <td>0.23410943</td>\n",
       "      <td>1.249066</td>\n",
       "      <td>1.254971</td>\n",
       "    </tr>\n",
       "    <tr>\n",
       "      <th>0</th>\n",
       "      <td>14</td>\n",
       "      <td>0.21588755</td>\n",
       "      <td>0.22256592</td>\n",
       "      <td>1.23695</td>\n",
       "      <td>1.240142</td>\n",
       "    </tr>\n",
       "    <tr>\n",
       "      <th>0</th>\n",
       "      <td>15</td>\n",
       "      <td>0.20944417</td>\n",
       "      <td>0.21346697</td>\n",
       "      <td>1.229131</td>\n",
       "      <td>1.23079</td>\n",
       "    </tr>\n",
       "    <tr>\n",
       "      <th>0</th>\n",
       "      <td>16</td>\n",
       "      <td>0.20538445</td>\n",
       "      <td>0.2006487</td>\n",
       "      <td>1.224785</td>\n",
       "      <td>1.222236</td>\n",
       "    </tr>\n",
       "    <tr>\n",
       "      <th>0</th>\n",
       "      <td>17</td>\n",
       "      <td>0.19710957</td>\n",
       "      <td>0.21052359</td>\n",
       "      <td>1.216675</td>\n",
       "      <td>1.222593</td>\n",
       "    </tr>\n",
       "    <tr>\n",
       "      <th>0</th>\n",
       "      <td>18</td>\n",
       "      <td>0.19364801</td>\n",
       "      <td>0.1927766</td>\n",
       "      <td>1.210852</td>\n",
       "      <td>1.222276</td>\n",
       "    </tr>\n",
       "  </tbody>\n",
       "</table>\n",
       "</div>"
      ],
      "text/plain": [
       "  Epoch  Train Loss Validation Loss Train Perplexity Validation Perplexity\n",
       "0     0    9.712491       7.7386584      1945.368896           2410.320801\n",
       "0     1   5.2702804       3.4737139        25.196524              29.98979\n",
       "0     2   1.9089866       1.3087386         3.334974              3.636567\n",
       "0     3   0.9772852      0.86348265         2.207242              2.317756\n",
       "0     4   0.6957231      0.59553385         1.866667              2.007807\n",
       "0     5   0.5585126       0.5009365         1.674152              1.633351\n",
       "0     6  0.47072127      0.43331712         1.539256              1.560963\n",
       "0     7    0.401275      0.38442972         1.456342              1.505892\n",
       "0     8   0.3508585      0.33663556         1.392079              1.394289\n",
       "0     9  0.31537148       0.2953225         1.336661              1.350569\n",
       "0    10  0.27957052       0.2661811         1.305799              1.315343\n",
       "0    11  0.24917743       0.2541651         1.280992              1.289688\n",
       "0    12  0.23851404      0.23633787         1.258881               1.26929\n",
       "0    13  0.22739916      0.23410943         1.249066              1.254971\n",
       "0    14  0.21588755      0.22256592          1.23695              1.240142\n",
       "0    15  0.20944417      0.21346697         1.229131               1.23079\n",
       "0    16  0.20538445       0.2006487         1.224785              1.222236\n",
       "0    17  0.19710957      0.21052359         1.216675              1.222593\n",
       "0    18  0.19364801       0.1927766         1.210852              1.222276"
      ]
     },
     "metadata": {},
     "output_type": "display_data"
    },
    {
     "data": {
      "application/vnd.jupyter.widget-view+json": {
       "model_id": "50fd32b5e13845efb4a1a99b3d532e6a",
       "version_major": 2,
       "version_minor": 0
      },
      "text/plain": [
       "Validation: |          | 0/? [00:00<?, ?it/s]"
      ]
     },
     "metadata": {},
     "output_type": "display_data"
    },
    {
     "data": {
      "application/vnd.jupyter.widget-view+json": {
       "model_id": "ea0fdce81b704228b3e7c16208745542",
       "version_major": 2,
       "version_minor": 0
      },
      "text/plain": [
       "Computing pseudo-perplexity:   0%|          | 0/725 [00:00<?, ?it/s]"
      ]
     },
     "metadata": {},
     "output_type": "display_data"
    },
    {
     "data": {
      "application/vnd.jupyter.widget-view+json": {
       "model_id": "9bda36a82ba44b16a5112b78459be90c",
       "version_major": 2,
       "version_minor": 0
      },
      "text/plain": [
       "Computing pseudo-perplexity:   0%|          | 0/81 [00:00<?, ?it/s]"
      ]
     },
     "metadata": {},
     "output_type": "display_data"
    },
    {
     "data": {
      "text/html": [
       "<div>\n",
       "<style scoped>\n",
       "    .dataframe tbody tr th:only-of-type {\n",
       "        vertical-align: middle;\n",
       "    }\n",
       "\n",
       "    .dataframe tbody tr th {\n",
       "        vertical-align: top;\n",
       "    }\n",
       "\n",
       "    .dataframe thead th {\n",
       "        text-align: right;\n",
       "    }\n",
       "</style>\n",
       "<table border=\"1\" class=\"dataframe\">\n",
       "  <thead>\n",
       "    <tr style=\"text-align: right;\">\n",
       "      <th></th>\n",
       "      <th>Epoch</th>\n",
       "      <th>Train Loss</th>\n",
       "      <th>Validation Loss</th>\n",
       "      <th>Train Perplexity</th>\n",
       "      <th>Validation Perplexity</th>\n",
       "    </tr>\n",
       "  </thead>\n",
       "  <tbody>\n",
       "    <tr>\n",
       "      <th>0</th>\n",
       "      <td>0</td>\n",
       "      <td>9.712491</td>\n",
       "      <td>7.7386584</td>\n",
       "      <td>1945.368896</td>\n",
       "      <td>2410.320801</td>\n",
       "    </tr>\n",
       "    <tr>\n",
       "      <th>0</th>\n",
       "      <td>1</td>\n",
       "      <td>5.2702804</td>\n",
       "      <td>3.4737139</td>\n",
       "      <td>25.196524</td>\n",
       "      <td>29.98979</td>\n",
       "    </tr>\n",
       "    <tr>\n",
       "      <th>0</th>\n",
       "      <td>2</td>\n",
       "      <td>1.9089866</td>\n",
       "      <td>1.3087386</td>\n",
       "      <td>3.334974</td>\n",
       "      <td>3.636567</td>\n",
       "    </tr>\n",
       "    <tr>\n",
       "      <th>0</th>\n",
       "      <td>3</td>\n",
       "      <td>0.9772852</td>\n",
       "      <td>0.86348265</td>\n",
       "      <td>2.207242</td>\n",
       "      <td>2.317756</td>\n",
       "    </tr>\n",
       "    <tr>\n",
       "      <th>0</th>\n",
       "      <td>4</td>\n",
       "      <td>0.6957231</td>\n",
       "      <td>0.59553385</td>\n",
       "      <td>1.866667</td>\n",
       "      <td>2.007807</td>\n",
       "    </tr>\n",
       "    <tr>\n",
       "      <th>0</th>\n",
       "      <td>5</td>\n",
       "      <td>0.5585126</td>\n",
       "      <td>0.5009365</td>\n",
       "      <td>1.674152</td>\n",
       "      <td>1.633351</td>\n",
       "    </tr>\n",
       "    <tr>\n",
       "      <th>0</th>\n",
       "      <td>6</td>\n",
       "      <td>0.47072127</td>\n",
       "      <td>0.43331712</td>\n",
       "      <td>1.539256</td>\n",
       "      <td>1.560963</td>\n",
       "    </tr>\n",
       "    <tr>\n",
       "      <th>0</th>\n",
       "      <td>7</td>\n",
       "      <td>0.401275</td>\n",
       "      <td>0.38442972</td>\n",
       "      <td>1.456342</td>\n",
       "      <td>1.505892</td>\n",
       "    </tr>\n",
       "    <tr>\n",
       "      <th>0</th>\n",
       "      <td>8</td>\n",
       "      <td>0.3508585</td>\n",
       "      <td>0.33663556</td>\n",
       "      <td>1.392079</td>\n",
       "      <td>1.394289</td>\n",
       "    </tr>\n",
       "    <tr>\n",
       "      <th>0</th>\n",
       "      <td>9</td>\n",
       "      <td>0.31537148</td>\n",
       "      <td>0.2953225</td>\n",
       "      <td>1.336661</td>\n",
       "      <td>1.350569</td>\n",
       "    </tr>\n",
       "    <tr>\n",
       "      <th>0</th>\n",
       "      <td>10</td>\n",
       "      <td>0.27957052</td>\n",
       "      <td>0.2661811</td>\n",
       "      <td>1.305799</td>\n",
       "      <td>1.315343</td>\n",
       "    </tr>\n",
       "    <tr>\n",
       "      <th>0</th>\n",
       "      <td>11</td>\n",
       "      <td>0.24917743</td>\n",
       "      <td>0.2541651</td>\n",
       "      <td>1.280992</td>\n",
       "      <td>1.289688</td>\n",
       "    </tr>\n",
       "    <tr>\n",
       "      <th>0</th>\n",
       "      <td>12</td>\n",
       "      <td>0.23851404</td>\n",
       "      <td>0.23633787</td>\n",
       "      <td>1.258881</td>\n",
       "      <td>1.26929</td>\n",
       "    </tr>\n",
       "    <tr>\n",
       "      <th>0</th>\n",
       "      <td>13</td>\n",
       "      <td>0.22739916</td>\n",
       "      <td>0.23410943</td>\n",
       "      <td>1.249066</td>\n",
       "      <td>1.254971</td>\n",
       "    </tr>\n",
       "    <tr>\n",
       "      <th>0</th>\n",
       "      <td>14</td>\n",
       "      <td>0.21588755</td>\n",
       "      <td>0.22256592</td>\n",
       "      <td>1.23695</td>\n",
       "      <td>1.240142</td>\n",
       "    </tr>\n",
       "    <tr>\n",
       "      <th>0</th>\n",
       "      <td>15</td>\n",
       "      <td>0.20944417</td>\n",
       "      <td>0.21346697</td>\n",
       "      <td>1.229131</td>\n",
       "      <td>1.23079</td>\n",
       "    </tr>\n",
       "    <tr>\n",
       "      <th>0</th>\n",
       "      <td>16</td>\n",
       "      <td>0.20538445</td>\n",
       "      <td>0.2006487</td>\n",
       "      <td>1.224785</td>\n",
       "      <td>1.222236</td>\n",
       "    </tr>\n",
       "    <tr>\n",
       "      <th>0</th>\n",
       "      <td>17</td>\n",
       "      <td>0.19710957</td>\n",
       "      <td>0.21052359</td>\n",
       "      <td>1.216675</td>\n",
       "      <td>1.222593</td>\n",
       "    </tr>\n",
       "    <tr>\n",
       "      <th>0</th>\n",
       "      <td>18</td>\n",
       "      <td>0.19364801</td>\n",
       "      <td>0.1927766</td>\n",
       "      <td>1.210852</td>\n",
       "      <td>1.222276</td>\n",
       "    </tr>\n",
       "    <tr>\n",
       "      <th>0</th>\n",
       "      <td>19</td>\n",
       "      <td>0.19212724</td>\n",
       "      <td>0.1884188</td>\n",
       "      <td>1.209362</td>\n",
       "      <td>1.206877</td>\n",
       "    </tr>\n",
       "  </tbody>\n",
       "</table>\n",
       "</div>"
      ],
      "text/plain": [
       "  Epoch  Train Loss Validation Loss Train Perplexity Validation Perplexity\n",
       "0     0    9.712491       7.7386584      1945.368896           2410.320801\n",
       "0     1   5.2702804       3.4737139        25.196524              29.98979\n",
       "0     2   1.9089866       1.3087386         3.334974              3.636567\n",
       "0     3   0.9772852      0.86348265         2.207242              2.317756\n",
       "0     4   0.6957231      0.59553385         1.866667              2.007807\n",
       "0     5   0.5585126       0.5009365         1.674152              1.633351\n",
       "0     6  0.47072127      0.43331712         1.539256              1.560963\n",
       "0     7    0.401275      0.38442972         1.456342              1.505892\n",
       "0     8   0.3508585      0.33663556         1.392079              1.394289\n",
       "0     9  0.31537148       0.2953225         1.336661              1.350569\n",
       "0    10  0.27957052       0.2661811         1.305799              1.315343\n",
       "0    11  0.24917743       0.2541651         1.280992              1.289688\n",
       "0    12  0.23851404      0.23633787         1.258881               1.26929\n",
       "0    13  0.22739916      0.23410943         1.249066              1.254971\n",
       "0    14  0.21588755      0.22256592          1.23695              1.240142\n",
       "0    15  0.20944417      0.21346697         1.229131               1.23079\n",
       "0    16  0.20538445       0.2006487         1.224785              1.222236\n",
       "0    17  0.19710957      0.21052359         1.216675              1.222593\n",
       "0    18  0.19364801       0.1927766         1.210852              1.222276\n",
       "0    19  0.19212724       0.1884188         1.209362              1.206877"
      ]
     },
     "metadata": {},
     "output_type": "display_data"
    },
    {
     "name": "stderr",
     "output_type": "stream",
     "text": [
      "Metric val_perplexity improved by 0.015 >= min_delta = 0.0. New best score: 1.207\n"
     ]
    },
    {
     "data": {
      "application/vnd.jupyter.widget-view+json": {
       "model_id": "65aeb2873f8e4e4c89e345a1689e2c88",
       "version_major": 2,
       "version_minor": 0
      },
      "text/plain": [
       "Validation: |          | 0/? [00:00<?, ?it/s]"
      ]
     },
     "metadata": {},
     "output_type": "display_data"
    },
    {
     "data": {
      "application/vnd.jupyter.widget-view+json": {
       "model_id": "dcc7422fd4b44156bff6bef515f543d0",
       "version_major": 2,
       "version_minor": 0
      },
      "text/plain": [
       "Computing pseudo-perplexity:   0%|          | 0/725 [00:00<?, ?it/s]"
      ]
     },
     "metadata": {},
     "output_type": "display_data"
    },
    {
     "data": {
      "application/vnd.jupyter.widget-view+json": {
       "model_id": "f83649cda0f34ac69c96b95e55ba7037",
       "version_major": 2,
       "version_minor": 0
      },
      "text/plain": [
       "Computing pseudo-perplexity:   0%|          | 0/81 [00:00<?, ?it/s]"
      ]
     },
     "metadata": {},
     "output_type": "display_data"
    },
    {
     "data": {
      "text/html": [
       "<div>\n",
       "<style scoped>\n",
       "    .dataframe tbody tr th:only-of-type {\n",
       "        vertical-align: middle;\n",
       "    }\n",
       "\n",
       "    .dataframe tbody tr th {\n",
       "        vertical-align: top;\n",
       "    }\n",
       "\n",
       "    .dataframe thead th {\n",
       "        text-align: right;\n",
       "    }\n",
       "</style>\n",
       "<table border=\"1\" class=\"dataframe\">\n",
       "  <thead>\n",
       "    <tr style=\"text-align: right;\">\n",
       "      <th></th>\n",
       "      <th>Epoch</th>\n",
       "      <th>Train Loss</th>\n",
       "      <th>Validation Loss</th>\n",
       "      <th>Train Perplexity</th>\n",
       "      <th>Validation Perplexity</th>\n",
       "    </tr>\n",
       "  </thead>\n",
       "  <tbody>\n",
       "    <tr>\n",
       "      <th>0</th>\n",
       "      <td>0</td>\n",
       "      <td>9.712491</td>\n",
       "      <td>7.7386584</td>\n",
       "      <td>1945.368896</td>\n",
       "      <td>2410.320801</td>\n",
       "    </tr>\n",
       "    <tr>\n",
       "      <th>0</th>\n",
       "      <td>1</td>\n",
       "      <td>5.2702804</td>\n",
       "      <td>3.4737139</td>\n",
       "      <td>25.196524</td>\n",
       "      <td>29.98979</td>\n",
       "    </tr>\n",
       "    <tr>\n",
       "      <th>0</th>\n",
       "      <td>2</td>\n",
       "      <td>1.9089866</td>\n",
       "      <td>1.3087386</td>\n",
       "      <td>3.334974</td>\n",
       "      <td>3.636567</td>\n",
       "    </tr>\n",
       "    <tr>\n",
       "      <th>0</th>\n",
       "      <td>3</td>\n",
       "      <td>0.9772852</td>\n",
       "      <td>0.86348265</td>\n",
       "      <td>2.207242</td>\n",
       "      <td>2.317756</td>\n",
       "    </tr>\n",
       "    <tr>\n",
       "      <th>0</th>\n",
       "      <td>4</td>\n",
       "      <td>0.6957231</td>\n",
       "      <td>0.59553385</td>\n",
       "      <td>1.866667</td>\n",
       "      <td>2.007807</td>\n",
       "    </tr>\n",
       "    <tr>\n",
       "      <th>0</th>\n",
       "      <td>5</td>\n",
       "      <td>0.5585126</td>\n",
       "      <td>0.5009365</td>\n",
       "      <td>1.674152</td>\n",
       "      <td>1.633351</td>\n",
       "    </tr>\n",
       "    <tr>\n",
       "      <th>0</th>\n",
       "      <td>6</td>\n",
       "      <td>0.47072127</td>\n",
       "      <td>0.43331712</td>\n",
       "      <td>1.539256</td>\n",
       "      <td>1.560963</td>\n",
       "    </tr>\n",
       "    <tr>\n",
       "      <th>0</th>\n",
       "      <td>7</td>\n",
       "      <td>0.401275</td>\n",
       "      <td>0.38442972</td>\n",
       "      <td>1.456342</td>\n",
       "      <td>1.505892</td>\n",
       "    </tr>\n",
       "    <tr>\n",
       "      <th>0</th>\n",
       "      <td>8</td>\n",
       "      <td>0.3508585</td>\n",
       "      <td>0.33663556</td>\n",
       "      <td>1.392079</td>\n",
       "      <td>1.394289</td>\n",
       "    </tr>\n",
       "    <tr>\n",
       "      <th>0</th>\n",
       "      <td>9</td>\n",
       "      <td>0.31537148</td>\n",
       "      <td>0.2953225</td>\n",
       "      <td>1.336661</td>\n",
       "      <td>1.350569</td>\n",
       "    </tr>\n",
       "    <tr>\n",
       "      <th>0</th>\n",
       "      <td>10</td>\n",
       "      <td>0.27957052</td>\n",
       "      <td>0.2661811</td>\n",
       "      <td>1.305799</td>\n",
       "      <td>1.315343</td>\n",
       "    </tr>\n",
       "    <tr>\n",
       "      <th>0</th>\n",
       "      <td>11</td>\n",
       "      <td>0.24917743</td>\n",
       "      <td>0.2541651</td>\n",
       "      <td>1.280992</td>\n",
       "      <td>1.289688</td>\n",
       "    </tr>\n",
       "    <tr>\n",
       "      <th>0</th>\n",
       "      <td>12</td>\n",
       "      <td>0.23851404</td>\n",
       "      <td>0.23633787</td>\n",
       "      <td>1.258881</td>\n",
       "      <td>1.26929</td>\n",
       "    </tr>\n",
       "    <tr>\n",
       "      <th>0</th>\n",
       "      <td>13</td>\n",
       "      <td>0.22739916</td>\n",
       "      <td>0.23410943</td>\n",
       "      <td>1.249066</td>\n",
       "      <td>1.254971</td>\n",
       "    </tr>\n",
       "    <tr>\n",
       "      <th>0</th>\n",
       "      <td>14</td>\n",
       "      <td>0.21588755</td>\n",
       "      <td>0.22256592</td>\n",
       "      <td>1.23695</td>\n",
       "      <td>1.240142</td>\n",
       "    </tr>\n",
       "    <tr>\n",
       "      <th>0</th>\n",
       "      <td>15</td>\n",
       "      <td>0.20944417</td>\n",
       "      <td>0.21346697</td>\n",
       "      <td>1.229131</td>\n",
       "      <td>1.23079</td>\n",
       "    </tr>\n",
       "    <tr>\n",
       "      <th>0</th>\n",
       "      <td>16</td>\n",
       "      <td>0.20538445</td>\n",
       "      <td>0.2006487</td>\n",
       "      <td>1.224785</td>\n",
       "      <td>1.222236</td>\n",
       "    </tr>\n",
       "    <tr>\n",
       "      <th>0</th>\n",
       "      <td>17</td>\n",
       "      <td>0.19710957</td>\n",
       "      <td>0.21052359</td>\n",
       "      <td>1.216675</td>\n",
       "      <td>1.222593</td>\n",
       "    </tr>\n",
       "    <tr>\n",
       "      <th>0</th>\n",
       "      <td>18</td>\n",
       "      <td>0.19364801</td>\n",
       "      <td>0.1927766</td>\n",
       "      <td>1.210852</td>\n",
       "      <td>1.222276</td>\n",
       "    </tr>\n",
       "    <tr>\n",
       "      <th>0</th>\n",
       "      <td>19</td>\n",
       "      <td>0.19212724</td>\n",
       "      <td>0.1884188</td>\n",
       "      <td>1.209362</td>\n",
       "      <td>1.206877</td>\n",
       "    </tr>\n",
       "    <tr>\n",
       "      <th>0</th>\n",
       "      <td>20</td>\n",
       "      <td>0.18867527</td>\n",
       "      <td>0.18979491</td>\n",
       "      <td>1.203771</td>\n",
       "      <td>1.212314</td>\n",
       "    </tr>\n",
       "  </tbody>\n",
       "</table>\n",
       "</div>"
      ],
      "text/plain": [
       "  Epoch  Train Loss Validation Loss Train Perplexity Validation Perplexity\n",
       "0     0    9.712491       7.7386584      1945.368896           2410.320801\n",
       "0     1   5.2702804       3.4737139        25.196524              29.98979\n",
       "0     2   1.9089866       1.3087386         3.334974              3.636567\n",
       "0     3   0.9772852      0.86348265         2.207242              2.317756\n",
       "0     4   0.6957231      0.59553385         1.866667              2.007807\n",
       "0     5   0.5585126       0.5009365         1.674152              1.633351\n",
       "0     6  0.47072127      0.43331712         1.539256              1.560963\n",
       "0     7    0.401275      0.38442972         1.456342              1.505892\n",
       "0     8   0.3508585      0.33663556         1.392079              1.394289\n",
       "0     9  0.31537148       0.2953225         1.336661              1.350569\n",
       "0    10  0.27957052       0.2661811         1.305799              1.315343\n",
       "0    11  0.24917743       0.2541651         1.280992              1.289688\n",
       "0    12  0.23851404      0.23633787         1.258881               1.26929\n",
       "0    13  0.22739916      0.23410943         1.249066              1.254971\n",
       "0    14  0.21588755      0.22256592          1.23695              1.240142\n",
       "0    15  0.20944417      0.21346697         1.229131               1.23079\n",
       "0    16  0.20538445       0.2006487         1.224785              1.222236\n",
       "0    17  0.19710957      0.21052359         1.216675              1.222593\n",
       "0    18  0.19364801       0.1927766         1.210852              1.222276\n",
       "0    19  0.19212724       0.1884188         1.209362              1.206877\n",
       "0    20  0.18867527      0.18979491         1.203771              1.212314"
      ]
     },
     "metadata": {},
     "output_type": "display_data"
    },
    {
     "data": {
      "application/vnd.jupyter.widget-view+json": {
       "model_id": "1fc040d690e24205b13145f830ec2f50",
       "version_major": 2,
       "version_minor": 0
      },
      "text/plain": [
       "Validation: |          | 0/? [00:00<?, ?it/s]"
      ]
     },
     "metadata": {},
     "output_type": "display_data"
    },
    {
     "data": {
      "application/vnd.jupyter.widget-view+json": {
       "model_id": "e22b6bf3ec9246a69224d0fc00a0a954",
       "version_major": 2,
       "version_minor": 0
      },
      "text/plain": [
       "Computing pseudo-perplexity:   0%|          | 0/725 [00:00<?, ?it/s]"
      ]
     },
     "metadata": {},
     "output_type": "display_data"
    },
    {
     "data": {
      "application/vnd.jupyter.widget-view+json": {
       "model_id": "2926e8ccf1494c89806553b539db4163",
       "version_major": 2,
       "version_minor": 0
      },
      "text/plain": [
       "Computing pseudo-perplexity:   0%|          | 0/81 [00:00<?, ?it/s]"
      ]
     },
     "metadata": {},
     "output_type": "display_data"
    },
    {
     "data": {
      "text/html": [
       "<div>\n",
       "<style scoped>\n",
       "    .dataframe tbody tr th:only-of-type {\n",
       "        vertical-align: middle;\n",
       "    }\n",
       "\n",
       "    .dataframe tbody tr th {\n",
       "        vertical-align: top;\n",
       "    }\n",
       "\n",
       "    .dataframe thead th {\n",
       "        text-align: right;\n",
       "    }\n",
       "</style>\n",
       "<table border=\"1\" class=\"dataframe\">\n",
       "  <thead>\n",
       "    <tr style=\"text-align: right;\">\n",
       "      <th></th>\n",
       "      <th>Epoch</th>\n",
       "      <th>Train Loss</th>\n",
       "      <th>Validation Loss</th>\n",
       "      <th>Train Perplexity</th>\n",
       "      <th>Validation Perplexity</th>\n",
       "    </tr>\n",
       "  </thead>\n",
       "  <tbody>\n",
       "    <tr>\n",
       "      <th>0</th>\n",
       "      <td>0</td>\n",
       "      <td>9.712491</td>\n",
       "      <td>7.7386584</td>\n",
       "      <td>1945.368896</td>\n",
       "      <td>2410.320801</td>\n",
       "    </tr>\n",
       "    <tr>\n",
       "      <th>0</th>\n",
       "      <td>1</td>\n",
       "      <td>5.2702804</td>\n",
       "      <td>3.4737139</td>\n",
       "      <td>25.196524</td>\n",
       "      <td>29.98979</td>\n",
       "    </tr>\n",
       "    <tr>\n",
       "      <th>0</th>\n",
       "      <td>2</td>\n",
       "      <td>1.9089866</td>\n",
       "      <td>1.3087386</td>\n",
       "      <td>3.334974</td>\n",
       "      <td>3.636567</td>\n",
       "    </tr>\n",
       "    <tr>\n",
       "      <th>0</th>\n",
       "      <td>3</td>\n",
       "      <td>0.9772852</td>\n",
       "      <td>0.86348265</td>\n",
       "      <td>2.207242</td>\n",
       "      <td>2.317756</td>\n",
       "    </tr>\n",
       "    <tr>\n",
       "      <th>0</th>\n",
       "      <td>4</td>\n",
       "      <td>0.6957231</td>\n",
       "      <td>0.59553385</td>\n",
       "      <td>1.866667</td>\n",
       "      <td>2.007807</td>\n",
       "    </tr>\n",
       "    <tr>\n",
       "      <th>0</th>\n",
       "      <td>5</td>\n",
       "      <td>0.5585126</td>\n",
       "      <td>0.5009365</td>\n",
       "      <td>1.674152</td>\n",
       "      <td>1.633351</td>\n",
       "    </tr>\n",
       "    <tr>\n",
       "      <th>0</th>\n",
       "      <td>6</td>\n",
       "      <td>0.47072127</td>\n",
       "      <td>0.43331712</td>\n",
       "      <td>1.539256</td>\n",
       "      <td>1.560963</td>\n",
       "    </tr>\n",
       "    <tr>\n",
       "      <th>0</th>\n",
       "      <td>7</td>\n",
       "      <td>0.401275</td>\n",
       "      <td>0.38442972</td>\n",
       "      <td>1.456342</td>\n",
       "      <td>1.505892</td>\n",
       "    </tr>\n",
       "    <tr>\n",
       "      <th>0</th>\n",
       "      <td>8</td>\n",
       "      <td>0.3508585</td>\n",
       "      <td>0.33663556</td>\n",
       "      <td>1.392079</td>\n",
       "      <td>1.394289</td>\n",
       "    </tr>\n",
       "    <tr>\n",
       "      <th>0</th>\n",
       "      <td>9</td>\n",
       "      <td>0.31537148</td>\n",
       "      <td>0.2953225</td>\n",
       "      <td>1.336661</td>\n",
       "      <td>1.350569</td>\n",
       "    </tr>\n",
       "    <tr>\n",
       "      <th>0</th>\n",
       "      <td>10</td>\n",
       "      <td>0.27957052</td>\n",
       "      <td>0.2661811</td>\n",
       "      <td>1.305799</td>\n",
       "      <td>1.315343</td>\n",
       "    </tr>\n",
       "    <tr>\n",
       "      <th>0</th>\n",
       "      <td>11</td>\n",
       "      <td>0.24917743</td>\n",
       "      <td>0.2541651</td>\n",
       "      <td>1.280992</td>\n",
       "      <td>1.289688</td>\n",
       "    </tr>\n",
       "    <tr>\n",
       "      <th>0</th>\n",
       "      <td>12</td>\n",
       "      <td>0.23851404</td>\n",
       "      <td>0.23633787</td>\n",
       "      <td>1.258881</td>\n",
       "      <td>1.26929</td>\n",
       "    </tr>\n",
       "    <tr>\n",
       "      <th>0</th>\n",
       "      <td>13</td>\n",
       "      <td>0.22739916</td>\n",
       "      <td>0.23410943</td>\n",
       "      <td>1.249066</td>\n",
       "      <td>1.254971</td>\n",
       "    </tr>\n",
       "    <tr>\n",
       "      <th>0</th>\n",
       "      <td>14</td>\n",
       "      <td>0.21588755</td>\n",
       "      <td>0.22256592</td>\n",
       "      <td>1.23695</td>\n",
       "      <td>1.240142</td>\n",
       "    </tr>\n",
       "    <tr>\n",
       "      <th>0</th>\n",
       "      <td>15</td>\n",
       "      <td>0.20944417</td>\n",
       "      <td>0.21346697</td>\n",
       "      <td>1.229131</td>\n",
       "      <td>1.23079</td>\n",
       "    </tr>\n",
       "    <tr>\n",
       "      <th>0</th>\n",
       "      <td>16</td>\n",
       "      <td>0.20538445</td>\n",
       "      <td>0.2006487</td>\n",
       "      <td>1.224785</td>\n",
       "      <td>1.222236</td>\n",
       "    </tr>\n",
       "    <tr>\n",
       "      <th>0</th>\n",
       "      <td>17</td>\n",
       "      <td>0.19710957</td>\n",
       "      <td>0.21052359</td>\n",
       "      <td>1.216675</td>\n",
       "      <td>1.222593</td>\n",
       "    </tr>\n",
       "    <tr>\n",
       "      <th>0</th>\n",
       "      <td>18</td>\n",
       "      <td>0.19364801</td>\n",
       "      <td>0.1927766</td>\n",
       "      <td>1.210852</td>\n",
       "      <td>1.222276</td>\n",
       "    </tr>\n",
       "    <tr>\n",
       "      <th>0</th>\n",
       "      <td>19</td>\n",
       "      <td>0.19212724</td>\n",
       "      <td>0.1884188</td>\n",
       "      <td>1.209362</td>\n",
       "      <td>1.206877</td>\n",
       "    </tr>\n",
       "    <tr>\n",
       "      <th>0</th>\n",
       "      <td>20</td>\n",
       "      <td>0.18867527</td>\n",
       "      <td>0.18979491</td>\n",
       "      <td>1.203771</td>\n",
       "      <td>1.212314</td>\n",
       "    </tr>\n",
       "    <tr>\n",
       "      <th>0</th>\n",
       "      <td>21</td>\n",
       "      <td>0.18449312</td>\n",
       "      <td>0.19283527</td>\n",
       "      <td>1.203029</td>\n",
       "      <td>1.214669</td>\n",
       "    </tr>\n",
       "  </tbody>\n",
       "</table>\n",
       "</div>"
      ],
      "text/plain": [
       "  Epoch  Train Loss Validation Loss Train Perplexity Validation Perplexity\n",
       "0     0    9.712491       7.7386584      1945.368896           2410.320801\n",
       "0     1   5.2702804       3.4737139        25.196524              29.98979\n",
       "0     2   1.9089866       1.3087386         3.334974              3.636567\n",
       "0     3   0.9772852      0.86348265         2.207242              2.317756\n",
       "0     4   0.6957231      0.59553385         1.866667              2.007807\n",
       "0     5   0.5585126       0.5009365         1.674152              1.633351\n",
       "0     6  0.47072127      0.43331712         1.539256              1.560963\n",
       "0     7    0.401275      0.38442972         1.456342              1.505892\n",
       "0     8   0.3508585      0.33663556         1.392079              1.394289\n",
       "0     9  0.31537148       0.2953225         1.336661              1.350569\n",
       "0    10  0.27957052       0.2661811         1.305799              1.315343\n",
       "0    11  0.24917743       0.2541651         1.280992              1.289688\n",
       "0    12  0.23851404      0.23633787         1.258881               1.26929\n",
       "0    13  0.22739916      0.23410943         1.249066              1.254971\n",
       "0    14  0.21588755      0.22256592          1.23695              1.240142\n",
       "0    15  0.20944417      0.21346697         1.229131               1.23079\n",
       "0    16  0.20538445       0.2006487         1.224785              1.222236\n",
       "0    17  0.19710957      0.21052359         1.216675              1.222593\n",
       "0    18  0.19364801       0.1927766         1.210852              1.222276\n",
       "0    19  0.19212724       0.1884188         1.209362              1.206877\n",
       "0    20  0.18867527      0.18979491         1.203771              1.212314\n",
       "0    21  0.18449312      0.19283527         1.203029              1.214669"
      ]
     },
     "metadata": {},
     "output_type": "display_data"
    },
    {
     "data": {
      "application/vnd.jupyter.widget-view+json": {
       "model_id": "0ecf925b1b4f4a838885654f432deb46",
       "version_major": 2,
       "version_minor": 0
      },
      "text/plain": [
       "Validation: |          | 0/? [00:00<?, ?it/s]"
      ]
     },
     "metadata": {},
     "output_type": "display_data"
    },
    {
     "data": {
      "application/vnd.jupyter.widget-view+json": {
       "model_id": "fda7d637865a463d9b9c70940b04cd67",
       "version_major": 2,
       "version_minor": 0
      },
      "text/plain": [
       "Computing pseudo-perplexity:   0%|          | 0/725 [00:00<?, ?it/s]"
      ]
     },
     "metadata": {},
     "output_type": "display_data"
    },
    {
     "data": {
      "application/vnd.jupyter.widget-view+json": {
       "model_id": "514fbcb456ac41308160b4f3ca00f10c",
       "version_major": 2,
       "version_minor": 0
      },
      "text/plain": [
       "Computing pseudo-perplexity:   0%|          | 0/81 [00:00<?, ?it/s]"
      ]
     },
     "metadata": {},
     "output_type": "display_data"
    },
    {
     "data": {
      "text/html": [
       "<div>\n",
       "<style scoped>\n",
       "    .dataframe tbody tr th:only-of-type {\n",
       "        vertical-align: middle;\n",
       "    }\n",
       "\n",
       "    .dataframe tbody tr th {\n",
       "        vertical-align: top;\n",
       "    }\n",
       "\n",
       "    .dataframe thead th {\n",
       "        text-align: right;\n",
       "    }\n",
       "</style>\n",
       "<table border=\"1\" class=\"dataframe\">\n",
       "  <thead>\n",
       "    <tr style=\"text-align: right;\">\n",
       "      <th></th>\n",
       "      <th>Epoch</th>\n",
       "      <th>Train Loss</th>\n",
       "      <th>Validation Loss</th>\n",
       "      <th>Train Perplexity</th>\n",
       "      <th>Validation Perplexity</th>\n",
       "    </tr>\n",
       "  </thead>\n",
       "  <tbody>\n",
       "    <tr>\n",
       "      <th>0</th>\n",
       "      <td>0</td>\n",
       "      <td>9.712491</td>\n",
       "      <td>7.7386584</td>\n",
       "      <td>1945.368896</td>\n",
       "      <td>2410.320801</td>\n",
       "    </tr>\n",
       "    <tr>\n",
       "      <th>0</th>\n",
       "      <td>1</td>\n",
       "      <td>5.2702804</td>\n",
       "      <td>3.4737139</td>\n",
       "      <td>25.196524</td>\n",
       "      <td>29.98979</td>\n",
       "    </tr>\n",
       "    <tr>\n",
       "      <th>0</th>\n",
       "      <td>2</td>\n",
       "      <td>1.9089866</td>\n",
       "      <td>1.3087386</td>\n",
       "      <td>3.334974</td>\n",
       "      <td>3.636567</td>\n",
       "    </tr>\n",
       "    <tr>\n",
       "      <th>0</th>\n",
       "      <td>3</td>\n",
       "      <td>0.9772852</td>\n",
       "      <td>0.86348265</td>\n",
       "      <td>2.207242</td>\n",
       "      <td>2.317756</td>\n",
       "    </tr>\n",
       "    <tr>\n",
       "      <th>0</th>\n",
       "      <td>4</td>\n",
       "      <td>0.6957231</td>\n",
       "      <td>0.59553385</td>\n",
       "      <td>1.866667</td>\n",
       "      <td>2.007807</td>\n",
       "    </tr>\n",
       "    <tr>\n",
       "      <th>0</th>\n",
       "      <td>5</td>\n",
       "      <td>0.5585126</td>\n",
       "      <td>0.5009365</td>\n",
       "      <td>1.674152</td>\n",
       "      <td>1.633351</td>\n",
       "    </tr>\n",
       "    <tr>\n",
       "      <th>0</th>\n",
       "      <td>6</td>\n",
       "      <td>0.47072127</td>\n",
       "      <td>0.43331712</td>\n",
       "      <td>1.539256</td>\n",
       "      <td>1.560963</td>\n",
       "    </tr>\n",
       "    <tr>\n",
       "      <th>0</th>\n",
       "      <td>7</td>\n",
       "      <td>0.401275</td>\n",
       "      <td>0.38442972</td>\n",
       "      <td>1.456342</td>\n",
       "      <td>1.505892</td>\n",
       "    </tr>\n",
       "    <tr>\n",
       "      <th>0</th>\n",
       "      <td>8</td>\n",
       "      <td>0.3508585</td>\n",
       "      <td>0.33663556</td>\n",
       "      <td>1.392079</td>\n",
       "      <td>1.394289</td>\n",
       "    </tr>\n",
       "    <tr>\n",
       "      <th>0</th>\n",
       "      <td>9</td>\n",
       "      <td>0.31537148</td>\n",
       "      <td>0.2953225</td>\n",
       "      <td>1.336661</td>\n",
       "      <td>1.350569</td>\n",
       "    </tr>\n",
       "    <tr>\n",
       "      <th>0</th>\n",
       "      <td>10</td>\n",
       "      <td>0.27957052</td>\n",
       "      <td>0.2661811</td>\n",
       "      <td>1.305799</td>\n",
       "      <td>1.315343</td>\n",
       "    </tr>\n",
       "    <tr>\n",
       "      <th>0</th>\n",
       "      <td>11</td>\n",
       "      <td>0.24917743</td>\n",
       "      <td>0.2541651</td>\n",
       "      <td>1.280992</td>\n",
       "      <td>1.289688</td>\n",
       "    </tr>\n",
       "    <tr>\n",
       "      <th>0</th>\n",
       "      <td>12</td>\n",
       "      <td>0.23851404</td>\n",
       "      <td>0.23633787</td>\n",
       "      <td>1.258881</td>\n",
       "      <td>1.26929</td>\n",
       "    </tr>\n",
       "    <tr>\n",
       "      <th>0</th>\n",
       "      <td>13</td>\n",
       "      <td>0.22739916</td>\n",
       "      <td>0.23410943</td>\n",
       "      <td>1.249066</td>\n",
       "      <td>1.254971</td>\n",
       "    </tr>\n",
       "    <tr>\n",
       "      <th>0</th>\n",
       "      <td>14</td>\n",
       "      <td>0.21588755</td>\n",
       "      <td>0.22256592</td>\n",
       "      <td>1.23695</td>\n",
       "      <td>1.240142</td>\n",
       "    </tr>\n",
       "    <tr>\n",
       "      <th>0</th>\n",
       "      <td>15</td>\n",
       "      <td>0.20944417</td>\n",
       "      <td>0.21346697</td>\n",
       "      <td>1.229131</td>\n",
       "      <td>1.23079</td>\n",
       "    </tr>\n",
       "    <tr>\n",
       "      <th>0</th>\n",
       "      <td>16</td>\n",
       "      <td>0.20538445</td>\n",
       "      <td>0.2006487</td>\n",
       "      <td>1.224785</td>\n",
       "      <td>1.222236</td>\n",
       "    </tr>\n",
       "    <tr>\n",
       "      <th>0</th>\n",
       "      <td>17</td>\n",
       "      <td>0.19710957</td>\n",
       "      <td>0.21052359</td>\n",
       "      <td>1.216675</td>\n",
       "      <td>1.222593</td>\n",
       "    </tr>\n",
       "    <tr>\n",
       "      <th>0</th>\n",
       "      <td>18</td>\n",
       "      <td>0.19364801</td>\n",
       "      <td>0.1927766</td>\n",
       "      <td>1.210852</td>\n",
       "      <td>1.222276</td>\n",
       "    </tr>\n",
       "    <tr>\n",
       "      <th>0</th>\n",
       "      <td>19</td>\n",
       "      <td>0.19212724</td>\n",
       "      <td>0.1884188</td>\n",
       "      <td>1.209362</td>\n",
       "      <td>1.206877</td>\n",
       "    </tr>\n",
       "    <tr>\n",
       "      <th>0</th>\n",
       "      <td>20</td>\n",
       "      <td>0.18867527</td>\n",
       "      <td>0.18979491</td>\n",
       "      <td>1.203771</td>\n",
       "      <td>1.212314</td>\n",
       "    </tr>\n",
       "    <tr>\n",
       "      <th>0</th>\n",
       "      <td>21</td>\n",
       "      <td>0.18449312</td>\n",
       "      <td>0.19283527</td>\n",
       "      <td>1.203029</td>\n",
       "      <td>1.214669</td>\n",
       "    </tr>\n",
       "    <tr>\n",
       "      <th>0</th>\n",
       "      <td>22</td>\n",
       "      <td>0.18408966</td>\n",
       "      <td>0.18160509</td>\n",
       "      <td>1.199036</td>\n",
       "      <td>1.208365</td>\n",
       "    </tr>\n",
       "  </tbody>\n",
       "</table>\n",
       "</div>"
      ],
      "text/plain": [
       "  Epoch  Train Loss Validation Loss Train Perplexity Validation Perplexity\n",
       "0     0    9.712491       7.7386584      1945.368896           2410.320801\n",
       "0     1   5.2702804       3.4737139        25.196524              29.98979\n",
       "0     2   1.9089866       1.3087386         3.334974              3.636567\n",
       "0     3   0.9772852      0.86348265         2.207242              2.317756\n",
       "0     4   0.6957231      0.59553385         1.866667              2.007807\n",
       "0     5   0.5585126       0.5009365         1.674152              1.633351\n",
       "0     6  0.47072127      0.43331712         1.539256              1.560963\n",
       "0     7    0.401275      0.38442972         1.456342              1.505892\n",
       "0     8   0.3508585      0.33663556         1.392079              1.394289\n",
       "0     9  0.31537148       0.2953225         1.336661              1.350569\n",
       "0    10  0.27957052       0.2661811         1.305799              1.315343\n",
       "0    11  0.24917743       0.2541651         1.280992              1.289688\n",
       "0    12  0.23851404      0.23633787         1.258881               1.26929\n",
       "0    13  0.22739916      0.23410943         1.249066              1.254971\n",
       "0    14  0.21588755      0.22256592          1.23695              1.240142\n",
       "0    15  0.20944417      0.21346697         1.229131               1.23079\n",
       "0    16  0.20538445       0.2006487         1.224785              1.222236\n",
       "0    17  0.19710957      0.21052359         1.216675              1.222593\n",
       "0    18  0.19364801       0.1927766         1.210852              1.222276\n",
       "0    19  0.19212724       0.1884188         1.209362              1.206877\n",
       "0    20  0.18867527      0.18979491         1.203771              1.212314\n",
       "0    21  0.18449312      0.19283527         1.203029              1.214669\n",
       "0    22  0.18408966      0.18160509         1.199036              1.208365"
      ]
     },
     "metadata": {},
     "output_type": "display_data"
    },
    {
     "name": "stderr",
     "output_type": "stream",
     "text": [
      "Monitored metric val_perplexity did not improve in the last 3 records. Best score: 1.207. Signaling Trainer to stop.\n"
     ]
    }
   ],
   "source": [
    "ligthning_model = LightningGradePredictor(model, \n",
    "                    num_training_steps=num_training_steps,\n",
    "                    num_warmup_steps=warmup_steps,\n",
    "                    learning_rate = new_lr\n",
    "                    )\n",
    "                    \n",
    "trainer.fit(model=ligthning_model, train_dataloaders=dataset_train, val_dataloaders=dataset_val)"
   ]
  },
  {
   "cell_type": "code",
   "execution_count": 17,
   "metadata": {},
   "outputs": [
    {
     "data": {
      "text/plain": [
       "'model_logs/enem_self_supervised/version_2/checkpoints/epoch=19-step=1820.ckpt'"
      ]
     },
     "metadata": {},
     "output_type": "display_data"
    },
    {
     "data": {
      "text/plain": [
       "tensor(1.2069, device='cuda:0')"
      ]
     },
     "metadata": {},
     "output_type": "display_data"
    }
   ],
   "source": [
    "display(checkpoint_callback.best_model_path)\n",
    "display(checkpoint_callback.best_model_score)"
   ]
  },
  {
   "cell_type": "code",
   "execution_count": 18,
   "metadata": {},
   "outputs": [],
   "source": [
    "best_model = LightningGradePredictor.load_from_checkpoint(checkpoint_callback.best_model_path,\n",
    "                                                  model=ligthning_model.model, \n",
    "                                                  )"
   ]
  },
  {
   "cell_type": "code",
   "execution_count": 19,
   "metadata": {},
   "outputs": [
    {
     "data": {
      "application/vnd.jupyter.widget-view+json": {
       "model_id": "704b9546ee04436190028c5a45f899b3",
       "version_major": 2,
       "version_minor": 0
      },
      "text/plain": [
       "Computing pseudo-perplexity:   0%|          | 0/81 [00:00<?, ?it/s]"
      ]
     },
     "metadata": {},
     "output_type": "display_data"
    },
    {
     "name": "stdout",
     "output_type": "stream",
     "text": [
      "Perplexity on validation set: 1.21\n"
     ]
    }
   ],
   "source": [
    "mlm_perplexity = calculate_pseudo_perplexity(best_model, dataset_val)\n",
    "print(f\"Perplexity on validation set: {mlm_perplexity:.2f}\")"
   ]
  },
  {
   "cell_type": "code",
   "execution_count": 20,
   "metadata": {},
   "outputs": [],
   "source": [
    "bert_save_path = f\"model_checkpoints/enem_self_supervised/hugging_face/{EXPERIMENT_NAME}\"\n",
    "best_model.model.save_pretrained(bert_save_path)"
   ]
  },
  {
   "cell_type": "markdown",
   "metadata": {},
   "source": [
    "Validation"
   ]
  },
  {
   "cell_type": "code",
   "execution_count": 21,
   "metadata": {},
   "outputs": [
    {
     "name": "stderr",
     "output_type": "stream",
     "text": [
      "Some weights of BertForSequenceClassification were not initialized from the model checkpoint at model_checkpoints/enem_self_supervised/hugging_face/enem_essay_score_mlm_bert_base_finetuning and are newly initialized: ['classifier.weight', 'bert.pooler.dense.bias', 'bert.pooler.dense.weight', 'classifier.bias']\n",
      "You should probably TRAIN this model on a down-stream task to be able to use it for predictions and inference.\n"
     ]
    }
   ],
   "source": [
    "model = AutoModelForSequenceClassification.from_pretrained(\n",
    "            bert_save_path, \n",
    "            cache_dir=\"/tmp/\", \n",
    "            num_labels=6,\n",
    "        )"
   ]
  }
 ],
 "metadata": {
  "kernelspec": {
   "display_name": "aes_enem",
   "language": "python",
   "name": "python3"
  },
  "language_info": {
   "codemirror_mode": {
    "name": "ipython",
    "version": 3
   },
   "file_extension": ".py",
   "mimetype": "text/x-python",
   "name": "python",
   "nbconvert_exporter": "python",
   "pygments_lexer": "ipython3",
   "version": "3.11.5"
  }
 },
 "nbformat": 4,
 "nbformat_minor": 2
}
