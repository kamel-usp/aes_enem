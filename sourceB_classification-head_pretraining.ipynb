{
 "cells": [
  {
   "cell_type": "code",
   "execution_count": 1,
   "metadata": {},
   "outputs": [],
   "source": [
    "from datasets import load_dataset, Dataset, DatasetDict\n",
    "from lightning.pytorch.callbacks import EarlyStopping, ModelCheckpoint\n",
    "from lightning.pytorch.core.module import LightningModule\n",
    "from lightning.pytorch.trainer import Trainer\n",
    "from lightning.pytorch.loggers.csv_logs import CSVLogger\n",
    "from lightning.pytorch.callbacks import EarlyStopping, ModelCheckpoint, Callback\n",
    "import pandas as pd\n",
    "import pytorch_lightning as pl\n",
    "import torch\n",
    "from tqdm.auto import tqdm\n",
    "from torch.utils.data import DataLoader\n",
    "from torch import nn\n",
    "from torch.optim import AdamW\n",
    "from transformers import AutoModelForSequenceClassification, AutoTokenizer, get_cosine_schedule_with_warmup\n",
    "from coral_pytorch.losses import corn_loss\n",
    "from coral_pytorch.dataset import corn_label_from_logits\n",
    "from sklearn.metrics import accuracy_score, cohen_kappa_score, mean_squared_error\n",
    "import numpy as np"
   ]
  },
  {
   "cell_type": "code",
   "execution_count": 2,
   "metadata": {},
   "outputs": [
    {
     "name": "stderr",
     "output_type": "stream",
     "text": [
      "Seed set to 42\n"
     ]
    }
   ],
   "source": [
    "RANDOM_SEED = 42\n",
    "REFERENCE_CONCEPT = 3\n",
    "BATCH_SIZE = 16\n",
    "GRADIENT_ACC= 1\n",
    "LEARNING_RATE = 1e-4\n",
    "WEIGHT_DECAY = 0.01\n",
    "MAX_LENGTH = 512\n",
    "PRECISION = \"16-mixed\"\n",
    "OBJECTIVE = \"ordinal\"\n",
    "VARIANT = \"base\"\n",
    "TOKENIZER_NAME = f\"neuralmind/bert-{VARIANT}-portuguese-cased\"\n",
    "MODEL_NAME =  f\"neuralmind/bert-{VARIANT}-portuguese-cased\"\n",
    "EXPERIMENT_NAME = f\"aes_enem_models-sourceB-{OBJECTIVE}-{VARIANT}-C{REFERENCE_CONCEPT+1}\"\n",
    "\n",
    "pl.seed_everything(RANDOM_SEED)\n",
    "torch.set_float32_matmul_precision('medium')"
   ]
  },
  {
   "cell_type": "code",
   "execution_count": 3,
   "metadata": {},
   "outputs": [],
   "source": [
    "dataset = load_dataset(\"kamel-usp/aes_enem_dataset\", \"sourceB\", cache_dir=\"/tmp/aes_enem\")"
   ]
  },
  {
   "cell_type": "code",
   "execution_count": 4,
   "metadata": {},
   "outputs": [],
   "source": [
    "grade_mapping = {\n",
    "    0: 0,\n",
    "    40: 1,\n",
    "    80: 2,\n",
    "    120: 3,\n",
    "    160: 4,\n",
    "    200: 5,\n",
    "}\n",
    "\n",
    "def create_label(row):\n",
    "    grade = row[\"grades\"][REFERENCE_CONCEPT]\n",
    "    return {\"label\": grade_mapping[grade]}\n",
    "\n",
    "dataset = dataset.map(create_label)"
   ]
  },
  {
   "cell_type": "code",
   "execution_count": 5,
   "metadata": {},
   "outputs": [],
   "source": [
    "tokenizer = AutoTokenizer.from_pretrained(TOKENIZER_NAME, use_fast=True)\n",
    "def prepare_dataset(dataset):\n",
    "    def tokenize_essays(dataset, tokenizer, max_length=512):\n",
    "        tokenized_text = tokenizer(\n",
    "                dataset[\"essay_text\"],\n",
    "                return_tensors=\"pt\",\n",
    "                truncation=True,\n",
    "                padding=\"max_length\",\n",
    "                max_length=max_length\n",
    "            )\n",
    "        tokenized_text[\"label\"] = dataset[\"label\"]\n",
    "        return Dataset.from_dict(tokenized_text)\n",
    "\n",
    "    return tokenize_essays(dataset[\"full\"], tokenizer, MAX_LENGTH)\n",
    "tokenized_dataset = prepare_dataset(dataset)"
   ]
  },
  {
   "cell_type": "code",
   "execution_count": 6,
   "metadata": {},
   "outputs": [
    {
     "data": {
      "text/plain": [
       "(2912, 336)"
      ]
     },
     "execution_count": 6,
     "metadata": {},
     "output_type": "execute_result"
    }
   ],
   "source": [
    "split_data = tokenized_dataset.train_test_split(test_size=0.1)\n",
    "train_dataset = split_data[\"train\"].with_format(\"torch\")\n",
    "val_dataset = split_data[\"test\"].with_format(\"torch\")\n",
    "dataset_train = DataLoader(\n",
    "    train_dataset, batch_size=BATCH_SIZE, shuffle=True\n",
    ")\n",
    "dataset_val = DataLoader(val_dataset, batch_size=BATCH_SIZE, shuffle=False)\n",
    "len(dataset_train)*BATCH_SIZE, len(dataset_val)*BATCH_SIZE"
   ]
  },
  {
   "cell_type": "code",
   "execution_count": 7,
   "metadata": {},
   "outputs": [
    {
     "name": "stderr",
     "output_type": "stream",
     "text": [
      "Some weights of BertForSequenceClassification were not initialized from the model checkpoint at neuralmind/bert-base-portuguese-cased and are newly initialized: ['classifier.bias', 'classifier.weight']\n",
      "You should probably TRAIN this model on a down-stream task to be able to use it for predictions and inference.\n"
     ]
    }
   ],
   "source": [
    "model = AutoModelForSequenceClassification.from_pretrained(\n",
    "        MODEL_NAME, \n",
    "        cache_dir=\"/tmp/\", \n",
    "        num_labels=6,\n",
    "    )"
   ]
  },
  {
   "cell_type": "code",
   "execution_count": 8,
   "metadata": {},
   "outputs": [
    {
     "data": {
      "application/vnd.jupyter.widget-view+json": {
       "model_id": "e6c1fe7dc6e44e2d96d3418ddd48ab54",
       "version_major": 2,
       "version_minor": 0
      },
      "text/plain": [
       "Obtaining predictions:   0%|          | 0/21 [00:00<?, ?it/s]"
      ]
     },
     "metadata": {},
     "output_type": "display_data"
    }
   ],
   "source": [
    "def predict_classes(output):\n",
    "    if OBJECTIVE == \"regression\":\n",
    "        # Round the tensor to the nearest integer\n",
    "        rounded_tensor = torch.round(output.logits)\n",
    "        # Clamp the values to the range [0, 5]\n",
    "        clamped_tensor = torch.clamp(rounded_tensor, min=0, max=5)\n",
    "        return clamped_tensor.view(-1)\n",
    "    elif OBJECTIVE == \"classification\":\n",
    "        return torch.argmax(output.logits, axis=1)\n",
    "    elif OBJECTIVE == \"ordinal\":\n",
    "        return corn_label_from_logits(output.logits)\n",
    "        \n",
    "def get_predictions_and_labels(model, dataloader):\n",
    "    device = torch.device(\"cuda\" if torch.cuda.is_available() else \"cpu\")\n",
    "    model.to(device)\n",
    "    all_predictions = []\n",
    "    all_true_labels = []\n",
    "    i=0\n",
    "    for batch in tqdm(dataloader, desc=\"Obtaining predictions\"):\n",
    "        input_ids = batch[\"input_ids\"].to(device)\n",
    "        attention_mask = batch[\"attention_mask\"].to(device)\n",
    "        labels = batch[\"label\"].to(device)\n",
    "        with torch.no_grad():\n",
    "            output = model(input_ids, attention_mask)\n",
    "            predicted_classes = predict_classes(output) \n",
    "\n",
    "        # If using GPU, need to move the data back to CPU to use numpy.\n",
    "        all_predictions.extend(predicted_classes.cpu().numpy())\n",
    "        all_true_labels.extend(labels.cpu().numpy())\n",
    "\n",
    "    return list(map(lambda x: x * 40, all_predictions)), list(map(lambda x: x * 40, all_true_labels))\n",
    "\n",
    "all_predictions, all_true_labels = get_predictions_and_labels(model, dataset_val)"
   ]
  },
  {
   "cell_type": "code",
   "execution_count": 9,
   "metadata": {},
   "outputs": [
    {
     "name": "stdout",
     "output_type": "stream",
     "text": [
      "Accuracy on the validation  set: 0.01\n"
     ]
    }
   ],
   "source": [
    "def enem_accuracy_score(true_values, predicted_values):\n",
    "    assert len(true_values) == len(predicted_values), \"Mismatched length between true and predicted values.\"\n",
    "\n",
    "    non_divergent_count = sum([1 for t, p in zip(true_values, predicted_values) if abs(t - p) <= 80])\n",
    "    \n",
    "    return non_divergent_count / len(true_values)\n",
    "\n",
    "accuracy = accuracy_score(all_true_labels, all_predictions)\n",
    "print(f\"Accuracy on the validation  set: {accuracy:.2f}\")"
   ]
  },
  {
   "cell_type": "code",
   "execution_count": 10,
   "metadata": {},
   "outputs": [
    {
     "name": "stdout",
     "output_type": "stream",
     "text": [
      "QWK on the validation set: 0.00\n"
     ]
    }
   ],
   "source": [
    "qwk = cohen_kappa_score(all_true_labels, all_predictions, weights=\"quadratic\", labels=[0,40,80,120,160,200])\n",
    "print(f\"QWK on the validation set: {qwk:.2f}\")"
   ]
  },
  {
   "cell_type": "code",
   "execution_count": 11,
   "metadata": {},
   "outputs": [
    {
     "name": "stdout",
     "output_type": "stream",
     "text": [
      "Accuracy on the validation set: 0.02\n"
     ]
    }
   ],
   "source": [
    "enem_accuracy = enem_accuracy_score(all_true_labels, all_predictions)\n",
    "print(f\"Accuracy on the validation set: {enem_accuracy:.2f}\")"
   ]
  },
  {
   "cell_type": "code",
   "execution_count": 12,
   "metadata": {},
   "outputs": [],
   "source": [
    "class LightningGradePredictor(LightningModule):\n",
    "    def __init__(self, model: nn.Module, loss_function, learning_rate=0.001, num_warmup_steps=None, num_training_steps=None):\n",
    "        super(LightningGradePredictor, self).__init__()\n",
    "        self.model = model\n",
    "        self.loss = loss_function\n",
    "        self.learning_rate = learning_rate\n",
    "        self.num_warmup_steps = num_warmup_steps\n",
    "        self.num_training_steps = num_training_steps\n",
    "        self.save_hyperparameters(ignore=['model'])\n",
    "        self.training_step_loss = []\n",
    "        self.validation_step_loss = []\n",
    "\n",
    "    def forward(self, input_ids, attention_mask):\n",
    "        return self.model(input_ids, attention_mask)\n",
    "\n",
    "    def training_step(self, batch, batch_idx):\n",
    "        input_ids, attention_mask, labels = batch[\"input_ids\"], batch[\"attention_mask\"], batch[\"label\"]\n",
    "        outputs = self(input_ids, attention_mask)\n",
    "        loss = None\n",
    "        if OBJECTIVE == \"regression\":\n",
    "            loss = self.loss(outputs.logits, labels.unsqueeze(1).float())\n",
    "        elif OBJECTIVE == \"classification\":\n",
    "            loss = self.loss(outputs.logits, labels)\n",
    "        elif OBJECTIVE == \"ordinal\":\n",
    "            loss = self.loss(outputs.logits, labels, num_classes=self.model.num_labels)\n",
    "        self.log('train_loss', loss)\n",
    "        self.training_step_loss.append(loss)\n",
    "        optimizer = self.optimizers()\n",
    "        if isinstance(optimizer, list):\n",
    "            optimizer = optimizer[0]\n",
    "        lr_current = optimizer.optimizer.param_groups[0]['lr']\n",
    "        self.log('current_lr', lr_current)\n",
    "        return loss\n",
    "    \n",
    "    def validation_step(self, batch, batch_idx):\n",
    "        input_ids, attention_mask, labels = batch[\"input_ids\"], batch[\"attention_mask\"], batch[\"label\"]\n",
    "        outputs = self(input_ids, attention_mask)\n",
    "        if OBJECTIVE == \"regression\":\n",
    "            loss = self.loss(outputs.logits, labels.unsqueeze(1).float())\n",
    "        elif OBJECTIVE == \"classification\":\n",
    "            loss = self.loss(outputs.logits, labels)\n",
    "        elif OBJECTIVE == \"ordinal\":\n",
    "            loss = self.loss(outputs.logits, labels, num_classes=self.model.num_labels)\n",
    "        self.log('val_loss', loss)\n",
    "        self.validation_step_loss.append(loss)\n",
    "        return loss\n",
    "\n",
    "    def test_step(self, batch, batch_idx):\n",
    "        input_ids, attention_mask, labels = batch[\"input_ids\"], batch[\"attention_mask\"], batch[\"label\"]\n",
    "        outputs = self(input_ids, attention_mask)\n",
    "        if OBJECTIVE == \"regression\":\n",
    "            loss = self.loss(outputs.logits,  labels.unsqueeze(1).float())\n",
    "        elif OBJECTIVE == \"classification\":\n",
    "            loss = self.loss(outputs.logits, labels)\n",
    "        elif OBJECTIVE == \"ordinal\":\n",
    "            loss = self.loss(outputs.logits, labels, num_classes=self.model.num_labels)\n",
    "        self.log('test_loss', loss)\n",
    "        return loss\n",
    "\n",
    "    def configure_optimizers(self):\n",
    "        optimizer = AdamW(self.parameters(), lr=self.learning_rate, weight_decay=WEIGHT_DECAY)\n",
    "\n",
    "        scheduler = get_cosine_schedule_with_warmup(\n",
    "            optimizer,\n",
    "            num_warmup_steps=self.num_warmup_steps,\n",
    "            num_training_steps=self.num_training_steps\n",
    "        )\n",
    "\n",
    "        return [optimizer], [{\"scheduler\": scheduler, \"interval\": \"step\"}]\n"
   ]
  },
  {
   "cell_type": "code",
   "execution_count": 13,
   "metadata": {},
   "outputs": [],
   "source": [
    "class EpochEndCallback(Callback):\n",
    "    def __init__(self):\n",
    "        self.metrics_df = pd.DataFrame(columns=\n",
    "                                       ['Epoch', 'Train Loss', 'Validation Loss',\n",
    "                                         'Train QWK', 'Validation QWK',\n",
    "                                         'Train RMSE', 'Validation RMSE'\n",
    "                                        ])\n",
    "        self.device = torch.device(\"cuda\" if torch.cuda.is_available() else \"cpu\")\n",
    "    \n",
    "    def on_train_epoch_end(self, trainer, pl_module):\n",
    "        current_epoch = trainer.current_epoch\n",
    "        # Metrics for training data\n",
    "        train_dataloader = trainer.train_dataloader\n",
    "        val_dataloader = trainer.val_dataloaders\n",
    "        \n",
    "        epoch_train_loss_mean = torch.stack(pl_module.training_step_loss).mean()\n",
    "        epoch_val_loss_mean = torch.stack(pl_module.validation_step_loss).mean()\n",
    "        pl_module.training_step_loss.clear()\n",
    "        pl_module.validation_step_loss.clear()\n",
    "        model.eval()\n",
    "        train_predictions, train_true_labels = get_predictions_and_labels(model, train_dataloader)\n",
    "        val_predictions, val_true_labels = get_predictions_and_labels(model, val_dataloader)\n",
    "        train_qwk = cohen_kappa_score(train_true_labels, train_predictions, weights=\"quadratic\", labels=[0,40,80,120,160,200])\n",
    "        val_qwk = cohen_kappa_score(val_true_labels, val_predictions, weights=\"quadratic\", labels=[0,40,80,120,160,200])\n",
    "        pl_module.log('val_qwk', val_qwk)\n",
    "\n",
    "        train_rmse = mean_squared_error(train_true_labels, train_predictions)\n",
    "        val_rmse = mean_squared_error(val_true_labels, val_predictions)\n",
    "        train_rmse = np.sqrt(train_rmse)\n",
    "        val_rmse = np.sqrt(val_rmse)\n",
    "        pl_module.log('val_rmse', val_rmse)\n",
    "\n",
    "        new_row = {'Epoch': current_epoch, \n",
    "                    'Train Loss': epoch_train_loss_mean.cpu().detach().numpy(),\n",
    "                    'Validation Loss': epoch_val_loss_mean.cpu().detach().numpy(),\n",
    "                    'Train QWK': train_qwk,\n",
    "                    'Validation QWK': val_qwk,\n",
    "                    'Train RMSE': train_rmse,\n",
    "                    'Validation RMSE': val_rmse\n",
    "                    }\n",
    "        new_row = pd.Series(new_row).to_frame().T\n",
    "        self.metrics_df = pd.concat([self.metrics_df, new_row])\n",
    "        display(self.metrics_df)"
   ]
  },
  {
   "cell_type": "code",
   "execution_count": 14,
   "metadata": {},
   "outputs": [],
   "source": [
    "early_stop_callback = EarlyStopping(monitor=\"val_qwk\", patience=3, verbose=True, mode=\"max\")\n",
    "checkpoint_callback = ModelCheckpoint(save_top_k=1, monitor=\"val_qwk\", mode=\"max\")"
   ]
  },
  {
   "cell_type": "code",
   "execution_count": 15,
   "metadata": {},
   "outputs": [
    {
     "name": "stderr",
     "output_type": "stream",
     "text": [
      "Using 16bit Automatic Mixed Precision (AMP)\n",
      "GPU available: True (cuda), used: True\n",
      "TPU available: False, using: 0 TPU cores\n",
      "IPU available: False, using: 0 IPUs\n",
      "HPU available: False, using: 0 HPUs\n"
     ]
    }
   ],
   "source": [
    "def get_loss():\n",
    "    if OBJECTIVE == \"regression\":\n",
    "        return torch.nn.functional.mse_loss\n",
    "    elif OBJECTIVE == \"classification\":\n",
    "        return torch.nn.functional.cross_entropy\n",
    "    elif OBJECTIVE == \"ordinal\":\n",
    "        return corn_loss\n",
    "       \n",
    "loss_function = get_loss() \n",
    "NUM_EPOCHS = 20\n",
    "num_training_steps = NUM_EPOCHS * len(dataset_train)\n",
    "warmup_steps = int(num_training_steps * 0.1)\n",
    "steps_per_epoch = num_training_steps//NUM_EPOCHS\n",
    "model.train()\n",
    "trainer = Trainer(\n",
    "    max_epochs=NUM_EPOCHS, \n",
    "    log_every_n_steps=steps_per_epoch, \n",
    "    logger=CSVLogger(\"model_logs\", name=EXPERIMENT_NAME), \n",
    "    callbacks=[EpochEndCallback(), early_stop_callback, checkpoint_callback],\n",
    "    precision=PRECISION,\n",
    "    accumulate_grad_batches=GRADIENT_ACC\n",
    "    )\n",
    "ligthning_model = LightningGradePredictor(model, \n",
    "                    loss_function=loss_function,\n",
    "                    num_training_steps=num_training_steps,\n",
    "                    num_warmup_steps=warmup_steps,\n",
    "                    learning_rate = LEARNING_RATE\n",
    "                    )"
   ]
  },
  {
   "cell_type": "code",
   "execution_count": 16,
   "metadata": {},
   "outputs": [
    {
     "name": "stderr",
     "output_type": "stream",
     "text": [
      "Missing logger folder: model_logs/aes_enem_models-sourceB-ordinal-base-C4\n",
      "LOCAL_RANK: 0 - CUDA_VISIBLE_DEVICES: [0]\n",
      "\n",
      "  | Name  | Type                          | Params\n",
      "--------------------------------------------------------\n",
      "0 | model | BertForSequenceClassification | 108 M \n",
      "--------------------------------------------------------\n",
      "108 M     Trainable params\n",
      "0         Non-trainable params\n",
      "108 M     Total params\n",
      "435.711   Total estimated model params size (MB)\n"
     ]
    },
    {
     "data": {
      "application/vnd.jupyter.widget-view+json": {
       "model_id": "44d62bd07b3a46a18c5682d7089a1fba",
       "version_major": 2,
       "version_minor": 0
      },
      "text/plain": [
       "Sanity Checking: |          | 0/? [00:00<?, ?it/s]"
      ]
     },
     "metadata": {},
     "output_type": "display_data"
    },
    {
     "name": "stderr",
     "output_type": "stream",
     "text": [
      "/home/andrebarbosa/miniconda3/envs/aes_enem/lib/python3.11/site-packages/lightning/pytorch/trainer/connectors/data_connector.py:441: The 'val_dataloader' does not have many workers which may be a bottleneck. Consider increasing the value of the `num_workers` argument` to `num_workers=47` in the `DataLoader` to improve performance.\n",
      "/home/andrebarbosa/miniconda3/envs/aes_enem/lib/python3.11/site-packages/lightning/pytorch/trainer/connectors/data_connector.py:441: The 'train_dataloader' does not have many workers which may be a bottleneck. Consider increasing the value of the `num_workers` argument` to `num_workers=47` in the `DataLoader` to improve performance.\n"
     ]
    },
    {
     "data": {
      "application/vnd.jupyter.widget-view+json": {
       "model_id": "3f6c35df98174b9d9d4cde57cfd84d46",
       "version_major": 2,
       "version_minor": 0
      },
      "text/plain": [
       "Training: |          | 0/? [00:00<?, ?it/s]"
      ]
     },
     "metadata": {},
     "output_type": "display_data"
    },
    {
     "data": {
      "application/vnd.jupyter.widget-view+json": {
       "model_id": "418f8fa19a8542a59d0da5a3f320e334",
       "version_major": 2,
       "version_minor": 0
      },
      "text/plain": [
       "Validation: |          | 0/? [00:00<?, ?it/s]"
      ]
     },
     "metadata": {},
     "output_type": "display_data"
    },
    {
     "data": {
      "application/vnd.jupyter.widget-view+json": {
       "model_id": "34166d4930e94a9fa1fa0bd85f9e9db3",
       "version_major": 2,
       "version_minor": 0
      },
      "text/plain": [
       "Obtaining predictions:   0%|          | 0/182 [00:00<?, ?it/s]"
      ]
     },
     "metadata": {},
     "output_type": "display_data"
    },
    {
     "data": {
      "application/vnd.jupyter.widget-view+json": {
       "model_id": "dfa0814969fb453fa555c7670fd3370a",
       "version_major": 2,
       "version_minor": 0
      },
      "text/plain": [
       "Obtaining predictions:   0%|          | 0/21 [00:00<?, ?it/s]"
      ]
     },
     "metadata": {},
     "output_type": "display_data"
    },
    {
     "data": {
      "text/html": [
       "<div>\n",
       "<style scoped>\n",
       "    .dataframe tbody tr th:only-of-type {\n",
       "        vertical-align: middle;\n",
       "    }\n",
       "\n",
       "    .dataframe tbody tr th {\n",
       "        vertical-align: top;\n",
       "    }\n",
       "\n",
       "    .dataframe thead th {\n",
       "        text-align: right;\n",
       "    }\n",
       "</style>\n",
       "<table border=\"1\" class=\"dataframe\">\n",
       "  <thead>\n",
       "    <tr style=\"text-align: right;\">\n",
       "      <th></th>\n",
       "      <th>Epoch</th>\n",
       "      <th>Train Loss</th>\n",
       "      <th>Validation Loss</th>\n",
       "      <th>Train QWK</th>\n",
       "      <th>Validation QWK</th>\n",
       "      <th>Train RMSE</th>\n",
       "      <th>Validation RMSE</th>\n",
       "    </tr>\n",
       "  </thead>\n",
       "  <tbody>\n",
       "    <tr>\n",
       "      <th>0</th>\n",
       "      <td>0</td>\n",
       "      <td>0.3177377</td>\n",
       "      <td>0.23218523</td>\n",
       "      <td>0.656546</td>\n",
       "      <td>0.623229</td>\n",
       "      <td>29.5122</td>\n",
       "      <td>31.28709</td>\n",
       "    </tr>\n",
       "  </tbody>\n",
       "</table>\n",
       "</div>"
      ],
      "text/plain": [
       "  Epoch Train Loss Validation Loss Train QWK Validation QWK Train RMSE  \\\n",
       "0     0  0.3177377      0.23218523  0.656546       0.623229    29.5122   \n",
       "\n",
       "  Validation RMSE  \n",
       "0        31.28709  "
      ]
     },
     "metadata": {},
     "output_type": "display_data"
    },
    {
     "name": "stderr",
     "output_type": "stream",
     "text": [
      "Metric val_qwk improved. New best score: 0.623\n"
     ]
    },
    {
     "data": {
      "application/vnd.jupyter.widget-view+json": {
       "model_id": "64e6c428b03f4b8b8662c2753b58ead5",
       "version_major": 2,
       "version_minor": 0
      },
      "text/plain": [
       "Validation: |          | 0/? [00:00<?, ?it/s]"
      ]
     },
     "metadata": {},
     "output_type": "display_data"
    },
    {
     "data": {
      "application/vnd.jupyter.widget-view+json": {
       "model_id": "df9625615d22424bb308cde53848f6a1",
       "version_major": 2,
       "version_minor": 0
      },
      "text/plain": [
       "Obtaining predictions:   0%|          | 0/182 [00:00<?, ?it/s]"
      ]
     },
     "metadata": {},
     "output_type": "display_data"
    },
    {
     "data": {
      "application/vnd.jupyter.widget-view+json": {
       "model_id": "0e52cbc2566e4c5e99692d0b4c0f66b1",
       "version_major": 2,
       "version_minor": 0
      },
      "text/plain": [
       "Obtaining predictions:   0%|          | 0/21 [00:00<?, ?it/s]"
      ]
     },
     "metadata": {},
     "output_type": "display_data"
    },
    {
     "data": {
      "text/html": [
       "<div>\n",
       "<style scoped>\n",
       "    .dataframe tbody tr th:only-of-type {\n",
       "        vertical-align: middle;\n",
       "    }\n",
       "\n",
       "    .dataframe tbody tr th {\n",
       "        vertical-align: top;\n",
       "    }\n",
       "\n",
       "    .dataframe thead th {\n",
       "        text-align: right;\n",
       "    }\n",
       "</style>\n",
       "<table border=\"1\" class=\"dataframe\">\n",
       "  <thead>\n",
       "    <tr style=\"text-align: right;\">\n",
       "      <th></th>\n",
       "      <th>Epoch</th>\n",
       "      <th>Train Loss</th>\n",
       "      <th>Validation Loss</th>\n",
       "      <th>Train QWK</th>\n",
       "      <th>Validation QWK</th>\n",
       "      <th>Train RMSE</th>\n",
       "      <th>Validation RMSE</th>\n",
       "    </tr>\n",
       "  </thead>\n",
       "  <tbody>\n",
       "    <tr>\n",
       "      <th>0</th>\n",
       "      <td>0</td>\n",
       "      <td>0.3177377</td>\n",
       "      <td>0.23218523</td>\n",
       "      <td>0.656546</td>\n",
       "      <td>0.623229</td>\n",
       "      <td>29.5122</td>\n",
       "      <td>31.28709</td>\n",
       "    </tr>\n",
       "    <tr>\n",
       "      <th>0</th>\n",
       "      <td>1</td>\n",
       "      <td>0.17231636</td>\n",
       "      <td>0.17161712</td>\n",
       "      <td>0.683152</td>\n",
       "      <td>0.656725</td>\n",
       "      <td>27.677316</td>\n",
       "      <td>28.633473</td>\n",
       "    </tr>\n",
       "  </tbody>\n",
       "</table>\n",
       "</div>"
      ],
      "text/plain": [
       "  Epoch  Train Loss Validation Loss Train QWK Validation QWK Train RMSE  \\\n",
       "0     0   0.3177377      0.23218523  0.656546       0.623229    29.5122   \n",
       "0     1  0.17231636      0.17161712  0.683152       0.656725  27.677316   \n",
       "\n",
       "  Validation RMSE  \n",
       "0        31.28709  \n",
       "0       28.633473  "
      ]
     },
     "metadata": {},
     "output_type": "display_data"
    },
    {
     "name": "stderr",
     "output_type": "stream",
     "text": [
      "Metric val_qwk improved by 0.033 >= min_delta = 0.0. New best score: 0.657\n"
     ]
    },
    {
     "data": {
      "application/vnd.jupyter.widget-view+json": {
       "model_id": "be0626bdf5e742fd913436cae40e158a",
       "version_major": 2,
       "version_minor": 0
      },
      "text/plain": [
       "Validation: |          | 0/? [00:00<?, ?it/s]"
      ]
     },
     "metadata": {},
     "output_type": "display_data"
    },
    {
     "data": {
      "application/vnd.jupyter.widget-view+json": {
       "model_id": "90d2ab8da55a41238379c2e98b46c210",
       "version_major": 2,
       "version_minor": 0
      },
      "text/plain": [
       "Obtaining predictions:   0%|          | 0/182 [00:00<?, ?it/s]"
      ]
     },
     "metadata": {},
     "output_type": "display_data"
    },
    {
     "data": {
      "application/vnd.jupyter.widget-view+json": {
       "model_id": "c67430a58554464aa427310482962ef6",
       "version_major": 2,
       "version_minor": 0
      },
      "text/plain": [
       "Obtaining predictions:   0%|          | 0/21 [00:00<?, ?it/s]"
      ]
     },
     "metadata": {},
     "output_type": "display_data"
    },
    {
     "data": {
      "text/html": [
       "<div>\n",
       "<style scoped>\n",
       "    .dataframe tbody tr th:only-of-type {\n",
       "        vertical-align: middle;\n",
       "    }\n",
       "\n",
       "    .dataframe tbody tr th {\n",
       "        vertical-align: top;\n",
       "    }\n",
       "\n",
       "    .dataframe thead th {\n",
       "        text-align: right;\n",
       "    }\n",
       "</style>\n",
       "<table border=\"1\" class=\"dataframe\">\n",
       "  <thead>\n",
       "    <tr style=\"text-align: right;\">\n",
       "      <th></th>\n",
       "      <th>Epoch</th>\n",
       "      <th>Train Loss</th>\n",
       "      <th>Validation Loss</th>\n",
       "      <th>Train QWK</th>\n",
       "      <th>Validation QWK</th>\n",
       "      <th>Train RMSE</th>\n",
       "      <th>Validation RMSE</th>\n",
       "    </tr>\n",
       "  </thead>\n",
       "  <tbody>\n",
       "    <tr>\n",
       "      <th>0</th>\n",
       "      <td>0</td>\n",
       "      <td>0.3177377</td>\n",
       "      <td>0.23218523</td>\n",
       "      <td>0.656546</td>\n",
       "      <td>0.623229</td>\n",
       "      <td>29.5122</td>\n",
       "      <td>31.28709</td>\n",
       "    </tr>\n",
       "    <tr>\n",
       "      <th>0</th>\n",
       "      <td>1</td>\n",
       "      <td>0.17231636</td>\n",
       "      <td>0.17161712</td>\n",
       "      <td>0.683152</td>\n",
       "      <td>0.656725</td>\n",
       "      <td>27.677316</td>\n",
       "      <td>28.633473</td>\n",
       "    </tr>\n",
       "    <tr>\n",
       "      <th>0</th>\n",
       "      <td>2</td>\n",
       "      <td>0.15689544</td>\n",
       "      <td>0.18670237</td>\n",
       "      <td>0.743683</td>\n",
       "      <td>0.673583</td>\n",
       "      <td>24.67042</td>\n",
       "      <td>27.662563</td>\n",
       "    </tr>\n",
       "  </tbody>\n",
       "</table>\n",
       "</div>"
      ],
      "text/plain": [
       "  Epoch  Train Loss Validation Loss Train QWK Validation QWK Train RMSE  \\\n",
       "0     0   0.3177377      0.23218523  0.656546       0.623229    29.5122   \n",
       "0     1  0.17231636      0.17161712  0.683152       0.656725  27.677316   \n",
       "0     2  0.15689544      0.18670237  0.743683       0.673583   24.67042   \n",
       "\n",
       "  Validation RMSE  \n",
       "0        31.28709  \n",
       "0       28.633473  \n",
       "0       27.662563  "
      ]
     },
     "metadata": {},
     "output_type": "display_data"
    },
    {
     "name": "stderr",
     "output_type": "stream",
     "text": [
      "Metric val_qwk improved by 0.017 >= min_delta = 0.0. New best score: 0.674\n"
     ]
    },
    {
     "data": {
      "application/vnd.jupyter.widget-view+json": {
       "model_id": "4bca716ea92046f99d0162f43dd3c984",
       "version_major": 2,
       "version_minor": 0
      },
      "text/plain": [
       "Validation: |          | 0/? [00:00<?, ?it/s]"
      ]
     },
     "metadata": {},
     "output_type": "display_data"
    },
    {
     "data": {
      "application/vnd.jupyter.widget-view+json": {
       "model_id": "5134e0cc3c54435988565e6ac4e94f23",
       "version_major": 2,
       "version_minor": 0
      },
      "text/plain": [
       "Obtaining predictions:   0%|          | 0/182 [00:00<?, ?it/s]"
      ]
     },
     "metadata": {},
     "output_type": "display_data"
    },
    {
     "data": {
      "application/vnd.jupyter.widget-view+json": {
       "model_id": "6547a7d18cdc41b983ae4df122cbc0df",
       "version_major": 2,
       "version_minor": 0
      },
      "text/plain": [
       "Obtaining predictions:   0%|          | 0/21 [00:00<?, ?it/s]"
      ]
     },
     "metadata": {},
     "output_type": "display_data"
    },
    {
     "data": {
      "text/html": [
       "<div>\n",
       "<style scoped>\n",
       "    .dataframe tbody tr th:only-of-type {\n",
       "        vertical-align: middle;\n",
       "    }\n",
       "\n",
       "    .dataframe tbody tr th {\n",
       "        vertical-align: top;\n",
       "    }\n",
       "\n",
       "    .dataframe thead th {\n",
       "        text-align: right;\n",
       "    }\n",
       "</style>\n",
       "<table border=\"1\" class=\"dataframe\">\n",
       "  <thead>\n",
       "    <tr style=\"text-align: right;\">\n",
       "      <th></th>\n",
       "      <th>Epoch</th>\n",
       "      <th>Train Loss</th>\n",
       "      <th>Validation Loss</th>\n",
       "      <th>Train QWK</th>\n",
       "      <th>Validation QWK</th>\n",
       "      <th>Train RMSE</th>\n",
       "      <th>Validation RMSE</th>\n",
       "    </tr>\n",
       "  </thead>\n",
       "  <tbody>\n",
       "    <tr>\n",
       "      <th>0</th>\n",
       "      <td>0</td>\n",
       "      <td>0.3177377</td>\n",
       "      <td>0.23218523</td>\n",
       "      <td>0.656546</td>\n",
       "      <td>0.623229</td>\n",
       "      <td>29.5122</td>\n",
       "      <td>31.28709</td>\n",
       "    </tr>\n",
       "    <tr>\n",
       "      <th>0</th>\n",
       "      <td>1</td>\n",
       "      <td>0.17231636</td>\n",
       "      <td>0.17161712</td>\n",
       "      <td>0.683152</td>\n",
       "      <td>0.656725</td>\n",
       "      <td>27.677316</td>\n",
       "      <td>28.633473</td>\n",
       "    </tr>\n",
       "    <tr>\n",
       "      <th>0</th>\n",
       "      <td>2</td>\n",
       "      <td>0.15689544</td>\n",
       "      <td>0.18670237</td>\n",
       "      <td>0.743683</td>\n",
       "      <td>0.673583</td>\n",
       "      <td>24.67042</td>\n",
       "      <td>27.662563</td>\n",
       "    </tr>\n",
       "    <tr>\n",
       "      <th>0</th>\n",
       "      <td>3</td>\n",
       "      <td>0.12960032</td>\n",
       "      <td>0.17362837</td>\n",
       "      <td>0.80038</td>\n",
       "      <td>0.657236</td>\n",
       "      <td>21.970577</td>\n",
       "      <td>28.72011</td>\n",
       "    </tr>\n",
       "  </tbody>\n",
       "</table>\n",
       "</div>"
      ],
      "text/plain": [
       "  Epoch  Train Loss Validation Loss Train QWK Validation QWK Train RMSE  \\\n",
       "0     0   0.3177377      0.23218523  0.656546       0.623229    29.5122   \n",
       "0     1  0.17231636      0.17161712  0.683152       0.656725  27.677316   \n",
       "0     2  0.15689544      0.18670237  0.743683       0.673583   24.67042   \n",
       "0     3  0.12960032      0.17362837   0.80038       0.657236  21.970577   \n",
       "\n",
       "  Validation RMSE  \n",
       "0        31.28709  \n",
       "0       28.633473  \n",
       "0       27.662563  \n",
       "0        28.72011  "
      ]
     },
     "metadata": {},
     "output_type": "display_data"
    },
    {
     "data": {
      "application/vnd.jupyter.widget-view+json": {
       "model_id": "95b6c47fdeb24379abf65a5c28c651cb",
       "version_major": 2,
       "version_minor": 0
      },
      "text/plain": [
       "Validation: |          | 0/? [00:00<?, ?it/s]"
      ]
     },
     "metadata": {},
     "output_type": "display_data"
    },
    {
     "data": {
      "application/vnd.jupyter.widget-view+json": {
       "model_id": "aeafb440681d4936a4dfa8dad6554a2f",
       "version_major": 2,
       "version_minor": 0
      },
      "text/plain": [
       "Obtaining predictions:   0%|          | 0/182 [00:00<?, ?it/s]"
      ]
     },
     "metadata": {},
     "output_type": "display_data"
    },
    {
     "data": {
      "application/vnd.jupyter.widget-view+json": {
       "model_id": "ffa6fffba5d24fcbbbe6f87d5ac65f5f",
       "version_major": 2,
       "version_minor": 0
      },
      "text/plain": [
       "Obtaining predictions:   0%|          | 0/21 [00:00<?, ?it/s]"
      ]
     },
     "metadata": {},
     "output_type": "display_data"
    },
    {
     "data": {
      "text/html": [
       "<div>\n",
       "<style scoped>\n",
       "    .dataframe tbody tr th:only-of-type {\n",
       "        vertical-align: middle;\n",
       "    }\n",
       "\n",
       "    .dataframe tbody tr th {\n",
       "        vertical-align: top;\n",
       "    }\n",
       "\n",
       "    .dataframe thead th {\n",
       "        text-align: right;\n",
       "    }\n",
       "</style>\n",
       "<table border=\"1\" class=\"dataframe\">\n",
       "  <thead>\n",
       "    <tr style=\"text-align: right;\">\n",
       "      <th></th>\n",
       "      <th>Epoch</th>\n",
       "      <th>Train Loss</th>\n",
       "      <th>Validation Loss</th>\n",
       "      <th>Train QWK</th>\n",
       "      <th>Validation QWK</th>\n",
       "      <th>Train RMSE</th>\n",
       "      <th>Validation RMSE</th>\n",
       "    </tr>\n",
       "  </thead>\n",
       "  <tbody>\n",
       "    <tr>\n",
       "      <th>0</th>\n",
       "      <td>0</td>\n",
       "      <td>0.3177377</td>\n",
       "      <td>0.23218523</td>\n",
       "      <td>0.656546</td>\n",
       "      <td>0.623229</td>\n",
       "      <td>29.5122</td>\n",
       "      <td>31.28709</td>\n",
       "    </tr>\n",
       "    <tr>\n",
       "      <th>0</th>\n",
       "      <td>1</td>\n",
       "      <td>0.17231636</td>\n",
       "      <td>0.17161712</td>\n",
       "      <td>0.683152</td>\n",
       "      <td>0.656725</td>\n",
       "      <td>27.677316</td>\n",
       "      <td>28.633473</td>\n",
       "    </tr>\n",
       "    <tr>\n",
       "      <th>0</th>\n",
       "      <td>2</td>\n",
       "      <td>0.15689544</td>\n",
       "      <td>0.18670237</td>\n",
       "      <td>0.743683</td>\n",
       "      <td>0.673583</td>\n",
       "      <td>24.67042</td>\n",
       "      <td>27.662563</td>\n",
       "    </tr>\n",
       "    <tr>\n",
       "      <th>0</th>\n",
       "      <td>3</td>\n",
       "      <td>0.12960032</td>\n",
       "      <td>0.17362837</td>\n",
       "      <td>0.80038</td>\n",
       "      <td>0.657236</td>\n",
       "      <td>21.970577</td>\n",
       "      <td>28.72011</td>\n",
       "    </tr>\n",
       "    <tr>\n",
       "      <th>0</th>\n",
       "      <td>4</td>\n",
       "      <td>0.091539524</td>\n",
       "      <td>0.19856247</td>\n",
       "      <td>0.933497</td>\n",
       "      <td>0.698094</td>\n",
       "      <td>13.581851</td>\n",
       "      <td>27.391797</td>\n",
       "    </tr>\n",
       "  </tbody>\n",
       "</table>\n",
       "</div>"
      ],
      "text/plain": [
       "  Epoch   Train Loss Validation Loss Train QWK Validation QWK Train RMSE  \\\n",
       "0     0    0.3177377      0.23218523  0.656546       0.623229    29.5122   \n",
       "0     1   0.17231636      0.17161712  0.683152       0.656725  27.677316   \n",
       "0     2   0.15689544      0.18670237  0.743683       0.673583   24.67042   \n",
       "0     3   0.12960032      0.17362837   0.80038       0.657236  21.970577   \n",
       "0     4  0.091539524      0.19856247  0.933497       0.698094  13.581851   \n",
       "\n",
       "  Validation RMSE  \n",
       "0        31.28709  \n",
       "0       28.633473  \n",
       "0       27.662563  \n",
       "0        28.72011  \n",
       "0       27.391797  "
      ]
     },
     "metadata": {},
     "output_type": "display_data"
    },
    {
     "name": "stderr",
     "output_type": "stream",
     "text": [
      "Metric val_qwk improved by 0.025 >= min_delta = 0.0. New best score: 0.698\n"
     ]
    },
    {
     "data": {
      "application/vnd.jupyter.widget-view+json": {
       "model_id": "876a85e454334861812fe3e6102d6a11",
       "version_major": 2,
       "version_minor": 0
      },
      "text/plain": [
       "Validation: |          | 0/? [00:00<?, ?it/s]"
      ]
     },
     "metadata": {},
     "output_type": "display_data"
    },
    {
     "data": {
      "application/vnd.jupyter.widget-view+json": {
       "model_id": "0f66d293d7744f71905b6f229da7de38",
       "version_major": 2,
       "version_minor": 0
      },
      "text/plain": [
       "Obtaining predictions:   0%|          | 0/182 [00:00<?, ?it/s]"
      ]
     },
     "metadata": {},
     "output_type": "display_data"
    },
    {
     "data": {
      "application/vnd.jupyter.widget-view+json": {
       "model_id": "23185789caa04074a6e5e9d023d43637",
       "version_major": 2,
       "version_minor": 0
      },
      "text/plain": [
       "Obtaining predictions:   0%|          | 0/21 [00:00<?, ?it/s]"
      ]
     },
     "metadata": {},
     "output_type": "display_data"
    },
    {
     "data": {
      "text/html": [
       "<div>\n",
       "<style scoped>\n",
       "    .dataframe tbody tr th:only-of-type {\n",
       "        vertical-align: middle;\n",
       "    }\n",
       "\n",
       "    .dataframe tbody tr th {\n",
       "        vertical-align: top;\n",
       "    }\n",
       "\n",
       "    .dataframe thead th {\n",
       "        text-align: right;\n",
       "    }\n",
       "</style>\n",
       "<table border=\"1\" class=\"dataframe\">\n",
       "  <thead>\n",
       "    <tr style=\"text-align: right;\">\n",
       "      <th></th>\n",
       "      <th>Epoch</th>\n",
       "      <th>Train Loss</th>\n",
       "      <th>Validation Loss</th>\n",
       "      <th>Train QWK</th>\n",
       "      <th>Validation QWK</th>\n",
       "      <th>Train RMSE</th>\n",
       "      <th>Validation RMSE</th>\n",
       "    </tr>\n",
       "  </thead>\n",
       "  <tbody>\n",
       "    <tr>\n",
       "      <th>0</th>\n",
       "      <td>0</td>\n",
       "      <td>0.3177377</td>\n",
       "      <td>0.23218523</td>\n",
       "      <td>0.656546</td>\n",
       "      <td>0.623229</td>\n",
       "      <td>29.5122</td>\n",
       "      <td>31.28709</td>\n",
       "    </tr>\n",
       "    <tr>\n",
       "      <th>0</th>\n",
       "      <td>1</td>\n",
       "      <td>0.17231636</td>\n",
       "      <td>0.17161712</td>\n",
       "      <td>0.683152</td>\n",
       "      <td>0.656725</td>\n",
       "      <td>27.677316</td>\n",
       "      <td>28.633473</td>\n",
       "    </tr>\n",
       "    <tr>\n",
       "      <th>0</th>\n",
       "      <td>2</td>\n",
       "      <td>0.15689544</td>\n",
       "      <td>0.18670237</td>\n",
       "      <td>0.743683</td>\n",
       "      <td>0.673583</td>\n",
       "      <td>24.67042</td>\n",
       "      <td>27.662563</td>\n",
       "    </tr>\n",
       "    <tr>\n",
       "      <th>0</th>\n",
       "      <td>3</td>\n",
       "      <td>0.12960032</td>\n",
       "      <td>0.17362837</td>\n",
       "      <td>0.80038</td>\n",
       "      <td>0.657236</td>\n",
       "      <td>21.970577</td>\n",
       "      <td>28.72011</td>\n",
       "    </tr>\n",
       "    <tr>\n",
       "      <th>0</th>\n",
       "      <td>4</td>\n",
       "      <td>0.091539524</td>\n",
       "      <td>0.19856247</td>\n",
       "      <td>0.933497</td>\n",
       "      <td>0.698094</td>\n",
       "      <td>13.581851</td>\n",
       "      <td>27.391797</td>\n",
       "    </tr>\n",
       "    <tr>\n",
       "      <th>0</th>\n",
       "      <td>5</td>\n",
       "      <td>0.06311048</td>\n",
       "      <td>0.24728142</td>\n",
       "      <td>0.909902</td>\n",
       "      <td>0.604642</td>\n",
       "      <td>15.230368</td>\n",
       "      <td>30.401046</td>\n",
       "    </tr>\n",
       "  </tbody>\n",
       "</table>\n",
       "</div>"
      ],
      "text/plain": [
       "  Epoch   Train Loss Validation Loss Train QWK Validation QWK Train RMSE  \\\n",
       "0     0    0.3177377      0.23218523  0.656546       0.623229    29.5122   \n",
       "0     1   0.17231636      0.17161712  0.683152       0.656725  27.677316   \n",
       "0     2   0.15689544      0.18670237  0.743683       0.673583   24.67042   \n",
       "0     3   0.12960032      0.17362837   0.80038       0.657236  21.970577   \n",
       "0     4  0.091539524      0.19856247  0.933497       0.698094  13.581851   \n",
       "0     5   0.06311048      0.24728142  0.909902       0.604642  15.230368   \n",
       "\n",
       "  Validation RMSE  \n",
       "0        31.28709  \n",
       "0       28.633473  \n",
       "0       27.662563  \n",
       "0        28.72011  \n",
       "0       27.391797  \n",
       "0       30.401046  "
      ]
     },
     "metadata": {},
     "output_type": "display_data"
    },
    {
     "data": {
      "application/vnd.jupyter.widget-view+json": {
       "model_id": "e3997f1b37ab45bfb5cae03363fe0f98",
       "version_major": 2,
       "version_minor": 0
      },
      "text/plain": [
       "Validation: |          | 0/? [00:00<?, ?it/s]"
      ]
     },
     "metadata": {},
     "output_type": "display_data"
    },
    {
     "data": {
      "application/vnd.jupyter.widget-view+json": {
       "model_id": "2baf24a078da45aca937caabfb8cfee7",
       "version_major": 2,
       "version_minor": 0
      },
      "text/plain": [
       "Obtaining predictions:   0%|          | 0/182 [00:00<?, ?it/s]"
      ]
     },
     "metadata": {},
     "output_type": "display_data"
    },
    {
     "data": {
      "application/vnd.jupyter.widget-view+json": {
       "model_id": "8642d45ea63c4e2aa2edb46abeb7c542",
       "version_major": 2,
       "version_minor": 0
      },
      "text/plain": [
       "Obtaining predictions:   0%|          | 0/21 [00:00<?, ?it/s]"
      ]
     },
     "metadata": {},
     "output_type": "display_data"
    },
    {
     "data": {
      "text/html": [
       "<div>\n",
       "<style scoped>\n",
       "    .dataframe tbody tr th:only-of-type {\n",
       "        vertical-align: middle;\n",
       "    }\n",
       "\n",
       "    .dataframe tbody tr th {\n",
       "        vertical-align: top;\n",
       "    }\n",
       "\n",
       "    .dataframe thead th {\n",
       "        text-align: right;\n",
       "    }\n",
       "</style>\n",
       "<table border=\"1\" class=\"dataframe\">\n",
       "  <thead>\n",
       "    <tr style=\"text-align: right;\">\n",
       "      <th></th>\n",
       "      <th>Epoch</th>\n",
       "      <th>Train Loss</th>\n",
       "      <th>Validation Loss</th>\n",
       "      <th>Train QWK</th>\n",
       "      <th>Validation QWK</th>\n",
       "      <th>Train RMSE</th>\n",
       "      <th>Validation RMSE</th>\n",
       "    </tr>\n",
       "  </thead>\n",
       "  <tbody>\n",
       "    <tr>\n",
       "      <th>0</th>\n",
       "      <td>0</td>\n",
       "      <td>0.3177377</td>\n",
       "      <td>0.23218523</td>\n",
       "      <td>0.656546</td>\n",
       "      <td>0.623229</td>\n",
       "      <td>29.5122</td>\n",
       "      <td>31.28709</td>\n",
       "    </tr>\n",
       "    <tr>\n",
       "      <th>0</th>\n",
       "      <td>1</td>\n",
       "      <td>0.17231636</td>\n",
       "      <td>0.17161712</td>\n",
       "      <td>0.683152</td>\n",
       "      <td>0.656725</td>\n",
       "      <td>27.677316</td>\n",
       "      <td>28.633473</td>\n",
       "    </tr>\n",
       "    <tr>\n",
       "      <th>0</th>\n",
       "      <td>2</td>\n",
       "      <td>0.15689544</td>\n",
       "      <td>0.18670237</td>\n",
       "      <td>0.743683</td>\n",
       "      <td>0.673583</td>\n",
       "      <td>24.67042</td>\n",
       "      <td>27.662563</td>\n",
       "    </tr>\n",
       "    <tr>\n",
       "      <th>0</th>\n",
       "      <td>3</td>\n",
       "      <td>0.12960032</td>\n",
       "      <td>0.17362837</td>\n",
       "      <td>0.80038</td>\n",
       "      <td>0.657236</td>\n",
       "      <td>21.970577</td>\n",
       "      <td>28.72011</td>\n",
       "    </tr>\n",
       "    <tr>\n",
       "      <th>0</th>\n",
       "      <td>4</td>\n",
       "      <td>0.091539524</td>\n",
       "      <td>0.19856247</td>\n",
       "      <td>0.933497</td>\n",
       "      <td>0.698094</td>\n",
       "      <td>13.581851</td>\n",
       "      <td>27.391797</td>\n",
       "    </tr>\n",
       "    <tr>\n",
       "      <th>0</th>\n",
       "      <td>5</td>\n",
       "      <td>0.06311048</td>\n",
       "      <td>0.24728142</td>\n",
       "      <td>0.909902</td>\n",
       "      <td>0.604642</td>\n",
       "      <td>15.230368</td>\n",
       "      <td>30.401046</td>\n",
       "    </tr>\n",
       "    <tr>\n",
       "      <th>0</th>\n",
       "      <td>6</td>\n",
       "      <td>0.04823941</td>\n",
       "      <td>0.2575669</td>\n",
       "      <td>0.966603</td>\n",
       "      <td>0.640834</td>\n",
       "      <td>9.859209</td>\n",
       "      <td>30.887494</td>\n",
       "    </tr>\n",
       "  </tbody>\n",
       "</table>\n",
       "</div>"
      ],
      "text/plain": [
       "  Epoch   Train Loss Validation Loss Train QWK Validation QWK Train RMSE  \\\n",
       "0     0    0.3177377      0.23218523  0.656546       0.623229    29.5122   \n",
       "0     1   0.17231636      0.17161712  0.683152       0.656725  27.677316   \n",
       "0     2   0.15689544      0.18670237  0.743683       0.673583   24.67042   \n",
       "0     3   0.12960032      0.17362837   0.80038       0.657236  21.970577   \n",
       "0     4  0.091539524      0.19856247  0.933497       0.698094  13.581851   \n",
       "0     5   0.06311048      0.24728142  0.909902       0.604642  15.230368   \n",
       "0     6   0.04823941       0.2575669  0.966603       0.640834   9.859209   \n",
       "\n",
       "  Validation RMSE  \n",
       "0        31.28709  \n",
       "0       28.633473  \n",
       "0       27.662563  \n",
       "0        28.72011  \n",
       "0       27.391797  \n",
       "0       30.401046  \n",
       "0       30.887494  "
      ]
     },
     "metadata": {},
     "output_type": "display_data"
    },
    {
     "data": {
      "application/vnd.jupyter.widget-view+json": {
       "model_id": "64572643ee5f44998d686152525eb9b7",
       "version_major": 2,
       "version_minor": 0
      },
      "text/plain": [
       "Validation: |          | 0/? [00:00<?, ?it/s]"
      ]
     },
     "metadata": {},
     "output_type": "display_data"
    },
    {
     "data": {
      "application/vnd.jupyter.widget-view+json": {
       "model_id": "1190507713894233bb7f16a4560c5171",
       "version_major": 2,
       "version_minor": 0
      },
      "text/plain": [
       "Obtaining predictions:   0%|          | 0/182 [00:00<?, ?it/s]"
      ]
     },
     "metadata": {},
     "output_type": "display_data"
    },
    {
     "data": {
      "application/vnd.jupyter.widget-view+json": {
       "model_id": "63565d302da04540b3563f4ae92d4230",
       "version_major": 2,
       "version_minor": 0
      },
      "text/plain": [
       "Obtaining predictions:   0%|          | 0/21 [00:00<?, ?it/s]"
      ]
     },
     "metadata": {},
     "output_type": "display_data"
    },
    {
     "data": {
      "text/html": [
       "<div>\n",
       "<style scoped>\n",
       "    .dataframe tbody tr th:only-of-type {\n",
       "        vertical-align: middle;\n",
       "    }\n",
       "\n",
       "    .dataframe tbody tr th {\n",
       "        vertical-align: top;\n",
       "    }\n",
       "\n",
       "    .dataframe thead th {\n",
       "        text-align: right;\n",
       "    }\n",
       "</style>\n",
       "<table border=\"1\" class=\"dataframe\">\n",
       "  <thead>\n",
       "    <tr style=\"text-align: right;\">\n",
       "      <th></th>\n",
       "      <th>Epoch</th>\n",
       "      <th>Train Loss</th>\n",
       "      <th>Validation Loss</th>\n",
       "      <th>Train QWK</th>\n",
       "      <th>Validation QWK</th>\n",
       "      <th>Train RMSE</th>\n",
       "      <th>Validation RMSE</th>\n",
       "    </tr>\n",
       "  </thead>\n",
       "  <tbody>\n",
       "    <tr>\n",
       "      <th>0</th>\n",
       "      <td>0</td>\n",
       "      <td>0.3177377</td>\n",
       "      <td>0.23218523</td>\n",
       "      <td>0.656546</td>\n",
       "      <td>0.623229</td>\n",
       "      <td>29.5122</td>\n",
       "      <td>31.28709</td>\n",
       "    </tr>\n",
       "    <tr>\n",
       "      <th>0</th>\n",
       "      <td>1</td>\n",
       "      <td>0.17231636</td>\n",
       "      <td>0.17161712</td>\n",
       "      <td>0.683152</td>\n",
       "      <td>0.656725</td>\n",
       "      <td>27.677316</td>\n",
       "      <td>28.633473</td>\n",
       "    </tr>\n",
       "    <tr>\n",
       "      <th>0</th>\n",
       "      <td>2</td>\n",
       "      <td>0.15689544</td>\n",
       "      <td>0.18670237</td>\n",
       "      <td>0.743683</td>\n",
       "      <td>0.673583</td>\n",
       "      <td>24.67042</td>\n",
       "      <td>27.662563</td>\n",
       "    </tr>\n",
       "    <tr>\n",
       "      <th>0</th>\n",
       "      <td>3</td>\n",
       "      <td>0.12960032</td>\n",
       "      <td>0.17362837</td>\n",
       "      <td>0.80038</td>\n",
       "      <td>0.657236</td>\n",
       "      <td>21.970577</td>\n",
       "      <td>28.72011</td>\n",
       "    </tr>\n",
       "    <tr>\n",
       "      <th>0</th>\n",
       "      <td>4</td>\n",
       "      <td>0.091539524</td>\n",
       "      <td>0.19856247</td>\n",
       "      <td>0.933497</td>\n",
       "      <td>0.698094</td>\n",
       "      <td>13.581851</td>\n",
       "      <td>27.391797</td>\n",
       "    </tr>\n",
       "    <tr>\n",
       "      <th>0</th>\n",
       "      <td>5</td>\n",
       "      <td>0.06311048</td>\n",
       "      <td>0.24728142</td>\n",
       "      <td>0.909902</td>\n",
       "      <td>0.604642</td>\n",
       "      <td>15.230368</td>\n",
       "      <td>30.401046</td>\n",
       "    </tr>\n",
       "    <tr>\n",
       "      <th>0</th>\n",
       "      <td>6</td>\n",
       "      <td>0.04823941</td>\n",
       "      <td>0.2575669</td>\n",
       "      <td>0.966603</td>\n",
       "      <td>0.640834</td>\n",
       "      <td>9.859209</td>\n",
       "      <td>30.887494</td>\n",
       "    </tr>\n",
       "    <tr>\n",
       "      <th>0</th>\n",
       "      <td>7</td>\n",
       "      <td>0.026349239</td>\n",
       "      <td>0.26012075</td>\n",
       "      <td>0.975605</td>\n",
       "      <td>0.591611</td>\n",
       "      <td>8.174824</td>\n",
       "      <td>30.7262</td>\n",
       "    </tr>\n",
       "  </tbody>\n",
       "</table>\n",
       "</div>"
      ],
      "text/plain": [
       "  Epoch   Train Loss Validation Loss Train QWK Validation QWK Train RMSE  \\\n",
       "0     0    0.3177377      0.23218523  0.656546       0.623229    29.5122   \n",
       "0     1   0.17231636      0.17161712  0.683152       0.656725  27.677316   \n",
       "0     2   0.15689544      0.18670237  0.743683       0.673583   24.67042   \n",
       "0     3   0.12960032      0.17362837   0.80038       0.657236  21.970577   \n",
       "0     4  0.091539524      0.19856247  0.933497       0.698094  13.581851   \n",
       "0     5   0.06311048      0.24728142  0.909902       0.604642  15.230368   \n",
       "0     6   0.04823941       0.2575669  0.966603       0.640834   9.859209   \n",
       "0     7  0.026349239      0.26012075  0.975605       0.591611   8.174824   \n",
       "\n",
       "  Validation RMSE  \n",
       "0        31.28709  \n",
       "0       28.633473  \n",
       "0       27.662563  \n",
       "0        28.72011  \n",
       "0       27.391797  \n",
       "0       30.401046  \n",
       "0       30.887494  \n",
       "0         30.7262  "
      ]
     },
     "metadata": {},
     "output_type": "display_data"
    },
    {
     "name": "stderr",
     "output_type": "stream",
     "text": [
      "Monitored metric val_qwk did not improve in the last 3 records. Best score: 0.698. Signaling Trainer to stop.\n"
     ]
    }
   ],
   "source": [
    "trainer.fit(model=ligthning_model, train_dataloaders=dataset_train, val_dataloaders=dataset_val)"
   ]
  },
  {
   "cell_type": "code",
   "execution_count": 17,
   "metadata": {},
   "outputs": [
    {
     "data": {
      "application/vnd.jupyter.widget-view+json": {
       "model_id": "30b2b7cb4d9f4495b62a7de894f018e3",
       "version_major": 2,
       "version_minor": 0
      },
      "text/plain": [
       "Obtaining predictions:   0%|          | 0/21 [00:00<?, ?it/s]"
      ]
     },
     "metadata": {},
     "output_type": "display_data"
    },
    {
     "name": "stdout",
     "output_type": "stream",
     "text": [
      "RMSE on the validation set:  27.3918\n"
     ]
    }
   ],
   "source": [
    "best_model = LightningGradePredictor.load_from_checkpoint(checkpoint_callback.best_model_path, \n",
    "                                                  model=ligthning_model.model, \n",
    "                                                  loss_function=ligthning_model.loss)\n",
    "best_model.model.eval()\n",
    "all_predictions, all_true_labels = get_predictions_and_labels(best_model.model, dataset_val)\n",
    "rmse_val = mean_squared_error(all_true_labels, all_predictions, squared=False)\n",
    "print(f\"RMSE on the validation set: {rmse_val: .4f}\")"
   ]
  },
  {
   "cell_type": "code",
   "execution_count": 18,
   "metadata": {},
   "outputs": [],
   "source": [
    "def compute_metrics(model, dataset, test_group):\n",
    "    all_predictions, all_true_labels = get_predictions_and_labels(model, dataset)\n",
    "    accuracy = accuracy_score(all_true_labels, all_predictions)\n",
    "    qwk = cohen_kappa_score(all_true_labels, all_predictions, weights=\"quadratic\", labels=[0,40,80,120,160,200]) \n",
    "    rmse = mean_squared_error(all_true_labels, all_predictions, squared=False)\n",
    "    horizontal_discrepancy = enem_accuracy_score(all_true_labels, all_predictions)\n",
    "    result = {\n",
    "        'Experiment Reference': EXPERIMENT_NAME,\n",
    "        'Test Group': test_group,\n",
    "        'Competence': REFERENCE_CONCEPT,\n",
    "        'Accuracy': [accuracy],\n",
    "        'RMSE': [rmse],\n",
    "        'QWK': [qwk],\n",
    "        'HDIV': [1- horizontal_discrepancy]\n",
    "    }\n",
    "    return pd.DataFrame(result)"
   ]
  },
  {
   "cell_type": "code",
   "execution_count": 19,
   "metadata": {},
   "outputs": [
    {
     "data": {
      "application/vnd.jupyter.widget-view+json": {
       "model_id": "e196df7e90e7421aa402d1d83c1507e1",
       "version_major": 2,
       "version_minor": 0
      },
      "text/plain": [
       "Obtaining predictions:   0%|          | 0/21 [00:00<?, ?it/s]"
      ]
     },
     "metadata": {},
     "output_type": "display_data"
    },
    {
     "data": {
      "text/html": [
       "<div>\n",
       "<style scoped>\n",
       "    .dataframe tbody tr th:only-of-type {\n",
       "        vertical-align: middle;\n",
       "    }\n",
       "\n",
       "    .dataframe tbody tr th {\n",
       "        vertical-align: top;\n",
       "    }\n",
       "\n",
       "    .dataframe thead th {\n",
       "        text-align: right;\n",
       "    }\n",
       "</style>\n",
       "<table border=\"1\" class=\"dataframe\">\n",
       "  <thead>\n",
       "    <tr style=\"text-align: right;\">\n",
       "      <th></th>\n",
       "      <th>Experiment Reference</th>\n",
       "      <th>Test Group</th>\n",
       "      <th>Competence</th>\n",
       "      <th>Accuracy</th>\n",
       "      <th>RMSE</th>\n",
       "      <th>QWK</th>\n",
       "      <th>HDIV</th>\n",
       "    </tr>\n",
       "  </thead>\n",
       "  <tbody>\n",
       "    <tr>\n",
       "      <th>0</th>\n",
       "      <td>aes_enem_models-sourceB-ordinal-base-C4</td>\n",
       "      <td>validation</td>\n",
       "      <td>3</td>\n",
       "      <td>0.673913</td>\n",
       "      <td>27.391797</td>\n",
       "      <td>0.698094</td>\n",
       "      <td>0.006211</td>\n",
       "    </tr>\n",
       "  </tbody>\n",
       "</table>\n",
       "</div>"
      ],
      "text/plain": [
       "                      Experiment Reference  Test Group  Competence  Accuracy  \\\n",
       "0  aes_enem_models-sourceB-ordinal-base-C4  validation           3  0.673913   \n",
       "\n",
       "        RMSE       QWK      HDIV  \n",
       "0  27.391797  0.698094  0.006211  "
      ]
     },
     "execution_count": 19,
     "metadata": {},
     "output_type": "execute_result"
    }
   ],
   "source": [
    "compute_metrics(model, dataset_val, \"validation\")"
   ]
  },
  {
   "cell_type": "code",
   "execution_count": 20,
   "metadata": {},
   "outputs": [
    {
     "data": {
      "text/plain": [
       "'model_logs/aes_enem_models-sourceB-ordinal-base-C4/version_0/checkpoints/epoch=4-step=910.ckpt'"
      ]
     },
     "metadata": {},
     "output_type": "display_data"
    },
    {
     "data": {
      "text/plain": [
       "tensor(0.6981, device='cuda:0')"
      ]
     },
     "metadata": {},
     "output_type": "display_data"
    }
   ],
   "source": [
    "display(checkpoint_callback.best_model_path)\n",
    "display(checkpoint_callback.best_model_score)"
   ]
  },
  {
   "cell_type": "code",
   "execution_count": 21,
   "metadata": {},
   "outputs": [],
   "source": [
    "best_model = LightningGradePredictor.load_from_checkpoint(checkpoint_callback.best_model_path,\n",
    "                                                  model=ligthning_model.model, \n",
    "                                                  )"
   ]
  },
  {
   "cell_type": "code",
   "execution_count": 22,
   "metadata": {},
   "outputs": [
    {
     "data": {
      "application/vnd.jupyter.widget-view+json": {
       "model_id": "503fdc4d7992432fbad12e5d09ceae6d",
       "version_major": 2,
       "version_minor": 0
      },
      "text/plain": [
       "Obtaining predictions:   0%|          | 0/21 [00:00<?, ?it/s]"
      ]
     },
     "metadata": {},
     "output_type": "display_data"
    },
    {
     "data": {
      "text/html": [
       "<div>\n",
       "<style scoped>\n",
       "    .dataframe tbody tr th:only-of-type {\n",
       "        vertical-align: middle;\n",
       "    }\n",
       "\n",
       "    .dataframe tbody tr th {\n",
       "        vertical-align: top;\n",
       "    }\n",
       "\n",
       "    .dataframe thead th {\n",
       "        text-align: right;\n",
       "    }\n",
       "</style>\n",
       "<table border=\"1\" class=\"dataframe\">\n",
       "  <thead>\n",
       "    <tr style=\"text-align: right;\">\n",
       "      <th></th>\n",
       "      <th>Experiment Reference</th>\n",
       "      <th>Test Group</th>\n",
       "      <th>Competence</th>\n",
       "      <th>Accuracy</th>\n",
       "      <th>RMSE</th>\n",
       "      <th>QWK</th>\n",
       "      <th>HDIV</th>\n",
       "    </tr>\n",
       "  </thead>\n",
       "  <tbody>\n",
       "    <tr>\n",
       "      <th>0</th>\n",
       "      <td>aes_enem_models-sourceB-ordinal-base-C4</td>\n",
       "      <td>validation</td>\n",
       "      <td>3</td>\n",
       "      <td>0.673913</td>\n",
       "      <td>27.391797</td>\n",
       "      <td>0.698094</td>\n",
       "      <td>0.006211</td>\n",
       "    </tr>\n",
       "  </tbody>\n",
       "</table>\n",
       "</div>"
      ],
      "text/plain": [
       "                      Experiment Reference  Test Group  Competence  Accuracy  \\\n",
       "0  aes_enem_models-sourceB-ordinal-base-C4  validation           3  0.673913   \n",
       "\n",
       "        RMSE       QWK      HDIV  \n",
       "0  27.391797  0.698094  0.006211  "
      ]
     },
     "execution_count": 22,
     "metadata": {},
     "output_type": "execute_result"
    }
   ],
   "source": [
    "compute_metrics(model, dataset_val, \"validation\")"
   ]
  },
  {
   "cell_type": "code",
   "execution_count": 23,
   "metadata": {},
   "outputs": [
    {
     "data": {
      "text/plain": [
       "'model_checkpoints/hugging_face/pretraining/aes_enem_models-sourceB-ordinal-base-C4'"
      ]
     },
     "execution_count": 23,
     "metadata": {},
     "output_type": "execute_result"
    }
   ],
   "source": [
    "bert_save_path = f\"model_checkpoints/hugging_face/pretraining/{EXPERIMENT_NAME}\"\n",
    "bert_save_path"
   ]
  },
  {
   "cell_type": "code",
   "execution_count": 24,
   "metadata": {},
   "outputs": [],
   "source": [
    "best_model.model.save_pretrained(bert_save_path)"
   ]
  },
  {
   "cell_type": "markdown",
   "metadata": {},
   "source": [
    "Validation"
   ]
  },
  {
   "cell_type": "code",
   "execution_count": 25,
   "metadata": {},
   "outputs": [
    {
     "data": {
      "application/vnd.jupyter.widget-view+json": {
       "model_id": "217c217245fc44cb88df7237033985ea",
       "version_major": 2,
       "version_minor": 0
      },
      "text/plain": [
       "Obtaining predictions:   0%|          | 0/21 [00:00<?, ?it/s]"
      ]
     },
     "metadata": {},
     "output_type": "display_data"
    },
    {
     "data": {
      "text/html": [
       "<div>\n",
       "<style scoped>\n",
       "    .dataframe tbody tr th:only-of-type {\n",
       "        vertical-align: middle;\n",
       "    }\n",
       "\n",
       "    .dataframe tbody tr th {\n",
       "        vertical-align: top;\n",
       "    }\n",
       "\n",
       "    .dataframe thead th {\n",
       "        text-align: right;\n",
       "    }\n",
       "</style>\n",
       "<table border=\"1\" class=\"dataframe\">\n",
       "  <thead>\n",
       "    <tr style=\"text-align: right;\">\n",
       "      <th></th>\n",
       "      <th>Experiment Reference</th>\n",
       "      <th>Test Group</th>\n",
       "      <th>Competence</th>\n",
       "      <th>Accuracy</th>\n",
       "      <th>RMSE</th>\n",
       "      <th>QWK</th>\n",
       "      <th>HDIV</th>\n",
       "    </tr>\n",
       "  </thead>\n",
       "  <tbody>\n",
       "    <tr>\n",
       "      <th>0</th>\n",
       "      <td>aes_enem_models-sourceB-ordinal-base-C4</td>\n",
       "      <td>validation</td>\n",
       "      <td>3</td>\n",
       "      <td>0.673913</td>\n",
       "      <td>27.391797</td>\n",
       "      <td>0.698094</td>\n",
       "      <td>0.006211</td>\n",
       "    </tr>\n",
       "  </tbody>\n",
       "</table>\n",
       "</div>"
      ],
      "text/plain": [
       "                      Experiment Reference  Test Group  Competence  Accuracy  \\\n",
       "0  aes_enem_models-sourceB-ordinal-base-C4  validation           3  0.673913   \n",
       "\n",
       "        RMSE       QWK      HDIV  \n",
       "0  27.391797  0.698094  0.006211  "
      ]
     },
     "execution_count": 25,
     "metadata": {},
     "output_type": "execute_result"
    }
   ],
   "source": [
    "model = AutoModelForSequenceClassification.from_pretrained(\n",
    "            bert_save_path, \n",
    "            cache_dir=\"/tmp/\", \n",
    "            num_labels=6,\n",
    "        )\n",
    "compute_metrics(model, dataset_val, \"validation\")"
   ]
  }
 ],
 "metadata": {
  "kernelspec": {
   "display_name": "aes_enem",
   "language": "python",
   "name": "python3"
  },
  "language_info": {
   "codemirror_mode": {
    "name": "ipython",
    "version": 3
   },
   "file_extension": ".py",
   "mimetype": "text/x-python",
   "name": "python",
   "nbconvert_exporter": "python",
   "pygments_lexer": "ipython3",
   "version": "3.11.5"
  }
 },
 "nbformat": 4,
 "nbformat_minor": 2
}
